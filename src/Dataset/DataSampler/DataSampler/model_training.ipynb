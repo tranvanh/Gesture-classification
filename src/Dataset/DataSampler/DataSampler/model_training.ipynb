{
  "nbformat": 4,
  "nbformat_minor": 5,
  "metadata": {
    "accelerator": "GPU",
    "colab": {
      "name": "feature_computation.ipynb",
      "provenance": []
    },
    "kernelspec": {
      "display_name": "Python 3",
      "language": "python",
      "name": "python3"
    },
    "language_info": {
      "codemirror_mode": {
        "name": "ipython",
        "version": 3
      },
      "file_extension": ".py",
      "mimetype": "text/x-python",
      "name": "python",
      "nbconvert_exporter": "python",
      "pygments_lexer": "ipython3",
      "version": "3.8.8"
    }
  },
  "cells": [
    {
      "cell_type": "code",
      "metadata": {
        "id": "caring-species"
      },
      "source": [
        "import pandas as pd\n",
        "import numpy as np\n",
        "import os\n",
        "import math\n",
        "import tensorflow as tf\n",
        "from tensorflow.keras.models import Sequential, Model, load_model\n",
        "from tensorflow.keras.layers import Dense, Dropout, LSTM, BatchNormalization, Bidirectional\n",
        "from sklearn.utils import shuffle\n",
        "from sklearn.preprocessing import MinMaxScaler, StandardScaler\n",
        "physical_devices = tf.config.list_physical_devices('GPU')\n",
        "tf.config.experimental.set_memory_growth(physical_devices[0], enable=True)\n",
        "# dir_path = './' #local\n",
        "dir_path = './drive/MyDrive/BAKA/' #colab"
      ],
      "id": "caring-species",
      "execution_count": 8,
      "outputs": []
    },
    {
      "cell_type": "code",
      "metadata": {
        "colab": {
          "base_uri": "https://localhost:8080/"
        },
        "id": "KstfPbJfzIAV",
        "outputId": "8da4dba1-8ada-42c5-92a3-de2707e77223"
      },
      "source": [
        "#uncomment in colab\n",
        "from google.colab import drive\n",
        "drive.mount('/content/drive')\n",
        "# pd.read_csv(dir_path + 'DataCollection' + '/' + '1' + '/' + '0.txt', sep=' ', index_col=False )\n",
        "# test = np.genfromtxt(dir_path + 'DataCollection' + '/' + '1' + '/' + '0.txt', delimiter=' ',dtype='float64')\n",
        "df = pd.read_csv(dir_path + 'DataCollection' + '/' + '1' + '/' + '0.txt', header=None, sep=' ')\n",
        "# df.drop(df.index[60:])\n",
        "# filler = np.zeros((100-len(df), 31))\n",
        "# df = df.append(pd.DataFrame(filler), ignore_index=True )\n",
        "# df\n",
        "if len(df.columns) > 31:\n",
        "  df = df.drop(columns=[31])\n",
        "# df = df.drop(df.index[60:])\n",
        "# df\n",
        "# sp_df = np.array_split(df, 2)\n",
        "# sp_df[0]"
      ],
      "id": "KstfPbJfzIAV",
      "execution_count": 9,
      "outputs": [
        {
          "output_type": "stream",
          "text": [
            "Drive already mounted at /content/drive; to attempt to forcibly remount, call drive.mount(\"/content/drive\", force_remount=True).\n"
          ],
          "name": "stdout"
        }
      ]
    },
    {
      "cell_type": "code",
      "metadata": {
        "id": "LynMzTXVtjh_"
      },
      "source": [
        "# for i in ['6']:\r\n",
        "#     samples = os.listdir(dir_path + 'DataCollection' + '/' + i)\r\n",
        "#     num_tests = int(len(samples)/5);\r\n",
        "#     shuffle(samples, random_state = 0)\r\n",
        "#     for k in range(0, len(samples)):\r\n",
        "# #         df = np.genfromtxt(dir_path + 'DataCollection' + '/' + i + '/' + samples[k], delimiter=' ',dtype='float64')\r\n",
        "#         df = pd.read_csv(dir_path + 'DataCollection' + '/' + i + '/' + samples[k], header=None, sep=' ')\r\n",
        "#         df = df.drop(df.index[60:])\r\n",
        "#         if len(df.columns) > 31:\r\n",
        "#           df = df.drop(columns=[31])\r\n",
        "#         if df.isnull().values.any():\r\n",
        "#           print(i, \" \", samples[k])\r\n",
        "#         print(samples[k])\r\n",
        "#         display(df)\r\n",
        "#         # # if len(df) < 100:\r\n",
        "#         # #     filler = np.zeros((100-len(df), 31))\r\n",
        "#         # #     df = df.append(pd.DataFrame(filler), ignore_index=True )\r\n",
        "#         # x_test.append(df.to_numpy())\r\n",
        "#         # y_test.append(int(i));"
      ],
      "id": "LynMzTXVtjh_",
      "execution_count": null,
      "outputs": []
    },
    {
      "cell_type": "code",
      "metadata": {
        "colab": {
          "base_uri": "https://localhost:8080/"
        },
        "id": "signal-friendly",
        "outputId": "5214294f-097e-4404-8fbb-d69a0f4f328d"
      },
      "source": [
        "files = os.listdir(dir_path + 'DataCollection')\n",
        "files"
      ],
      "id": "signal-friendly",
      "execution_count": 10,
      "outputs": [
        {
          "output_type": "execute_result",
          "data": {
            "text/plain": [
              "['0', '2', '3', '4', '1', '5', '6']"
            ]
          },
          "metadata": {
            "tags": []
          },
          "execution_count": 10
        }
      ]
    },
    {
      "cell_type": "code",
      "metadata": {
        "colab": {
          "base_uri": "https://localhost:8080/"
        },
        "id": "annoying-rotation",
        "outputId": "a6f41c38-60f3-472d-bd9f-45c10fe31c39"
      },
      "source": [
        "x_train = [];\n",
        "y_train = [];\n",
        "\n",
        "x_test = [];\n",
        "y_test = [];\n",
        "for i in files:\n",
        "    samples = os.listdir(dir_path + 'DataCollection' + '/' + i)\n",
        "    num_tests = int(len(samples)/5);\n",
        "    shuffle(samples, random_state = 0)\n",
        "    for k in range(0, num_tests):\n",
        "#         df = np.genfromtxt(dir_path + 'DataCollection' + '/' + i + '/' + samples[k], delimiter=' ',dtype='float64')\n",
        "        df = pd.read_csv(dir_path + 'DataCollection' + '/' + i + '/' + samples[k], header=None, sep=' ')\n",
        "        df = df.drop(df.index[60:])\n",
        "        if len(df.columns) > 31:\n",
        "          df = df.drop(columns=[31])\n",
        "        if df.isnull().values.any():\n",
        "          print(i, \" \", samples[k])\n",
        "        # if len(df) < 100:\n",
        "        #     filler = np.zeros((100-len(df), 31))\n",
        "        #     df = df.append(pd.DataFrame(filler), ignore_index=True )\n",
        "        x_test.append(df.to_numpy())\n",
        "        y_test.append(int(i));\n",
        "    \n",
        "    for k in range(num_tests, len(samples)):\n",
        "        df = pd.read_csv(dir_path + 'DataCollection' + '/' + i + '/' + samples[k], header=None, sep=' ')\n",
        "        df = df.drop(df.index[60:])\n",
        "        if len(df.columns) > 31:\n",
        "          df = df.drop(columns=[31])\n",
        "        if df.isnull().values.any():\n",
        "          print(i, \" \", samples[k])\n",
        "        # df = df.drop(df.index[100:])\n",
        "        # if len(df) < 100:\n",
        "        #     filler = np.zeros((100-len(df), 31))\n",
        "        #     df = df.append(pd.DataFrame(filler), ignore_index=True )\n",
        "        x_train.append(df.to_numpy())\n",
        "        y_train.append(int(i));\n",
        "    \n",
        "    print(len(samples), ' ', num_tests, ' ', len(samples)- num_tests)\n",
        "# print(len(x_train))\n",
        "x_train = np.array(x_train)\n",
        "y_train = np.array(y_train);\n",
        "\n",
        "x_test = np.array(x_test)\n",
        "y_test = np.array(y_test)\n",
        "print(\"x_train.shape: \", x_train.shape)\n",
        "print(\"y_train.shiape: \", y_train.shape)\n",
        "print(\"x_test.shape: \", x_test.shape)\n",
        "print(\"y_test.shape: \", y_test.shape)\n"
      ],
      "id": "annoying-rotation",
      "execution_count": 11,
      "outputs": [
        {
          "output_type": "stream",
          "text": [
            "302   60   242\n",
            "512   102   410\n",
            "302   60   242\n",
            "410   82   328\n",
            "602   120   482\n",
            "422   84   338\n",
            "417   83   334\n",
            "x_train.shape:  (2376, 60, 31)\n",
            "y_train.shiape:  (2376,)\n",
            "x_test.shape:  (591, 60, 31)\n",
            "y_test.shape:  (591,)\n"
          ],
          "name": "stdout"
        }
      ]
    },
    {
      "cell_type": "code",
      "metadata": {
        "id": "n_7kAXmt41Kf"
      },
      "source": [
        ""
      ],
      "id": "n_7kAXmt41Kf",
      "execution_count": null,
      "outputs": []
    },
    {
      "cell_type": "code",
      "metadata": {
        "colab": {
          "base_uri": "https://localhost:8080/"
        },
        "id": "orange-character",
        "outputId": "79d94469-197b-4d33-9cfd-89fcbad7e9c4"
      },
      "source": [
        "print(\"x_train.shape: \", x_train.shape)\n",
        "print(\"y_train.shiape: \", y_train.shape)\n",
        "print(\"x_test.shape: \", x_test.shape)\n",
        "print(\"y_test.shape: \", y_test.shape)\n",
        "\n"
      ],
      "id": "orange-character",
      "execution_count": null,
      "outputs": [
        {
          "output_type": "stream",
          "text": [
            "x_train.shape:  (2376, 60, 31)\n",
            "y_train.shiape:  (2376,)\n",
            "x_test.shape:  (591, 60, 31)\n",
            "y_test.shape:  (591,)\n"
          ],
          "name": "stdout"
        }
      ]
    },
    {
      "cell_type": "code",
      "metadata": {
        "id": "sensitive-cheat"
      },
      "source": [
        "def scale_data(data, min_max_scaler):\n",
        "    for i in range(len(data)):\n",
        "        data[i] = min_max_scaler.transform(data[i])\n",
        "    return data"
      ],
      "id": "sensitive-cheat",
      "execution_count": null,
      "outputs": []
    },
    {
      "cell_type": "code",
      "metadata": {
        "id": "broke-sailing"
      },
      "source": [
        "min_max_scaler = MinMaxScaler(feature_range=(0,1))\n",
        "\n",
        "num_instances, num_time_steps, num_features = x_train.shape\n",
        "x_train = np.reshape(x_train, newshape=(-1, num_features))\n",
        "x_train = min_max_scaler.fit_transform(x_train)\n",
        "x_train = np.reshape(x_train, newshape=(num_instances, num_time_steps, num_features))\n",
        "\n",
        "x_train, y_train = shuffle(x_train, y_train, random_state=0)\n",
        "\n",
        "num_instances, num_time_steps, num_features = x_test.shape\n",
        "x_test = np.reshape(x_test, newshape=(-1, num_features))\n",
        "x_test = min_max_scaler.transform(x_test)\n",
        "x_test = np.reshape(x_test, newshape=(num_instances, num_time_steps, num_features))\n",
        "\n",
        "x_test, y_test = shuffle(x_test, y_test, random_state=0)\n"
      ],
      "id": "broke-sailing",
      "execution_count": 12,
      "outputs": []
    },
    {
      "cell_type": "code",
      "metadata": {
        "colab": {
          "base_uri": "https://localhost:8080/"
        },
        "id": "discrete-kansas",
        "outputId": "40699120-752d-4d58-bd56-a9581c5abbd5"
      },
      "source": [
        "# x_train = np.delete(x_train, [0,1,2,3,4,5,6,7,8], 0)\n",
        "# y_train = np.delete(y_train, [0,1,2,3,4,5,6,7,8], 0)\n",
        "print(\"x_train.shape: \", x_train.shape)\n",
        "print(\"y_train.shiape: \", y_train.shape)\n",
        "print(\"x_test.shape: \", x_test.shape)\n",
        "print(\"y_test.shape: \", y_test.shape)\n",
        "# print(y_train)\n",
        "# print(\"\\n\")\n",
        "# print(y_test)\n",
        "\n",
        "# y_train = y_train.astype('int')\n",
        "\n",
        "# print(y_train)\n"
      ],
      "id": "discrete-kansas",
      "execution_count": 6,
      "outputs": [
        {
          "output_type": "stream",
          "text": [
            "x_train.shape:  (2376, 60, 31)\n",
            "y_train.shiape:  (2376,)\n",
            "x_test.shape:  (591, 60, 31)\n",
            "y_test.shape:  (591,)\n"
          ],
          "name": "stdout"
        }
      ]
    },
    {
      "cell_type": "code",
      "metadata": {
        "id": "lhabYU0vjbLQ",
        "outputId": "f4dbbfa6-cd81-4a21-8786-3fccb3c60b5f",
        "colab": {
          "base_uri": "https://localhost:8080/"
        }
      },
      "source": [
        "model = Sequential()\r\n",
        "model.add(Bidirectional(LSTM(units=60, return_sequences=True ,dtype='float64'),input_shape=x_train.shape[1:],dtype='float64'))\r\n",
        "model.add(BatchNormalization())\r\n",
        "model.add(Dropout(0.2))\r\n",
        "\r\n",
        "model.add(Bidirectional(LSTM(units=60 ,dtype='float64') ,dtype='float64'))\r\n",
        "model.add(BatchNormalization())\r\n",
        "model.add(Dropout(0.2))\r\n",
        "\r\n",
        "\r\n",
        "# model.add(Dense(30, activation='softmax'))\r\n",
        "\r\n",
        "model.add(Dense(7, activation='softmax',dtype='float64'))\r\n",
        "model.summary()"
      ],
      "id": "lhabYU0vjbLQ",
      "execution_count": 23,
      "outputs": [
        {
          "output_type": "stream",
          "text": [
            "Model: \"sequential_4\"\n",
            "_________________________________________________________________\n",
            "Layer (type)                 Output Shape              Param #   \n",
            "=================================================================\n",
            "bidirectional_6 (Bidirection (None, 60, 120)           44160     \n",
            "_________________________________________________________________\n",
            "batch_normalization_6 (Batch (None, 60, 120)           480       \n",
            "_________________________________________________________________\n",
            "dropout_6 (Dropout)          (None, 60, 120)           0         \n",
            "_________________________________________________________________\n",
            "bidirectional_7 (Bidirection (None, 120)               86880     \n",
            "_________________________________________________________________\n",
            "batch_normalization_7 (Batch (None, 120)               480       \n",
            "_________________________________________________________________\n",
            "dropout_7 (Dropout)          (None, 120)               0         \n",
            "_________________________________________________________________\n",
            "dense_3 (Dense)              (None, 7)                 847       \n",
            "=================================================================\n",
            "Total params: 132,847\n",
            "Trainable params: 132,367\n",
            "Non-trainable params: 480\n",
            "_________________________________________________________________\n"
          ],
          "name": "stdout"
        }
      ]
    },
    {
      "cell_type": "code",
      "metadata": {
        "id": "senior-mystery"
      },
      "source": [
        "# model = Sequential()\n",
        "# model.add(LSTM(units=60, input_shape=x_train.shape[1:], return_sequences=True,dtype='float64'))\n",
        "# model.add(BatchNormalization())\n",
        "# model.add(Dropout(0.2))\n",
        "\n",
        "# model.add(LSTM(60, return_sequences=True ,dtype='float64'))\n",
        "# model.add(BatchNormalization())\n",
        "# model.add(Dropout(0.2))\n",
        "\n",
        "# model.add(LSTM(60, return_sequences=True ,dtype='float64'))\n",
        "# model.add(BatchNormalization())\n",
        "# model.add(Dropout(0.2))\n",
        "\n",
        "# model.add(LSTM(60,dtype='float64'))\n",
        "# model.add(BatchNormalization())\n",
        "# model.add(Dropout(0.2))\n",
        "\n",
        "# # model.add(Dense(30, activation='softmax'))\n",
        "\n",
        "# model.add(Dense(7, activation='softmax',dtype='float64'))\n",
        "# model.summary()"
      ],
      "id": "senior-mystery",
      "execution_count": 24,
      "outputs": []
    },
    {
      "cell_type": "code",
      "metadata": {
        "colab": {
          "base_uri": "https://localhost:8080/"
        },
        "id": "after-sperm",
        "outputId": "f0131772-06a5-4502-97c9-2b26b28d2ddf"
      },
      "source": [
        "opt = tf.keras.optimizers.Adam(lr=0.0001, decay=1e-5)\n",
        "\n",
        "checkpoint_filepath = dir_path + 'Checkpoints/'\n",
        "model_checkpoint_callback = tf.keras.callbacks.ModelCheckpoint(\n",
        "    filepath=checkpoint_filepath,\n",
        "    save_weights_only=True,\n",
        "    monitor='val_accuracy',\n",
        "    mode='max',\n",
        "    save_best_only=True)\n",
        "\n",
        "model.compile(\n",
        "    loss='sparse_categorical_crossentropy',\n",
        "    optimizer=opt,\n",
        "    metrics=['accuracy'],\n",
        ")\n",
        "\n",
        "\n",
        "gestures = model.fit(x = x_train,\n",
        "            y = y_train,\n",
        "            epochs=50,\n",
        "            validation_split=0.1, #split 10% of the trainning set for the validation set,\n",
        "            batch_size=24,\n",
        "            callbacks=[model_checkpoint_callback],\n",
        "            shuffle=True\n",
        "         )"
      ],
      "id": "after-sperm",
      "execution_count": 25,
      "outputs": [
        {
          "output_type": "stream",
          "text": [
            "Epoch 1/50\n",
            "90/90 [==============================] - 15s 107ms/step - loss: 1.6631 - accuracy: 0.4298 - val_loss: 1.6215 - val_accuracy: 0.4622\n",
            "Epoch 2/50\n",
            "90/90 [==============================] - 8s 94ms/step - loss: 0.3995 - accuracy: 0.8731 - val_loss: 1.1969 - val_accuracy: 0.5504\n",
            "Epoch 3/50\n",
            "90/90 [==============================] - 8s 94ms/step - loss: 0.2547 - accuracy: 0.9198 - val_loss: 0.6698 - val_accuracy: 0.7521\n",
            "Epoch 4/50\n",
            "90/90 [==============================] - 8s 92ms/step - loss: 0.2165 - accuracy: 0.9284 - val_loss: 0.4043 - val_accuracy: 0.8487\n",
            "Epoch 5/50\n",
            "90/90 [==============================] - 8s 92ms/step - loss: 0.2009 - accuracy: 0.9468 - val_loss: 0.1552 - val_accuracy: 0.9622\n",
            "Epoch 6/50\n",
            "90/90 [==============================] - 8s 94ms/step - loss: 0.1429 - accuracy: 0.9503 - val_loss: 0.0806 - val_accuracy: 0.9790\n",
            "Epoch 7/50\n",
            "90/90 [==============================] - 8s 93ms/step - loss: 0.1455 - accuracy: 0.9595 - val_loss: 0.0527 - val_accuracy: 0.9874\n",
            "Epoch 8/50\n",
            "90/90 [==============================] - 8s 94ms/step - loss: 0.1378 - accuracy: 0.9581 - val_loss: 0.0492 - val_accuracy: 0.9832\n",
            "Epoch 9/50\n",
            "90/90 [==============================] - 8s 93ms/step - loss: 0.1096 - accuracy: 0.9698 - val_loss: 0.0547 - val_accuracy: 0.9832\n",
            "Epoch 10/50\n",
            "90/90 [==============================] - 8s 93ms/step - loss: 0.1031 - accuracy: 0.9720 - val_loss: 0.0372 - val_accuracy: 0.9958\n",
            "Epoch 11/50\n",
            "90/90 [==============================] - 8s 92ms/step - loss: 0.0966 - accuracy: 0.9673 - val_loss: 0.0473 - val_accuracy: 0.9832\n",
            "Epoch 12/50\n",
            "90/90 [==============================] - 8s 93ms/step - loss: 0.0917 - accuracy: 0.9729 - val_loss: 0.0523 - val_accuracy: 0.9832\n",
            "Epoch 13/50\n",
            "90/90 [==============================] - 8s 93ms/step - loss: 0.1027 - accuracy: 0.9700 - val_loss: 0.0377 - val_accuracy: 0.9832\n",
            "Epoch 14/50\n",
            "90/90 [==============================] - 8s 92ms/step - loss: 0.0870 - accuracy: 0.9717 - val_loss: 0.0338 - val_accuracy: 0.9874\n",
            "Epoch 15/50\n",
            "90/90 [==============================] - 9s 95ms/step - loss: 0.0746 - accuracy: 0.9782 - val_loss: 0.0341 - val_accuracy: 0.9958\n",
            "Epoch 16/50\n",
            "90/90 [==============================] - 8s 93ms/step - loss: 0.0790 - accuracy: 0.9778 - val_loss: 0.0355 - val_accuracy: 0.9916\n",
            "Epoch 17/50\n",
            "90/90 [==============================] - 8s 93ms/step - loss: 0.0768 - accuracy: 0.9737 - val_loss: 0.0356 - val_accuracy: 0.9916\n",
            "Epoch 18/50\n",
            "90/90 [==============================] - 8s 93ms/step - loss: 0.0618 - accuracy: 0.9811 - val_loss: 0.0660 - val_accuracy: 0.9790\n",
            "Epoch 19/50\n",
            "90/90 [==============================] - 8s 94ms/step - loss: 0.0637 - accuracy: 0.9837 - val_loss: 0.0311 - val_accuracy: 0.9958\n",
            "Epoch 20/50\n",
            "90/90 [==============================] - 8s 93ms/step - loss: 0.0495 - accuracy: 0.9883 - val_loss: 0.0604 - val_accuracy: 0.9790\n",
            "Epoch 21/50\n",
            "90/90 [==============================] - 8s 93ms/step - loss: 0.0575 - accuracy: 0.9807 - val_loss: 0.0269 - val_accuracy: 0.9916\n",
            "Epoch 22/50\n",
            "90/90 [==============================] - 8s 94ms/step - loss: 0.0462 - accuracy: 0.9861 - val_loss: 0.0306 - val_accuracy: 0.9916\n",
            "Epoch 23/50\n",
            "90/90 [==============================] - 8s 93ms/step - loss: 0.0522 - accuracy: 0.9872 - val_loss: 0.0375 - val_accuracy: 0.9874\n",
            "Epoch 24/50\n",
            "90/90 [==============================] - 8s 94ms/step - loss: 0.0465 - accuracy: 0.9871 - val_loss: 0.0329 - val_accuracy: 0.9874\n",
            "Epoch 25/50\n",
            "90/90 [==============================] - 8s 94ms/step - loss: 0.0507 - accuracy: 0.9862 - val_loss: 0.0556 - val_accuracy: 0.9790\n",
            "Epoch 26/50\n",
            "90/90 [==============================] - 8s 94ms/step - loss: 0.0404 - accuracy: 0.9866 - val_loss: 0.0377 - val_accuracy: 0.9874\n",
            "Epoch 27/50\n",
            "90/90 [==============================] - 8s 93ms/step - loss: 0.0422 - accuracy: 0.9895 - val_loss: 0.0671 - val_accuracy: 0.9664\n",
            "Epoch 28/50\n",
            "90/90 [==============================] - 8s 91ms/step - loss: 0.0490 - accuracy: 0.9897 - val_loss: 0.0510 - val_accuracy: 0.9832\n",
            "Epoch 29/50\n",
            "90/90 [==============================] - 8s 94ms/step - loss: 0.0405 - accuracy: 0.9899 - val_loss: 0.0214 - val_accuracy: 0.9958\n",
            "Epoch 30/50\n",
            "90/90 [==============================] - 8s 94ms/step - loss: 0.0346 - accuracy: 0.9904 - val_loss: 0.0400 - val_accuracy: 0.9874\n",
            "Epoch 31/50\n",
            "90/90 [==============================] - 9s 95ms/step - loss: 0.0340 - accuracy: 0.9871 - val_loss: 0.0400 - val_accuracy: 0.9790\n",
            "Epoch 32/50\n",
            "90/90 [==============================] - 8s 94ms/step - loss: 0.0418 - accuracy: 0.9895 - val_loss: 0.0268 - val_accuracy: 0.9916\n",
            "Epoch 33/50\n",
            "90/90 [==============================] - 8s 94ms/step - loss: 0.0326 - accuracy: 0.9931 - val_loss: 0.0290 - val_accuracy: 0.9916\n",
            "Epoch 34/50\n",
            "90/90 [==============================] - 8s 93ms/step - loss: 0.0352 - accuracy: 0.9910 - val_loss: 0.0335 - val_accuracy: 0.9916\n",
            "Epoch 35/50\n",
            "90/90 [==============================] - 8s 93ms/step - loss: 0.0434 - accuracy: 0.9873 - val_loss: 0.0508 - val_accuracy: 0.9874\n",
            "Epoch 36/50\n",
            "90/90 [==============================] - 8s 94ms/step - loss: 0.0275 - accuracy: 0.9949 - val_loss: 0.0326 - val_accuracy: 0.9916\n",
            "Epoch 37/50\n",
            "90/90 [==============================] - 8s 94ms/step - loss: 0.0275 - accuracy: 0.9909 - val_loss: 0.0259 - val_accuracy: 0.9958\n",
            "Epoch 38/50\n",
            "90/90 [==============================] - 8s 93ms/step - loss: 0.0371 - accuracy: 0.9932 - val_loss: 0.0264 - val_accuracy: 0.9958\n",
            "Epoch 39/50\n",
            "90/90 [==============================] - 8s 94ms/step - loss: 0.0261 - accuracy: 0.9909 - val_loss: 0.0250 - val_accuracy: 0.9916\n",
            "Epoch 40/50\n",
            "90/90 [==============================] - 8s 94ms/step - loss: 0.0292 - accuracy: 0.9931 - val_loss: 0.0198 - val_accuracy: 0.9958\n",
            "Epoch 41/50\n",
            "90/90 [==============================] - 9s 95ms/step - loss: 0.0259 - accuracy: 0.9924 - val_loss: 0.0255 - val_accuracy: 0.9958\n",
            "Epoch 42/50\n",
            "90/90 [==============================] - 8s 94ms/step - loss: 0.0428 - accuracy: 0.9849 - val_loss: 0.0368 - val_accuracy: 0.9916\n",
            "Epoch 43/50\n",
            "90/90 [==============================] - 8s 93ms/step - loss: 0.0375 - accuracy: 0.9872 - val_loss: 0.0525 - val_accuracy: 0.9790\n",
            "Epoch 44/50\n",
            "90/90 [==============================] - 8s 94ms/step - loss: 0.0403 - accuracy: 0.9899 - val_loss: 0.0380 - val_accuracy: 0.9874\n",
            "Epoch 45/50\n",
            "90/90 [==============================] - 8s 93ms/step - loss: 0.0411 - accuracy: 0.9874 - val_loss: 0.0321 - val_accuracy: 0.9916\n",
            "Epoch 46/50\n",
            "90/90 [==============================] - 8s 93ms/step - loss: 0.0260 - accuracy: 0.9936 - val_loss: 0.0389 - val_accuracy: 0.9832\n",
            "Epoch 47/50\n",
            "90/90 [==============================] - 8s 93ms/step - loss: 0.0277 - accuracy: 0.9929 - val_loss: 0.0267 - val_accuracy: 0.9958\n",
            "Epoch 48/50\n",
            "90/90 [==============================] - 8s 93ms/step - loss: 0.0349 - accuracy: 0.9920 - val_loss: 0.0333 - val_accuracy: 0.9958\n",
            "Epoch 49/50\n",
            "90/90 [==============================] - 8s 94ms/step - loss: 0.0155 - accuracy: 0.9959 - val_loss: 0.0391 - val_accuracy: 0.9916\n",
            "Epoch 50/50\n",
            "90/90 [==============================] - 9s 94ms/step - loss: 0.0192 - accuracy: 0.9943 - val_loss: 0.0314 - val_accuracy: 0.9958\n"
          ],
          "name": "stdout"
        }
      ]
    },
    {
      "cell_type": "code",
      "metadata": {
        "id": "KikcQb9ZpuLB"
      },
      "source": [
        "# model.save(dir_path + 'Models/gestures.h5')"
      ],
      "id": "KikcQb9ZpuLB",
      "execution_count": 26,
      "outputs": []
    },
    {
      "cell_type": "code",
      "metadata": {
        "colab": {
          "base_uri": "https://localhost:8080/"
        },
        "id": "integrated-optimization",
        "outputId": "d25d927d-b161-44f8-8c19-9cd1b1b2f63b"
      },
      "source": [
        "print(\"Evaluate on test data\")\n",
        "results = model.evaluate(x_test, y_test, batch_size=24)\n",
        "print(\"test loss, test acc:\", results)\n",
        "model.save(dir_path + 'Models/gestures_bidir', save_format='tf')"
      ],
      "id": "integrated-optimization",
      "execution_count": 27,
      "outputs": [
        {
          "output_type": "stream",
          "text": [
            "Evaluate on test data\n",
            "25/25 [==============================] - 1s 30ms/step - loss: 0.0496 - accuracy: 0.9814\n",
            "test loss, test acc: [0.049636900424957275, 0.9813874959945679]\n"
          ],
          "name": "stdout"
        },
        {
          "output_type": "stream",
          "text": [
            "WARNING:absl:Found untraced functions such as lstm_cell_19_layer_call_fn, lstm_cell_19_layer_call_and_return_conditional_losses, lstm_cell_20_layer_call_fn, lstm_cell_20_layer_call_and_return_conditional_losses, lstm_cell_22_layer_call_fn while saving (showing 5 of 20). These functions will not be directly callable after loading.\n",
            "WARNING:absl:Found untraced functions such as lstm_cell_19_layer_call_fn, lstm_cell_19_layer_call_and_return_conditional_losses, lstm_cell_20_layer_call_fn, lstm_cell_20_layer_call_and_return_conditional_losses, lstm_cell_22_layer_call_fn while saving (showing 5 of 20). These functions will not be directly callable after loading.\n"
          ],
          "name": "stderr"
        },
        {
          "output_type": "stream",
          "text": [
            "INFO:tensorflow:Assets written to: ./drive/MyDrive/BAKA/Models/gestures_bidir/assets\n"
          ],
          "name": "stdout"
        },
        {
          "output_type": "stream",
          "text": [
            "INFO:tensorflow:Assets written to: ./drive/MyDrive/BAKA/Models/gestures_bidir/assets\n"
          ],
          "name": "stderr"
        }
      ]
    },
    {
      "cell_type": "code",
      "metadata": {
        "id": "hFsQ_tEXw8WX"
      },
      "source": [
        "# new_model = load_model(dir_path + 'Models/gestures.h5')\n",
        "# print(\"Evaluate on test data\")\n",
        "# results = new_model.evaluate(x_test, y_test, batch_size=80)\n",
        "# print(\"test loss, test acc:\", results)"
      ],
      "id": "hFsQ_tEXw8WX",
      "execution_count": 28,
      "outputs": []
    },
    {
      "cell_type": "code",
      "metadata": {
        "colab": {
          "base_uri": "https://localhost:8080/"
        },
        "id": "faWZ2lOQ09Dj",
        "outputId": "67af6749-038f-4c93-85fa-cba2ff78fee2"
      },
      "source": [
        "min_max_scaler.data_min_"
      ],
      "id": "faWZ2lOQ09Dj",
      "execution_count": 29,
      "outputs": [
        {
          "output_type": "execute_result",
          "data": {
            "text/plain": [
              "array([ 9.50955e+01,  8.99999e+01,  9.00456e+01,  9.00456e+01,\n",
              "        9.00455e+01,  6.54812e+01,  2.57840e+01,  3.11686e+01,\n",
              "        2.83181e+01,  2.04904e+01, -4.65014e+02,  6.15573e+01,\n",
              "       -2.90505e+02, -4.80121e+02,  3.30287e+01, -3.15328e+02,\n",
              "       -4.71490e+02,  2.19222e+01, -3.17749e+02, -4.59829e+02,\n",
              "        3.47366e+01, -3.13954e+02, -4.57886e+02,  1.45195e+01,\n",
              "       -3.02162e+02, -4.42757e+02,  7.13368e+01, -2.82183e+02,\n",
              "        4.41342e-02,  4.25457e-02,  4.19405e-02])"
            ]
          },
          "metadata": {
            "tags": []
          },
          "execution_count": 29
        }
      ]
    },
    {
      "cell_type": "code",
      "metadata": {
        "id": "NOWq0Fev1RI-",
        "colab": {
          "base_uri": "https://localhost:8080/"
        },
        "outputId": "43c4b3cf-44f7-48b4-f569-86b23481ef57"
      },
      "source": [
        "model.input"
      ],
      "id": "NOWq0Fev1RI-",
      "execution_count": 30,
      "outputs": [
        {
          "output_type": "execute_result",
          "data": {
            "text/plain": [
              "<KerasTensor: shape=(None, 60, 31) dtype=float64 (created by layer 'bidirectional_6_input')>"
            ]
          },
          "metadata": {
            "tags": []
          },
          "execution_count": 30
        }
      ]
    },
    {
      "cell_type": "code",
      "metadata": {
        "id": "FhIACF0-aQgh"
      },
      "source": [
        ""
      ],
      "id": "FhIACF0-aQgh",
      "execution_count": 30,
      "outputs": []
    }
  ]
}