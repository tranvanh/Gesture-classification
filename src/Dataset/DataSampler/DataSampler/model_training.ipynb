{
  "nbformat": 4,
  "nbformat_minor": 5,
  "metadata": {
    "accelerator": "GPU",
    "colab": {
      "name": "feature_computation.ipynb",
      "provenance": []
    },
    "kernelspec": {
      "display_name": "Python 3",
      "language": "python",
      "name": "python3"
    },
    "language_info": {
      "codemirror_mode": {
        "name": "ipython",
        "version": 3
      },
      "file_extension": ".py",
      "mimetype": "text/x-python",
      "name": "python",
      "nbconvert_exporter": "python",
      "pygments_lexer": "ipython3",
      "version": "3.8.8"
    }
  },
  "cells": [
    {
      "cell_type": "code",
      "metadata": {
        "id": "caring-species"
      },
      "source": [
        "import pandas as pd\n",
        "import numpy as np\n",
        "import os\n",
        "import math\n",
        "import tensorflow as tf\n",
        "from tensorflow.keras.models import Sequential, Model, load_model\n",
        "from tensorflow.keras.layers import Dense, Dropout, LSTM, BatchNormalization\n",
        "from sklearn.utils import shuffle\n",
        "from sklearn.preprocessing import MinMaxScaler, StandardScaler\n",
        "physical_devices = tf.config.list_physical_devices('GPU')\n",
        "tf.config.experimental.set_memory_growth(physical_devices[0], enable=True)\n",
        "# dir_path = './' #local\n",
        "dir_path = './drive/MyDrive/BAKA/' #colab"
      ],
      "id": "caring-species",
      "execution_count": 1,
      "outputs": []
    },
    {
      "cell_type": "code",
      "metadata": {
        "colab": {
          "base_uri": "https://localhost:8080/"
        },
        "id": "KstfPbJfzIAV",
        "outputId": "0c016991-8666-4ae1-f7a7-61432857365a"
      },
      "source": [
        "#uncomment in colab\n",
        "from google.colab import drive\n",
        "drive.mount('/content/drive')\n",
        "# pd.read_csv(dir_path + 'DataCollection' + '/' + '1' + '/' + '0.txt', sep=' ', index_col=False )\n",
        "# test = np.genfromtxt(dir_path + 'DataCollection' + '/' + '1' + '/' + '0.txt', delimiter=' ',dtype='float64')\n",
        "df = pd.read_csv(dir_path + 'DataCollection' + '/' + '1' + '/' + '0.txt', header=None, sep=' ')\n",
        "# df.drop(df.index[60:])\n",
        "# filler = np.zeros((100-len(df), 31))\n",
        "# df = df.append(pd.DataFrame(filler), ignore_index=True )\n",
        "# df\n",
        "if len(df.columns) > 31:\n",
        "  df = df.drop(columns=[31])\n",
        "# df = df.drop(df.index[60:])\n",
        "# df\n",
        "# sp_df = np.array_split(df, 2)\n",
        "# sp_df[0]"
      ],
      "id": "KstfPbJfzIAV",
      "execution_count": 2,
      "outputs": [
        {
          "output_type": "stream",
          "text": [
            "Drive already mounted at /content/drive; to attempt to forcibly remount, call drive.mount(\"/content/drive\", force_remount=True).\n"
          ],
          "name": "stdout"
        }
      ]
    },
    {
      "cell_type": "code",
      "metadata": {
        "id": "LynMzTXVtjh_"
      },
      "source": [
        "# for i in ['6']:\r\n",
        "#     samples = os.listdir(dir_path + 'DataCollection' + '/' + i)\r\n",
        "#     num_tests = int(len(samples)/5);\r\n",
        "#     shuffle(samples, random_state = 0)\r\n",
        "#     for k in range(0, len(samples)):\r\n",
        "# #         df = np.genfromtxt(dir_path + 'DataCollection' + '/' + i + '/' + samples[k], delimiter=' ',dtype='float64')\r\n",
        "#         df = pd.read_csv(dir_path + 'DataCollection' + '/' + i + '/' + samples[k], header=None, sep=' ')\r\n",
        "#         df = df.drop(df.index[60:])\r\n",
        "#         if len(df.columns) > 31:\r\n",
        "#           df = df.drop(columns=[31])\r\n",
        "#         if df.isnull().values.any():\r\n",
        "#           print(i, \" \", samples[k])\r\n",
        "#         print(samples[k])\r\n",
        "#         display(df)\r\n",
        "#         # # if len(df) < 100:\r\n",
        "#         # #     filler = np.zeros((100-len(df), 31))\r\n",
        "#         # #     df = df.append(pd.DataFrame(filler), ignore_index=True )\r\n",
        "#         # x_test.append(df.to_numpy())\r\n",
        "#         # y_test.append(int(i));"
      ],
      "id": "LynMzTXVtjh_",
      "execution_count": 3,
      "outputs": []
    },
    {
      "cell_type": "code",
      "metadata": {
        "colab": {
          "base_uri": "https://localhost:8080/"
        },
        "id": "signal-friendly",
        "outputId": "d9fcaafe-33f6-4b88-ece7-541f947913f0"
      },
      "source": [
        "files = os.listdir(dir_path + 'DataCollection')\n",
        "files"
      ],
      "id": "signal-friendly",
      "execution_count": 4,
      "outputs": [
        {
          "output_type": "execute_result",
          "data": {
            "text/plain": [
              "['0', '2', '3', '4', '1', '5', '6']"
            ]
          },
          "metadata": {
            "tags": []
          },
          "execution_count": 4
        }
      ]
    },
    {
      "cell_type": "code",
      "metadata": {
        "colab": {
          "base_uri": "https://localhost:8080/"
        },
        "id": "annoying-rotation",
        "outputId": "12b00851-1300-472d-f02f-404c2687bfe9"
      },
      "source": [
        "x_train = [];\n",
        "y_train = [];\n",
        "\n",
        "x_test = [];\n",
        "y_test = [];\n",
        "for i in files:\n",
        "    samples = os.listdir(dir_path + 'DataCollection' + '/' + i)\n",
        "    num_tests = int(len(samples)/5);\n",
        "    shuffle(samples, random_state = 0)\n",
        "    for k in range(0, num_tests):\n",
        "#         df = np.genfromtxt(dir_path + 'DataCollection' + '/' + i + '/' + samples[k], delimiter=' ',dtype='float64')\n",
        "        df = pd.read_csv(dir_path + 'DataCollection' + '/' + i + '/' + samples[k], header=None, sep=' ')\n",
        "        df = df.drop(df.index[60:])\n",
        "        if len(df.columns) > 31:\n",
        "          df = df.drop(columns=[31])\n",
        "        if df.isnull().values.any():\n",
        "          print(i, \" \", samples[k])\n",
        "        # if len(df) < 100:\n",
        "        #     filler = np.zeros((100-len(df), 31))\n",
        "        #     df = df.append(pd.DataFrame(filler), ignore_index=True )\n",
        "        x_test.append(df.to_numpy())\n",
        "        y_test.append(int(i));\n",
        "    \n",
        "    for k in range(num_tests, len(samples)):\n",
        "        df = pd.read_csv(dir_path + 'DataCollection' + '/' + i + '/' + samples[k], header=None, sep=' ')\n",
        "        df = df.drop(df.index[60:])\n",
        "        if len(df.columns) > 31:\n",
        "          df = df.drop(columns=[31])\n",
        "        if df.isnull().values.any():\n",
        "          print(i, \" \", samples[k])\n",
        "        # df = df.drop(df.index[100:])\n",
        "        # if len(df) < 100:\n",
        "        #     filler = np.zeros((100-len(df), 31))\n",
        "        #     df = df.append(pd.DataFrame(filler), ignore_index=True )\n",
        "        x_train.append(df.to_numpy())\n",
        "        y_train.append(int(i));\n",
        "    \n",
        "    print(len(samples), ' ', num_tests, ' ', len(samples)- num_tests)\n",
        "# print(len(x_train))\n",
        "x_train = np.array(x_train)\n",
        "y_train = np.array(y_train);\n",
        "\n",
        "x_test = np.array(x_test)\n",
        "y_test = np.array(y_test)\n",
        "print(\"x_train.shape: \", x_train.shape)\n",
        "print(\"y_train.shiape: \", y_train.shape)\n",
        "print(\"x_test.shape: \", x_test.shape)\n",
        "print(\"y_test.shape: \", y_test.shape)\n"
      ],
      "id": "annoying-rotation",
      "execution_count": 5,
      "outputs": [
        {
          "output_type": "stream",
          "text": [
            "302   60   242\n",
            "512   102   410\n",
            "302   60   242\n",
            "410   82   328\n",
            "602   120   482\n",
            "422   84   338\n",
            "417   83   334\n",
            "x_train.shape:  (2376, 60, 31)\n",
            "y_train.shiape:  (2376,)\n",
            "x_test.shape:  (591, 60, 31)\n",
            "y_test.shape:  (591,)\n"
          ],
          "name": "stdout"
        }
      ]
    },
    {
      "cell_type": "code",
      "metadata": {
        "id": "n_7kAXmt41Kf"
      },
      "source": [
        ""
      ],
      "id": "n_7kAXmt41Kf",
      "execution_count": 5,
      "outputs": []
    },
    {
      "cell_type": "code",
      "metadata": {
        "colab": {
          "base_uri": "https://localhost:8080/"
        },
        "id": "orange-character",
        "outputId": "79d94469-197b-4d33-9cfd-89fcbad7e9c4"
      },
      "source": [
        "print(\"x_train.shape: \", x_train.shape)\n",
        "print(\"y_train.shiape: \", y_train.shape)\n",
        "print(\"x_test.shape: \", x_test.shape)\n",
        "print(\"y_test.shape: \", y_test.shape)\n",
        "\n"
      ],
      "id": "orange-character",
      "execution_count": 6,
      "outputs": [
        {
          "output_type": "stream",
          "text": [
            "x_train.shape:  (2376, 60, 31)\n",
            "y_train.shiape:  (2376,)\n",
            "x_test.shape:  (591, 60, 31)\n",
            "y_test.shape:  (591,)\n"
          ],
          "name": "stdout"
        }
      ]
    },
    {
      "cell_type": "code",
      "metadata": {
        "id": "sensitive-cheat"
      },
      "source": [
        "def scale_data(data, min_max_scaler):\n",
        "    for i in range(len(data)):\n",
        "        data[i] = min_max_scaler.transform(data[i])\n",
        "    return data"
      ],
      "id": "sensitive-cheat",
      "execution_count": 7,
      "outputs": []
    },
    {
      "cell_type": "code",
      "metadata": {
        "id": "broke-sailing"
      },
      "source": [
        "min_max_scaler = MinMaxScaler(feature_range=(0,1))\n",
        "\n",
        "num_instances, num_time_steps, num_features = x_train.shape\n",
        "x_train = np.reshape(x_train, newshape=(-1, num_features))\n",
        "x_train = min_max_scaler.fit_transform(x_train)\n",
        "x_train = np.reshape(x_train, newshape=(num_instances, num_time_steps, num_features))\n",
        "\n",
        "x_train, y_train = shuffle(x_train, y_train, random_state=0)\n",
        "\n",
        "num_instances, num_time_steps, num_features = x_test.shape\n",
        "x_test = np.reshape(x_test, newshape=(-1, num_features))\n",
        "x_test = min_max_scaler.transform(x_test)\n",
        "x_test = np.reshape(x_test, newshape=(num_instances, num_time_steps, num_features))\n",
        "\n",
        "x_test, y_test = shuffle(x_test, y_test, random_state=0)\n"
      ],
      "id": "broke-sailing",
      "execution_count": 8,
      "outputs": []
    },
    {
      "cell_type": "code",
      "metadata": {
        "colab": {
          "base_uri": "https://localhost:8080/"
        },
        "id": "discrete-kansas",
        "outputId": "dc3693f5-4c30-486d-f7e9-e643c389ec26"
      },
      "source": [
        "# x_train = np.delete(x_train, [0,1,2,3,4,5,6,7,8], 0)\n",
        "# y_train = np.delete(y_train, [0,1,2,3,4,5,6,7,8], 0)\n",
        "print(\"x_train.shape: \", x_train.shape)\n",
        "print(\"y_train.shiape: \", y_train.shape)\n",
        "print(\"x_test.shape: \", x_test.shape)\n",
        "print(\"y_test.shape: \", y_test.shape)\n",
        "# print(y_train)\n",
        "# print(\"\\n\")\n",
        "# print(y_test)\n",
        "\n",
        "# y_train = y_train.astype('int')\n",
        "\n",
        "# print(y_train)\n"
      ],
      "id": "discrete-kansas",
      "execution_count": 9,
      "outputs": [
        {
          "output_type": "stream",
          "text": [
            "x_train.shape:  (2376, 60, 31)\n",
            "y_train.shiape:  (2376,)\n",
            "x_test.shape:  (591, 60, 31)\n",
            "y_test.shape:  (591,)\n"
          ],
          "name": "stdout"
        }
      ]
    },
    {
      "cell_type": "code",
      "metadata": {
        "colab": {
          "base_uri": "https://localhost:8080/"
        },
        "id": "senior-mystery",
        "outputId": "bb7f80ac-36e7-4e40-a40b-f9bf745bbee7"
      },
      "source": [
        "model = Sequential()\n",
        "model.add(LSTM(units=60, input_shape=x_train.shape[1:], return_sequences=True,dtype='float64'))\n",
        "model.add(BatchNormalization())\n",
        "model.add(Dropout(0.2))\n",
        "\n",
        "model.add(LSTM(60, return_sequences=True ,dtype='float64'))\n",
        "model.add(BatchNormalization())\n",
        "model.add(Dropout(0.2))\n",
        "\n",
        "model.add(LSTM(60, return_sequences=True ,dtype='float64'))\n",
        "model.add(BatchNormalization())\n",
        "model.add(Dropout(0.2))\n",
        "\n",
        "model.add(LSTM(60,dtype='float64'))\n",
        "model.add(BatchNormalization())\n",
        "model.add(Dropout(0.2))\n",
        "\n",
        "# model.add(Dense(30, activation='softmax'))\n",
        "\n",
        "model.add(Dense(7, activation='softmax',dtype='float64'))\n",
        "model.summary()"
      ],
      "id": "senior-mystery",
      "execution_count": 10,
      "outputs": [
        {
          "output_type": "stream",
          "text": [
            "Model: \"sequential\"\n",
            "_________________________________________________________________\n",
            "Layer (type)                 Output Shape              Param #   \n",
            "=================================================================\n",
            "lstm (LSTM)                  (None, 60, 60)            22080     \n",
            "_________________________________________________________________\n",
            "batch_normalization (BatchNo (None, 60, 60)            240       \n",
            "_________________________________________________________________\n",
            "dropout (Dropout)            (None, 60, 60)            0         \n",
            "_________________________________________________________________\n",
            "lstm_1 (LSTM)                (None, 60, 60)            29040     \n",
            "_________________________________________________________________\n",
            "batch_normalization_1 (Batch (None, 60, 60)            240       \n",
            "_________________________________________________________________\n",
            "dropout_1 (Dropout)          (None, 60, 60)            0         \n",
            "_________________________________________________________________\n",
            "lstm_2 (LSTM)                (None, 60, 60)            29040     \n",
            "_________________________________________________________________\n",
            "batch_normalization_2 (Batch (None, 60, 60)            240       \n",
            "_________________________________________________________________\n",
            "dropout_2 (Dropout)          (None, 60, 60)            0         \n",
            "_________________________________________________________________\n",
            "lstm_3 (LSTM)                (None, 60)                29040     \n",
            "_________________________________________________________________\n",
            "batch_normalization_3 (Batch (None, 60)                240       \n",
            "_________________________________________________________________\n",
            "dropout_3 (Dropout)          (None, 60)                0         \n",
            "_________________________________________________________________\n",
            "dense (Dense)                (None, 7)                 427       \n",
            "=================================================================\n",
            "Total params: 110,587\n",
            "Trainable params: 110,107\n",
            "Non-trainable params: 480\n",
            "_________________________________________________________________\n"
          ],
          "name": "stdout"
        }
      ]
    },
    {
      "cell_type": "code",
      "metadata": {
        "colab": {
          "base_uri": "https://localhost:8080/"
        },
        "id": "after-sperm",
        "outputId": "34e458a1-e542-4678-9869-551a6f19c38a"
      },
      "source": [
        "opt = tf.keras.optimizers.Adam(lr=0.0001, decay=1e-5)\n",
        "\n",
        "checkpoint_filepath = dir_path + 'Checkpoints/'\n",
        "model_checkpoint_callback = tf.keras.callbacks.ModelCheckpoint(\n",
        "    filepath=checkpoint_filepath,\n",
        "    save_weights_only=True,\n",
        "    monitor='val_accuracy',\n",
        "    mode='max',\n",
        "    save_best_only=True)\n",
        "\n",
        "model.compile(\n",
        "    loss='sparse_categorical_crossentropy',\n",
        "    optimizer=opt,\n",
        "    metrics=['accuracy'],\n",
        ")\n",
        "\n",
        "\n",
        "gestures = model.fit(x = x_train,\n",
        "            y = y_train,\n",
        "            epochs=50,\n",
        "            validation_split=0.1, #split 10% of the trainning set for the validation set,\n",
        "            batch_size=24,\n",
        "            callbacks=[model_checkpoint_callback],\n",
        "            shuffle=True\n",
        "         )"
      ],
      "id": "after-sperm",
      "execution_count": 11,
      "outputs": [
        {
          "output_type": "stream",
          "text": [
            "Epoch 1/50\n",
            "90/90 [==============================] - 17s 109ms/step - loss: 1.8569 - accuracy: 0.4251 - val_loss: 1.7338 - val_accuracy: 0.5966\n",
            "Epoch 2/50\n",
            "90/90 [==============================] - 8s 94ms/step - loss: 0.5313 - accuracy: 0.8248 - val_loss: 1.0984 - val_accuracy: 0.8067\n",
            "Epoch 3/50\n",
            "90/90 [==============================] - 9s 95ms/step - loss: 0.3717 - accuracy: 0.8846 - val_loss: 0.4516 - val_accuracy: 0.9370\n",
            "Epoch 4/50\n",
            "90/90 [==============================] - 8s 93ms/step - loss: 0.3034 - accuracy: 0.9105 - val_loss: 0.2304 - val_accuracy: 0.9328\n",
            "Epoch 5/50\n",
            "90/90 [==============================] - 8s 93ms/step - loss: 0.2247 - accuracy: 0.9425 - val_loss: 0.1376 - val_accuracy: 0.9538\n",
            "Epoch 6/50\n",
            "90/90 [==============================] - 8s 93ms/step - loss: 0.1945 - accuracy: 0.9522 - val_loss: 0.1196 - val_accuracy: 0.9538\n",
            "Epoch 7/50\n",
            "90/90 [==============================] - 8s 94ms/step - loss: 0.2082 - accuracy: 0.9419 - val_loss: 0.1429 - val_accuracy: 0.9454\n",
            "Epoch 8/50\n",
            "90/90 [==============================] - 8s 93ms/step - loss: 0.1660 - accuracy: 0.9565 - val_loss: 0.0659 - val_accuracy: 0.9916\n",
            "Epoch 9/50\n",
            "90/90 [==============================] - 8s 92ms/step - loss: 0.1589 - accuracy: 0.9515 - val_loss: 0.1756 - val_accuracy: 0.9496\n",
            "Epoch 10/50\n",
            "90/90 [==============================] - 8s 92ms/step - loss: 0.1898 - accuracy: 0.9459 - val_loss: 0.0860 - val_accuracy: 0.9706\n",
            "Epoch 11/50\n",
            "90/90 [==============================] - 9s 95ms/step - loss: 0.1604 - accuracy: 0.9564 - val_loss: 0.0608 - val_accuracy: 0.9874\n",
            "Epoch 12/50\n",
            "90/90 [==============================] - 8s 94ms/step - loss: 0.1114 - accuracy: 0.9660 - val_loss: 0.0761 - val_accuracy: 0.9790\n",
            "Epoch 13/50\n",
            "90/90 [==============================] - 9s 96ms/step - loss: 0.1427 - accuracy: 0.9629 - val_loss: 0.0624 - val_accuracy: 0.9832\n",
            "Epoch 14/50\n",
            "90/90 [==============================] - 8s 94ms/step - loss: 0.1412 - accuracy: 0.9659 - val_loss: 0.1208 - val_accuracy: 0.9622\n",
            "Epoch 15/50\n",
            "90/90 [==============================] - 9s 96ms/step - loss: 0.1228 - accuracy: 0.9702 - val_loss: 0.0783 - val_accuracy: 0.9748\n",
            "Epoch 16/50\n",
            "90/90 [==============================] - 9s 95ms/step - loss: 0.1257 - accuracy: 0.9703 - val_loss: 0.1244 - val_accuracy: 0.9538\n",
            "Epoch 17/50\n",
            "90/90 [==============================] - 8s 94ms/step - loss: 0.1111 - accuracy: 0.9687 - val_loss: 0.0867 - val_accuracy: 0.9790\n",
            "Epoch 18/50\n",
            "90/90 [==============================] - 8s 94ms/step - loss: 0.1054 - accuracy: 0.9773 - val_loss: 0.0529 - val_accuracy: 0.9874\n",
            "Epoch 19/50\n",
            "90/90 [==============================] - 8s 94ms/step - loss: 0.0842 - accuracy: 0.9746 - val_loss: 0.0571 - val_accuracy: 0.9832\n",
            "Epoch 20/50\n",
            "90/90 [==============================] - 8s 94ms/step - loss: 0.0714 - accuracy: 0.9798 - val_loss: 0.0283 - val_accuracy: 0.9916\n",
            "Epoch 21/50\n",
            "90/90 [==============================] - 9s 96ms/step - loss: 0.0928 - accuracy: 0.9761 - val_loss: 0.1358 - val_accuracy: 0.9580\n",
            "Epoch 22/50\n",
            "90/90 [==============================] - 9s 96ms/step - loss: 0.1013 - accuracy: 0.9736 - val_loss: 0.0905 - val_accuracy: 0.9748\n",
            "Epoch 23/50\n",
            "90/90 [==============================] - 8s 92ms/step - loss: 0.0944 - accuracy: 0.9722 - val_loss: 0.0762 - val_accuracy: 0.9748\n",
            "Epoch 24/50\n",
            "90/90 [==============================] - 8s 94ms/step - loss: 0.0974 - accuracy: 0.9743 - val_loss: 0.0829 - val_accuracy: 0.9622\n",
            "Epoch 25/50\n",
            "90/90 [==============================] - 8s 92ms/step - loss: 0.0874 - accuracy: 0.9748 - val_loss: 0.1213 - val_accuracy: 0.9664\n",
            "Epoch 26/50\n",
            "90/90 [==============================] - 8s 93ms/step - loss: 0.0831 - accuracy: 0.9749 - val_loss: 0.0777 - val_accuracy: 0.9832\n",
            "Epoch 27/50\n",
            "90/90 [==============================] - 8s 93ms/step - loss: 0.0727 - accuracy: 0.9771 - val_loss: 0.0469 - val_accuracy: 0.9874\n",
            "Epoch 28/50\n",
            "90/90 [==============================] - 8s 93ms/step - loss: 0.0727 - accuracy: 0.9755 - val_loss: 0.0770 - val_accuracy: 0.9748\n",
            "Epoch 29/50\n",
            "90/90 [==============================] - 8s 93ms/step - loss: 0.0644 - accuracy: 0.9798 - val_loss: 0.0764 - val_accuracy: 0.9790\n",
            "Epoch 30/50\n",
            "90/90 [==============================] - 8s 94ms/step - loss: 0.0793 - accuracy: 0.9767 - val_loss: 0.0690 - val_accuracy: 0.9832\n",
            "Epoch 31/50\n",
            "90/90 [==============================] - 8s 92ms/step - loss: 0.0632 - accuracy: 0.9828 - val_loss: 0.0656 - val_accuracy: 0.9790\n",
            "Epoch 32/50\n",
            "90/90 [==============================] - 8s 94ms/step - loss: 0.0741 - accuracy: 0.9763 - val_loss: 0.0435 - val_accuracy: 0.9916\n",
            "Epoch 33/50\n",
            "90/90 [==============================] - 8s 93ms/step - loss: 0.0726 - accuracy: 0.9832 - val_loss: 0.0817 - val_accuracy: 0.9706\n",
            "Epoch 34/50\n",
            "90/90 [==============================] - 8s 94ms/step - loss: 0.0640 - accuracy: 0.9813 - val_loss: 0.0295 - val_accuracy: 0.9874\n",
            "Epoch 35/50\n",
            "90/90 [==============================] - 8s 93ms/step - loss: 0.0706 - accuracy: 0.9830 - val_loss: 0.0162 - val_accuracy: 0.9916\n",
            "Epoch 36/50\n",
            "90/90 [==============================] - 8s 94ms/step - loss: 0.0675 - accuracy: 0.9826 - val_loss: 0.0207 - val_accuracy: 0.9916\n",
            "Epoch 37/50\n",
            "90/90 [==============================] - 8s 94ms/step - loss: 0.0528 - accuracy: 0.9860 - val_loss: 0.0394 - val_accuracy: 0.9832\n",
            "Epoch 38/50\n",
            "90/90 [==============================] - 9s 95ms/step - loss: 0.0647 - accuracy: 0.9848 - val_loss: 0.4067 - val_accuracy: 0.9076\n",
            "Epoch 39/50\n",
            "90/90 [==============================] - 8s 94ms/step - loss: 0.0636 - accuracy: 0.9794 - val_loss: 0.0483 - val_accuracy: 0.9832\n",
            "Epoch 40/50\n",
            "90/90 [==============================] - 8s 93ms/step - loss: 0.0734 - accuracy: 0.9797 - val_loss: 0.0285 - val_accuracy: 0.9916\n",
            "Epoch 41/50\n",
            "90/90 [==============================] - 8s 93ms/step - loss: 0.0646 - accuracy: 0.9809 - val_loss: 0.0468 - val_accuracy: 0.9874\n",
            "Epoch 42/50\n",
            "90/90 [==============================] - 8s 93ms/step - loss: 0.0754 - accuracy: 0.9785 - val_loss: 0.0580 - val_accuracy: 0.9706\n",
            "Epoch 43/50\n",
            "90/90 [==============================] - 9s 95ms/step - loss: 0.0547 - accuracy: 0.9874 - val_loss: 0.0949 - val_accuracy: 0.9664\n",
            "Epoch 44/50\n",
            "90/90 [==============================] - 8s 93ms/step - loss: 0.0621 - accuracy: 0.9845 - val_loss: 0.0428 - val_accuracy: 0.9790\n",
            "Epoch 45/50\n",
            "90/90 [==============================] - 9s 95ms/step - loss: 0.0443 - accuracy: 0.9863 - val_loss: 0.1576 - val_accuracy: 0.9622\n",
            "Epoch 46/50\n",
            "90/90 [==============================] - 9s 95ms/step - loss: 0.0798 - accuracy: 0.9774 - val_loss: 0.3438 - val_accuracy: 0.8866\n",
            "Epoch 47/50\n",
            "90/90 [==============================] - 9s 95ms/step - loss: 0.0612 - accuracy: 0.9839 - val_loss: 0.0387 - val_accuracy: 0.9874\n",
            "Epoch 48/50\n",
            "90/90 [==============================] - 9s 96ms/step - loss: 0.0569 - accuracy: 0.9832 - val_loss: 0.0674 - val_accuracy: 0.9790\n",
            "Epoch 49/50\n",
            "90/90 [==============================] - 9s 94ms/step - loss: 0.0565 - accuracy: 0.9837 - val_loss: 0.0479 - val_accuracy: 0.9832\n",
            "Epoch 50/50\n",
            "90/90 [==============================] - 8s 93ms/step - loss: 0.0592 - accuracy: 0.9837 - val_loss: 0.0729 - val_accuracy: 0.9748\n"
          ],
          "name": "stdout"
        }
      ]
    },
    {
      "cell_type": "code",
      "metadata": {
        "id": "KikcQb9ZpuLB"
      },
      "source": [
        "# model.save(dir_path + 'Models/gestures.h5')"
      ],
      "id": "KikcQb9ZpuLB",
      "execution_count": 12,
      "outputs": []
    },
    {
      "cell_type": "code",
      "metadata": {
        "colab": {
          "base_uri": "https://localhost:8080/"
        },
        "id": "integrated-optimization",
        "outputId": "cb8e3281-91e3-4c73-d120-9d5dd2f89bfe"
      },
      "source": [
        "print(\"Evaluate on test data\")\n",
        "results = model.evaluate(x_test, y_test, batch_size=24)\n",
        "print(\"test loss, test acc:\", results)\n",
        "model.save(dir_path + 'Models/gestures_dynamic_60', save_format='tf')"
      ],
      "id": "integrated-optimization",
      "execution_count": 13,
      "outputs": [
        {
          "output_type": "stream",
          "text": [
            "Evaluate on test data\n",
            "25/25 [==============================] - 1s 30ms/step - loss: 0.0464 - accuracy: 0.9882\n",
            "test loss, test acc: [0.04640038684010506, 0.9881556630134583]\n"
          ],
          "name": "stdout"
        },
        {
          "output_type": "stream",
          "text": [
            "WARNING:absl:Found untraced functions such as lstm_cell_layer_call_fn, lstm_cell_layer_call_and_return_conditional_losses, lstm_cell_1_layer_call_fn, lstm_cell_1_layer_call_and_return_conditional_losses, lstm_cell_2_layer_call_fn while saving (showing 5 of 20). These functions will not be directly callable after loading.\n",
            "WARNING:absl:Found untraced functions such as lstm_cell_layer_call_fn, lstm_cell_layer_call_and_return_conditional_losses, lstm_cell_1_layer_call_fn, lstm_cell_1_layer_call_and_return_conditional_losses, lstm_cell_2_layer_call_fn while saving (showing 5 of 20). These functions will not be directly callable after loading.\n"
          ],
          "name": "stderr"
        },
        {
          "output_type": "stream",
          "text": [
            "INFO:tensorflow:Assets written to: ./drive/MyDrive/BAKA/Models/gestures_dynamic_60/assets\n"
          ],
          "name": "stdout"
        },
        {
          "output_type": "stream",
          "text": [
            "INFO:tensorflow:Assets written to: ./drive/MyDrive/BAKA/Models/gestures_dynamic_60/assets\n"
          ],
          "name": "stderr"
        }
      ]
    },
    {
      "cell_type": "code",
      "metadata": {
        "id": "hFsQ_tEXw8WX"
      },
      "source": [
        "# new_model = load_model(dir_path + 'Models/gestures.h5')\n",
        "# print(\"Evaluate on test data\")\n",
        "# results = new_model.evaluate(x_test, y_test, batch_size=80)\n",
        "# print(\"test loss, test acc:\", results)"
      ],
      "id": "hFsQ_tEXw8WX",
      "execution_count": 14,
      "outputs": []
    },
    {
      "cell_type": "code",
      "metadata": {
        "colab": {
          "base_uri": "https://localhost:8080/"
        },
        "id": "faWZ2lOQ09Dj",
        "outputId": "ab0d1125-4b73-4e01-e8ad-6e199f6ee893"
      },
      "source": [
        "min_max_scaler.data_max_"
      ],
      "id": "faWZ2lOQ09Dj",
      "execution_count": 17,
      "outputs": [
        {
          "output_type": "execute_result",
          "data": {
            "text/plain": [
              "array([179.999, 179.998, 180.   , 179.997, 179.995, 179.997, 179.973,\n",
              "       180.   , 179.979, 179.938, 562.126, 701.2  , 533.133, 580.836,\n",
              "       721.897, 545.729, 579.616, 722.18 , 546.661, 579.62 , 727.649,\n",
              "       503.163, 594.318, 743.124, 508.462, 510.422, 722.803, 501.416,\n",
              "       173.127, 162.605, 164.575])"
            ]
          },
          "metadata": {
            "tags": []
          },
          "execution_count": 17
        }
      ]
    },
    {
      "cell_type": "code",
      "metadata": {
        "id": "NOWq0Fev1RI-",
        "colab": {
          "base_uri": "https://localhost:8080/"
        },
        "outputId": "eb11f007-720c-43b9-c02c-5af42db5b3e9"
      },
      "source": [
        "model.input"
      ],
      "id": "NOWq0Fev1RI-",
      "execution_count": 16,
      "outputs": [
        {
          "output_type": "execute_result",
          "data": {
            "text/plain": [
              "<KerasTensor: shape=(None, 60, 31) dtype=float64 (created by layer 'lstm_input')>"
            ]
          },
          "metadata": {
            "tags": []
          },
          "execution_count": 16
        }
      ]
    },
    {
      "cell_type": "code",
      "metadata": {
        "id": "FhIACF0-aQgh"
      },
      "source": [
        ""
      ],
      "id": "FhIACF0-aQgh",
      "execution_count": 16,
      "outputs": []
    }
  ]
}