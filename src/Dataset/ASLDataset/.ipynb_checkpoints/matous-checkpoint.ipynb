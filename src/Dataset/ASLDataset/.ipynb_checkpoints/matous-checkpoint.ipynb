{
 "cells": [
  {
   "cell_type": "code",
   "execution_count": 1,
   "id": "asian-anthony",
   "metadata": {},
   "outputs": [],
   "source": [
    "import pandas as pd\n",
    "import numpy as np\n",
    "import os\n",
    "import math\n",
    "import tensorflow as tf\n",
    "from tensorflow.keras.models import Sequential, Model, load_model\n",
    "from tensorflow.keras.layers import Dense, Dropout, LSTM, BatchNormalization"
   ]
  },
  {
   "cell_type": "code",
   "execution_count": 4,
   "id": "structural-scotland",
   "metadata": {},
   "outputs": [
    {
     "name": "stdout",
     "output_type": "stream",
     "text": [
      "Evaluate on test data\n",
      "Model: \"sequential_6\"\n",
      "_________________________________________________________________\n",
      "Layer (type)                 Output Shape              Param #   \n",
      "=================================================================\n",
      "lstm_24 (LSTM)               (None, 200, 200)          185600    \n",
      "_________________________________________________________________\n",
      "batch_normalization_24 (Batc (None, 200, 200)          800       \n",
      "_________________________________________________________________\n",
      "dropout_24 (Dropout)         (None, 200, 200)          0         \n",
      "_________________________________________________________________\n",
      "lstm_25 (LSTM)               (None, 200, 200)          320800    \n",
      "_________________________________________________________________\n",
      "batch_normalization_25 (Batc (None, 200, 200)          800       \n",
      "_________________________________________________________________\n",
      "dropout_25 (Dropout)         (None, 200, 200)          0         \n",
      "_________________________________________________________________\n",
      "lstm_26 (LSTM)               (None, 200, 200)          320800    \n",
      "_________________________________________________________________\n",
      "batch_normalization_26 (Batc (None, 200, 200)          800       \n",
      "_________________________________________________________________\n",
      "dropout_26 (Dropout)         (None, 200, 200)          0         \n",
      "_________________________________________________________________\n",
      "lstm_27 (LSTM)               (None, 200)               320800    \n",
      "_________________________________________________________________\n",
      "batch_normalization_27 (Batc (None, 200)               800       \n",
      "_________________________________________________________________\n",
      "dropout_27 (Dropout)         (None, 200)               0         \n",
      "_________________________________________________________________\n",
      "dense_6 (Dense)              (None, 30)                6030      \n",
      "=================================================================\n",
      "Total params: 1,157,230\n",
      "Trainable params: 1,155,630\n",
      "Non-trainable params: 1,600\n",
      "_________________________________________________________________\n"
     ]
    }
   ],
   "source": [
    "new_model = load_model('gestures.h5')\n",
    "print(\"Evaluate on test data\")\n",
    "new_model.summary()\n",
    "# results = new_model.evaluate(x_test, y_test, batch_size=80)\n",
    "# print(\"test loss, test acc:\", results)\n",
    "new_model.save('gestures_tf', save_format='tf')"
   ]
  },
  {
   "cell_type": "code",
   "execution_count": null,
   "id": "accepting-battlefield",
   "metadata": {},
   "outputs": [],
   "source": []
  }
 ],
 "metadata": {
  "kernelspec": {
   "display_name": "Python 3",
   "language": "python",
   "name": "python3"
  },
  "language_info": {
   "codemirror_mode": {
    "name": "ipython",
    "version": 3
   },
   "file_extension": ".py",
   "mimetype": "text/x-python",
   "name": "python",
   "nbconvert_exporter": "python",
   "pygments_lexer": "ipython3",
   "version": "3.8.8"
  }
 },
 "nbformat": 4,
 "nbformat_minor": 5
}
