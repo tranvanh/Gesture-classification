{
 "cells": [
  {
   "cell_type": "code",
   "execution_count": 1,
   "id": "flying-tomorrow",
   "metadata": {},
   "outputs": [],
   "source": [
    "import pandas as pd\n",
    "import numpy as np\n",
    "import os\n",
    "import math\n",
    "import tensorflow as tf\n",
    "from tensorflow.keras.models import Sequential, Model, load_model\n",
    "from tensorflow.keras.layers import Dense, Dropout, LSTM, BatchNormalization\n",
    "from sklearn.utils import shuffle\n",
    "from sklearn.preprocessing import MinMaxScaler, StandardScaler\n",
    "physical_devices = tf.config.list_physical_devices('GPU')\n",
    "tf.config.experimental.set_memory_growth(physical_devices[0], enable=True)\n",
    "dir_path = './' #local\n",
    "# dir_path = './drive/MyDrive/BAKA/' #colab"
   ]
  },
  {
   "cell_type": "code",
   "execution_count": null,
   "id": "documented-archives",
   "metadata": {},
   "outputs": [],
   "source": [
    "req_files = ['0', '1', '10', '2', '3', '4', '5']"
   ]
  },
  {
   "cell_type": "code",
   "execution_count": 2,
   "id": "artistic-leadership",
   "metadata": {},
   "outputs": [
    {
     "data": {
      "text/plain": [
       "['0', '1', '10', '2', '3', '4', '5', '6', '7', '8', '9']"
      ]
     },
     "execution_count": 2,
     "metadata": {},
     "output_type": "execute_result"
    }
   ],
   "source": [
    "files = os.listdir(dir_path + 'DataCollection')\n",
    "output_path = dir_path + 'DataCollectionSplit'\n",
    "files"
   ]
  },
  {
   "cell_type": "code",
   "execution_count": null,
   "id": "devoted-agenda",
   "metadata": {},
   "outputs": [],
   "source": [
    "for rf in req_files:\n",
    "    samples = os.listdir(dir_path + 'DataCollection/' + rf)\n",
    "    count = 0;\n",
    "    for s in samples:\n",
    "        df = pd.read_csv(dir_path + 'DataCollection' + '/' + i + '/' + s, header=None, sep=' ')\n",
    "        df = df.drop(columns=[31])\n",
    "        sp_df = np.array_split(df, 2)\n",
    "        for sd in sp_df:\n",
    "            sd.to_csv(output_path + '/' + rf + '/' + str(count) +'.txt', header=None, sep=' ', index=False)\n",
    "            print('succes: ', rf, ' ', count)\n",
    "            count  = count + 1"
   ]
  }
 ],
 "metadata": {
  "kernelspec": {
   "display_name": "Python 3",
   "language": "python",
   "name": "python3"
  },
  "language_info": {
   "codemirror_mode": {
    "name": "ipython",
    "version": 3
   },
   "file_extension": ".py",
   "mimetype": "text/x-python",
   "name": "python",
   "nbconvert_exporter": "python",
   "pygments_lexer": "ipython3",
   "version": "3.8.8"
  }
 },
 "nbformat": 4,
 "nbformat_minor": 5
}
