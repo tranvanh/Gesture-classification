{
  "nbformat": 4,
  "nbformat_minor": 5,
  "metadata": {
    "accelerator": "GPU",
    "colab": {
      "name": "feature_computation.ipynb",
      "provenance": []
    },
    "kernelspec": {
      "display_name": "Python 3",
      "language": "python",
      "name": "python3"
    },
    "language_info": {
      "codemirror_mode": {
        "name": "ipython",
        "version": 3
      },
      "file_extension": ".py",
      "mimetype": "text/x-python",
      "name": "python",
      "nbconvert_exporter": "python",
      "pygments_lexer": "ipython3",
      "version": "3.8.8"
    }
  },
  "cells": [
    {
      "cell_type": "markdown",
      "metadata": {
        "id": "geological-matrix"
      },
      "source": [
        "# Imports and initialization"
      ],
      "id": "geological-matrix"
    },
    {
      "cell_type": "code",
      "metadata": {
        "id": "caring-species"
      },
      "source": [
        "import pandas as pd\n",
        "import numpy as np\n",
        "import os\n",
        "import math\n",
        "import tensorflow as tf\n",
        "from tensorflow.keras.models import Sequential, Model, load_model\n",
        "from tensorflow.keras.layers import Dense, Dropout, LSTM, BatchNormalization, Bidirectional\n",
        "from sklearn.utils import shuffle\n",
        "from sklearn.preprocessing import MinMaxScaler, StandardScaler\n",
        "physical_devices = tf.config.list_physical_devices('GPU')\n",
        "tf.config.experimental.set_memory_growth(physical_devices[0], enable=True)"
      ],
      "id": "caring-species",
      "execution_count": 6,
      "outputs": []
    },
    {
      "cell_type": "markdown",
      "metadata": {
        "id": "uniform-stream"
      },
      "source": [
        "Choose one of the two below cells depending on the environment."
      ],
      "id": "uniform-stream"
    },
    {
      "cell_type": "code",
      "metadata": {
        "id": "continuous-johnston"
      },
      "source": [
        "# dir_path = './' #uncomment if in local environment"
      ],
      "id": "continuous-johnston",
      "execution_count": 7,
      "outputs": []
    },
    {
      "cell_type": "code",
      "metadata": {
        "colab": {
          "base_uri": "https://localhost:8080/"
        },
        "id": "KstfPbJfzIAV",
        "outputId": "b1c950ee-6779-4a7c-ec3c-32d094847bc2"
      },
      "source": [
        "#uncomment in google colab environment\n",
        "from google.colab import drive\n",
        "drive.mount('/content/drive', force_remount=True) #path to root directory in Drive\n",
        "dir_path = './drive/MyDrive/BAKA/' #colab\n",
        "df = pd.read_csv(dir_path + 'DataCollection' + '/' + '1' + '/' + '0.txt', header=None, sep=' ')\n",
        "if len(df.columns) > 31:\n",
        "  df = df.drop(columns=[31])"
      ],
      "id": "KstfPbJfzIAV",
      "execution_count": 8,
      "outputs": [
        {
          "output_type": "stream",
          "text": [
            "Mounted at /content/drive\n"
          ],
          "name": "stdout"
        }
      ]
    },
    {
      "cell_type": "code",
      "metadata": {
        "colab": {
          "base_uri": "https://localhost:8080/"
        },
        "id": "signal-friendly",
        "outputId": "21d5b620-5516-41c7-97ee-5c6f39a42f8f"
      },
      "source": [
        "files = os.listdir(dir_path + 'DataCollection')\n",
        "files"
      ],
      "id": "signal-friendly",
      "execution_count": 9,
      "outputs": [
        {
          "output_type": "execute_result",
          "data": {
            "text/plain": [
              "['4', '7', '8', '0', '5', '2', '3', '6', '1']"
            ]
          },
          "metadata": {
            "tags": []
          },
          "execution_count": 9
        }
      ]
    },
    {
      "cell_type": "markdown",
      "metadata": {
        "id": "packed-staff"
      },
      "source": [
        "# Dataset Split\n",
        "Split samples into Test sets and Training sets <br>\n",
        "Use 20% of available samples for Testing and the remaining for Training"
      ],
      "id": "packed-staff"
    },
    {
      "cell_type": "code",
      "metadata": {
        "colab": {
          "base_uri": "https://localhost:8080/"
        },
        "id": "annoying-rotation",
        "outputId": "a191a476-8166-4426-e0f3-5fa596853e53"
      },
      "source": [
        "x_train = [];\n",
        "y_train = [];\n",
        "\n",
        "x_test = [];\n",
        "y_test = [];\n",
        "for i in files:\n",
        "    samples = os.listdir(dir_path + 'DataCollection' + '/' + i)\n",
        "    num_tests = len(samples);\n",
        "    shuffle(samples, random_state = 0)\n",
        "\n",
        "    for k in range(0, num_tests):\n",
        "        df = pd.read_csv(dir_path + 'DataCollection' + '/' + i + '/' + samples[k], header=None, sep=' ')\n",
        "        df = df.drop(df.index[60:])\n",
        "        if len(df.columns) > 31:\n",
        "          df = df.drop(columns=[31])\n",
        "        if df.isnull().values.any():\n",
        "          print(i, \" \", samples[k])\n",
        "        x_train.append(df.to_numpy())\n",
        "        y_train.append(int(i));\n",
        "    \n",
        "    print(len(samples), ' ', num_tests, ' ', len(samples)- num_tests)\n",
        "x_train = np.array(x_train)\n",
        "y_train = np.array(y_train);\n",
        "\n",
        "print(\"x_train.shape: \", x_train.shape)\n",
        "print(\"y_train.shiape: \", y_train.shape)"
      ],
      "id": "annoying-rotation",
      "execution_count": 10,
      "outputs": [
        {
          "output_type": "stream",
          "text": [
            "204   204   0\n",
            "264   264   0\n",
            "233   233   0\n",
            "253   253   0\n",
            "771   771   0\n",
            "320   320   0\n",
            "285   285   0\n",
            "266   266   0\n",
            "390   390   0\n",
            "x_train.shape:  (2986, 60, 31)\n",
            "y_train.shiape:  (2986,)\n"
          ],
          "name": "stdout"
        }
      ]
    },
    {
      "cell_type": "code",
      "metadata": {
        "id": "orange-character",
        "colab": {
          "base_uri": "https://localhost:8080/"
        },
        "outputId": "600a1b75-5bbf-4442-c19a-1be393a8f381"
      },
      "source": [
        "print(\"x_train.shape: \", x_train.shape)\n",
        "print(\"y_train.shiape: \", y_train.shape)"
      ],
      "id": "orange-character",
      "execution_count": 11,
      "outputs": [
        {
          "output_type": "stream",
          "text": [
            "x_train.shape:  (2986, 60, 31)\n",
            "y_train.shiape:  (2986,)\n"
          ],
          "name": "stdout"
        }
      ]
    },
    {
      "cell_type": "markdown",
      "metadata": {
        "id": "choice-dollar"
      },
      "source": [
        "### Scaling and feature labels\n",
        "Apply min-max scaling technique and relable features corresponding to the description in bachelor thesis's text"
      ],
      "id": "choice-dollar"
    },
    {
      "cell_type": "code",
      "metadata": {
        "id": "sensitive-cheat"
      },
      "source": [
        "def scale_data(data, min_max_scaler):\n",
        "    for i in range(len(data)):\n",
        "        data[i] = min_max_scaler.transform(data[i])\n",
        "    return data"
      ],
      "id": "sensitive-cheat",
      "execution_count": 12,
      "outputs": []
    },
    {
      "cell_type": "markdown",
      "metadata": {
        "id": "ancient-freight"
      },
      "source": [
        "Form preprocessed datasets to corresponding shapes as well as shuffle samples"
      ],
      "id": "ancient-freight"
    },
    {
      "cell_type": "code",
      "metadata": {
        "id": "broke-sailing"
      },
      "source": [
        "min_max_scaler = MinMaxScaler(feature_range=(0,1))\n",
        "\n",
        "num_instances, num_time_steps, num_features = x_train.shape\n",
        "x_train = np.reshape(x_train, newshape=(-1, num_features))\n",
        "x_train = min_max_scaler.fit_transform(x_train)\n",
        "x_train = np.reshape(x_train, newshape=(num_instances, num_time_steps, num_features))\n",
        "\n",
        "x_train, y_train = shuffle(x_train, y_train, random_state=0)\n"
      ],
      "id": "broke-sailing",
      "execution_count": 13,
      "outputs": []
    },
    {
      "cell_type": "code",
      "metadata": {
        "id": "discrete-kansas",
        "colab": {
          "base_uri": "https://localhost:8080/"
        },
        "outputId": "211aae4a-e106-4e2f-df88-333585634818"
      },
      "source": [
        "print(\"x_train.shape: \", x_train.shape)\n",
        "print(\"y_train.shiape: \", y_train.shape)"
      ],
      "id": "discrete-kansas",
      "execution_count": 14,
      "outputs": [
        {
          "output_type": "stream",
          "text": [
            "x_train.shape:  (2986, 60, 31)\n",
            "y_train.shiape:  (2986,)\n"
          ],
          "name": "stdout"
        }
      ]
    },
    {
      "cell_type": "markdown",
      "metadata": {
        "id": "first-decrease"
      },
      "source": [
        "# Model definition\n",
        "\n",
        "Define Two-layered bidirectional LSTM<br>\n",
        "Each layer consists of `Bidirectional(LSTM)` cell with addition of `Dropout()` and `BatchNormalization()` to minimize overfitting and decrease learning time"
      ],
      "id": "first-decrease"
    },
    {
      "cell_type": "code",
      "metadata": {
        "id": "lhabYU0vjbLQ",
        "colab": {
          "base_uri": "https://localhost:8080/"
        },
        "outputId": "1aa135e8-5da3-41b6-e21a-47a76fa29395"
      },
      "source": [
        "model = Sequential()\n",
        "model.add(Bidirectional(LSTM(units=60, return_sequences=True ,dtype='float64'),input_shape=x_train.shape[1:],dtype='float64'))\n",
        "model.add(BatchNormalization())\n",
        "model.add(Dropout(0.6))\n",
        "\n",
        "model.add(Bidirectional(LSTM(units=60 ,dtype='float64') ,dtype='float64'))\n",
        "model.add(BatchNormalization())\n",
        "model.add(Dropout(0.6))\n",
        "\n",
        "model.add(Dense(len(files), activation='softmax',dtype='float64'))\n",
        "model.summary()"
      ],
      "id": "lhabYU0vjbLQ",
      "execution_count": 19,
      "outputs": [
        {
          "output_type": "stream",
          "text": [
            "Model: \"sequential_2\"\n",
            "_________________________________________________________________\n",
            "Layer (type)                 Output Shape              Param #   \n",
            "=================================================================\n",
            "bidirectional_4 (Bidirection (None, 60, 120)           44160     \n",
            "_________________________________________________________________\n",
            "batch_normalization_4 (Batch (None, 60, 120)           480       \n",
            "_________________________________________________________________\n",
            "dropout_4 (Dropout)          (None, 60, 120)           0         \n",
            "_________________________________________________________________\n",
            "bidirectional_5 (Bidirection (None, 120)               86880     \n",
            "_________________________________________________________________\n",
            "batch_normalization_5 (Batch (None, 120)               480       \n",
            "_________________________________________________________________\n",
            "dropout_5 (Dropout)          (None, 120)               0         \n",
            "_________________________________________________________________\n",
            "dense_2 (Dense)              (None, 9)                 1089      \n",
            "=================================================================\n",
            "Total params: 133,089\n",
            "Trainable params: 132,609\n",
            "Non-trainable params: 480\n",
            "_________________________________________________________________\n"
          ],
          "name": "stdout"
        }
      ]
    },
    {
      "cell_type": "markdown",
      "metadata": {
        "id": "senior-madrid"
      },
      "source": [
        "# Training\n",
        "\n",
        "Model training using 200 epochs <br>\n",
        "Marking checkpoints(models with best `val_accuracy`) to `./Checkpoints` directory"
      ],
      "id": "senior-madrid"
    },
    {
      "cell_type": "code",
      "metadata": {
        "id": "after-sperm",
        "colab": {
          "base_uri": "https://localhost:8080/"
        },
        "outputId": "5623bf41-0e26-43f1-eadb-b2888569575f"
      },
      "source": [
        "opt = tf.keras.optimizers.Adam(learning_rate=0.0001, decay=1e-5)\n",
        "\n",
        "checkpoint_filepath = dir_path + 'Checkpoints/'\n",
        "model_checkpoint_callback = tf.keras.callbacks.ModelCheckpoint(\n",
        "    filepath=checkpoint_filepath,\n",
        "    save_weights_only=True,\n",
        "    monitor='val_accuracy',\n",
        "    mode='max',\n",
        "    save_best_only=True)\n",
        "\n",
        "model.compile(\n",
        "    loss='sparse_categorical_crossentropy',\n",
        "    optimizer=opt,\n",
        "    metrics=['accuracy'],\n",
        ")\n",
        "\n",
        "\n",
        "gestures = model.fit(x = x_train,\n",
        "            y = y_train,\n",
        "            epochs=200,\n",
        "            batch_size=24,\n",
        "            shuffle=True\n",
        "         )"
      ],
      "id": "after-sperm",
      "execution_count": 20,
      "outputs": [
        {
          "output_type": "stream",
          "text": [
            "Epoch 1/200\n",
            "125/125 [==============================] - 63s 31ms/step - loss: 2.9598 - accuracy: 0.2210\n",
            "Epoch 2/200\n",
            "125/125 [==============================] - 4s 31ms/step - loss: 1.8457 - accuracy: 0.4126\n",
            "Epoch 3/200\n",
            "125/125 [==============================] - 4s 30ms/step - loss: 1.2754 - accuracy: 0.5827\n",
            "Epoch 4/200\n",
            "125/125 [==============================] - 4s 30ms/step - loss: 0.9118 - accuracy: 0.6865\n",
            "Epoch 5/200\n",
            "125/125 [==============================] - 4s 31ms/step - loss: 0.7491 - accuracy: 0.7448\n",
            "Epoch 6/200\n",
            "125/125 [==============================] - 4s 31ms/step - loss: 0.5843 - accuracy: 0.8024\n",
            "Epoch 7/200\n",
            "125/125 [==============================] - 4s 31ms/step - loss: 0.5288 - accuracy: 0.8238\n",
            "Epoch 8/200\n",
            "125/125 [==============================] - 4s 31ms/step - loss: 0.4330 - accuracy: 0.8627\n",
            "Epoch 9/200\n",
            "125/125 [==============================] - 4s 31ms/step - loss: 0.4195 - accuracy: 0.8684\n",
            "Epoch 10/200\n",
            "125/125 [==============================] - 4s 31ms/step - loss: 0.3498 - accuracy: 0.8875\n",
            "Epoch 11/200\n",
            "125/125 [==============================] - 4s 31ms/step - loss: 0.3289 - accuracy: 0.8948\n",
            "Epoch 12/200\n",
            "125/125 [==============================] - 4s 30ms/step - loss: 0.2994 - accuracy: 0.9049\n",
            "Epoch 13/200\n",
            "125/125 [==============================] - 4s 30ms/step - loss: 0.2442 - accuracy: 0.9203\n",
            "Epoch 14/200\n",
            "125/125 [==============================] - 4s 30ms/step - loss: 0.2410 - accuracy: 0.9280\n",
            "Epoch 15/200\n",
            "125/125 [==============================] - 4s 30ms/step - loss: 0.2488 - accuracy: 0.9250\n",
            "Epoch 16/200\n",
            "125/125 [==============================] - 4s 31ms/step - loss: 0.2248 - accuracy: 0.9367\n",
            "Epoch 17/200\n",
            "125/125 [==============================] - 4s 31ms/step - loss: 0.2073 - accuracy: 0.9407\n",
            "Epoch 18/200\n",
            "125/125 [==============================] - 4s 31ms/step - loss: 0.2051 - accuracy: 0.9374\n",
            "Epoch 19/200\n",
            "125/125 [==============================] - 4s 30ms/step - loss: 0.1679 - accuracy: 0.9498\n",
            "Epoch 20/200\n",
            "125/125 [==============================] - 4s 31ms/step - loss: 0.1833 - accuracy: 0.9454\n",
            "Epoch 21/200\n",
            "125/125 [==============================] - 4s 31ms/step - loss: 0.1769 - accuracy: 0.9498\n",
            "Epoch 22/200\n",
            "125/125 [==============================] - 4s 30ms/step - loss: 0.1571 - accuracy: 0.9558\n",
            "Epoch 23/200\n",
            "125/125 [==============================] - 4s 30ms/step - loss: 0.1558 - accuracy: 0.9561\n",
            "Epoch 24/200\n",
            "125/125 [==============================] - 4s 30ms/step - loss: 0.1610 - accuracy: 0.9591\n",
            "Epoch 25/200\n",
            "125/125 [==============================] - 4s 30ms/step - loss: 0.1401 - accuracy: 0.9588\n",
            "Epoch 26/200\n",
            "125/125 [==============================] - 4s 31ms/step - loss: 0.1563 - accuracy: 0.9595\n",
            "Epoch 27/200\n",
            "125/125 [==============================] - 4s 30ms/step - loss: 0.1430 - accuracy: 0.9632\n",
            "Epoch 28/200\n",
            "125/125 [==============================] - 4s 30ms/step - loss: 0.1247 - accuracy: 0.9632\n",
            "Epoch 29/200\n",
            "125/125 [==============================] - 4s 30ms/step - loss: 0.1339 - accuracy: 0.9645\n",
            "Epoch 30/200\n",
            "125/125 [==============================] - 4s 31ms/step - loss: 0.1204 - accuracy: 0.9682\n",
            "Epoch 31/200\n",
            "125/125 [==============================] - 4s 30ms/step - loss: 0.1413 - accuracy: 0.9588\n",
            "Epoch 32/200\n",
            "125/125 [==============================] - 4s 30ms/step - loss: 0.1167 - accuracy: 0.9699\n",
            "Epoch 33/200\n",
            "125/125 [==============================] - 4s 30ms/step - loss: 0.1124 - accuracy: 0.9692\n",
            "Epoch 34/200\n",
            "125/125 [==============================] - 4s 31ms/step - loss: 0.1216 - accuracy: 0.9672\n",
            "Epoch 35/200\n",
            "125/125 [==============================] - 4s 30ms/step - loss: 0.1238 - accuracy: 0.9652\n",
            "Epoch 36/200\n",
            "125/125 [==============================] - 4s 31ms/step - loss: 0.1123 - accuracy: 0.9709\n",
            "Epoch 37/200\n",
            "125/125 [==============================] - 4s 30ms/step - loss: 0.0978 - accuracy: 0.9712\n",
            "Epoch 38/200\n",
            "125/125 [==============================] - 4s 31ms/step - loss: 0.0972 - accuracy: 0.9692\n",
            "Epoch 39/200\n",
            "125/125 [==============================] - 4s 31ms/step - loss: 0.0893 - accuracy: 0.9749\n",
            "Epoch 40/200\n",
            "125/125 [==============================] - 4s 30ms/step - loss: 0.0951 - accuracy: 0.9739\n",
            "Epoch 41/200\n",
            "125/125 [==============================] - 4s 30ms/step - loss: 0.0977 - accuracy: 0.9719\n",
            "Epoch 42/200\n",
            "125/125 [==============================] - 4s 30ms/step - loss: 0.0944 - accuracy: 0.9756\n",
            "Epoch 43/200\n",
            "125/125 [==============================] - 4s 30ms/step - loss: 0.0897 - accuracy: 0.9752\n",
            "Epoch 44/200\n",
            "125/125 [==============================] - 4s 31ms/step - loss: 0.0831 - accuracy: 0.9756\n",
            "Epoch 45/200\n",
            "125/125 [==============================] - 4s 31ms/step - loss: 0.0863 - accuracy: 0.9732\n",
            "Epoch 46/200\n",
            "125/125 [==============================] - 4s 30ms/step - loss: 0.0926 - accuracy: 0.9766\n",
            "Epoch 47/200\n",
            "125/125 [==============================] - 4s 30ms/step - loss: 0.0705 - accuracy: 0.9799\n",
            "Epoch 48/200\n",
            "125/125 [==============================] - 4s 31ms/step - loss: 0.0889 - accuracy: 0.9756\n",
            "Epoch 49/200\n",
            "125/125 [==============================] - 4s 31ms/step - loss: 0.0733 - accuracy: 0.9786\n",
            "Epoch 50/200\n",
            "125/125 [==============================] - 4s 31ms/step - loss: 0.0657 - accuracy: 0.9799\n",
            "Epoch 51/200\n",
            "125/125 [==============================] - 4s 31ms/step - loss: 0.0685 - accuracy: 0.9823\n",
            "Epoch 52/200\n",
            "125/125 [==============================] - 4s 30ms/step - loss: 0.0629 - accuracy: 0.9839\n",
            "Epoch 53/200\n",
            "125/125 [==============================] - 4s 31ms/step - loss: 0.0650 - accuracy: 0.9833\n",
            "Epoch 54/200\n",
            "125/125 [==============================] - 4s 30ms/step - loss: 0.0862 - accuracy: 0.9782\n",
            "Epoch 55/200\n",
            "125/125 [==============================] - 4s 30ms/step - loss: 0.0729 - accuracy: 0.9809\n",
            "Epoch 56/200\n",
            "125/125 [==============================] - 4s 30ms/step - loss: 0.0671 - accuracy: 0.9823\n",
            "Epoch 57/200\n",
            "125/125 [==============================] - 4s 31ms/step - loss: 0.0674 - accuracy: 0.9792\n",
            "Epoch 58/200\n",
            "125/125 [==============================] - 4s 31ms/step - loss: 0.0672 - accuracy: 0.9839\n",
            "Epoch 59/200\n",
            "125/125 [==============================] - 4s 31ms/step - loss: 0.0686 - accuracy: 0.9816\n",
            "Epoch 60/200\n",
            "125/125 [==============================] - 4s 30ms/step - loss: 0.0573 - accuracy: 0.9846\n",
            "Epoch 61/200\n",
            "125/125 [==============================] - 4s 31ms/step - loss: 0.0629 - accuracy: 0.9819\n",
            "Epoch 62/200\n",
            "125/125 [==============================] - 4s 31ms/step - loss: 0.0681 - accuracy: 0.9823\n",
            "Epoch 63/200\n",
            "125/125 [==============================] - 4s 30ms/step - loss: 0.0587 - accuracy: 0.9806\n",
            "Epoch 64/200\n",
            "125/125 [==============================] - 4s 30ms/step - loss: 0.0704 - accuracy: 0.9792\n",
            "Epoch 65/200\n",
            "125/125 [==============================] - 4s 31ms/step - loss: 0.0533 - accuracy: 0.9839\n",
            "Epoch 66/200\n",
            "125/125 [==============================] - 4s 31ms/step - loss: 0.0542 - accuracy: 0.9846\n",
            "Epoch 67/200\n",
            "125/125 [==============================] - 4s 31ms/step - loss: 0.0557 - accuracy: 0.9836\n",
            "Epoch 68/200\n",
            "125/125 [==============================] - 4s 31ms/step - loss: 0.0638 - accuracy: 0.9829\n",
            "Epoch 69/200\n",
            "125/125 [==============================] - 4s 31ms/step - loss: 0.0639 - accuracy: 0.9829\n",
            "Epoch 70/200\n",
            "125/125 [==============================] - 4s 31ms/step - loss: 0.0504 - accuracy: 0.9856\n",
            "Epoch 71/200\n",
            "125/125 [==============================] - 4s 31ms/step - loss: 0.0511 - accuracy: 0.9886\n",
            "Epoch 72/200\n",
            "125/125 [==============================] - 4s 31ms/step - loss: 0.0558 - accuracy: 0.9833\n",
            "Epoch 73/200\n",
            "125/125 [==============================] - 4s 31ms/step - loss: 0.0563 - accuracy: 0.9849\n",
            "Epoch 74/200\n",
            "125/125 [==============================] - 4s 30ms/step - loss: 0.0481 - accuracy: 0.9863\n",
            "Epoch 75/200\n",
            "125/125 [==============================] - 4s 31ms/step - loss: 0.0485 - accuracy: 0.9863\n",
            "Epoch 76/200\n",
            "125/125 [==============================] - 4s 30ms/step - loss: 0.0527 - accuracy: 0.9869\n",
            "Epoch 77/200\n",
            "125/125 [==============================] - 4s 31ms/step - loss: 0.0565 - accuracy: 0.9876\n",
            "Epoch 78/200\n",
            "125/125 [==============================] - 4s 31ms/step - loss: 0.0426 - accuracy: 0.9903\n",
            "Epoch 79/200\n",
            "125/125 [==============================] - 4s 31ms/step - loss: 0.0490 - accuracy: 0.9873\n",
            "Epoch 80/200\n",
            "125/125 [==============================] - 4s 31ms/step - loss: 0.0387 - accuracy: 0.9886\n",
            "Epoch 81/200\n",
            "125/125 [==============================] - 4s 31ms/step - loss: 0.0598 - accuracy: 0.9833\n",
            "Epoch 82/200\n",
            "125/125 [==============================] - 4s 31ms/step - loss: 0.0565 - accuracy: 0.9843\n",
            "Epoch 83/200\n",
            "125/125 [==============================] - 4s 31ms/step - loss: 0.0454 - accuracy: 0.9863\n",
            "Epoch 84/200\n",
            "125/125 [==============================] - 4s 31ms/step - loss: 0.0447 - accuracy: 0.9873\n",
            "Epoch 85/200\n",
            "125/125 [==============================] - 4s 31ms/step - loss: 0.0448 - accuracy: 0.9913\n",
            "Epoch 86/200\n",
            "125/125 [==============================] - 4s 31ms/step - loss: 0.0447 - accuracy: 0.9896\n",
            "Epoch 87/200\n",
            "125/125 [==============================] - 4s 30ms/step - loss: 0.0439 - accuracy: 0.9906\n",
            "Epoch 88/200\n",
            "125/125 [==============================] - 4s 31ms/step - loss: 0.0520 - accuracy: 0.9843\n",
            "Epoch 89/200\n",
            "125/125 [==============================] - 4s 31ms/step - loss: 0.0450 - accuracy: 0.9889\n",
            "Epoch 90/200\n",
            "125/125 [==============================] - 4s 31ms/step - loss: 0.0633 - accuracy: 0.9829\n",
            "Epoch 91/200\n",
            "125/125 [==============================] - 4s 31ms/step - loss: 0.0408 - accuracy: 0.9863\n",
            "Epoch 92/200\n",
            "125/125 [==============================] - 4s 31ms/step - loss: 0.0388 - accuracy: 0.9869\n",
            "Epoch 93/200\n",
            "125/125 [==============================] - 4s 31ms/step - loss: 0.0311 - accuracy: 0.9910\n",
            "Epoch 94/200\n",
            "125/125 [==============================] - 4s 30ms/step - loss: 0.0467 - accuracy: 0.9863\n",
            "Epoch 95/200\n",
            "125/125 [==============================] - 4s 31ms/step - loss: 0.0369 - accuracy: 0.9879\n",
            "Epoch 96/200\n",
            "125/125 [==============================] - 4s 31ms/step - loss: 0.0386 - accuracy: 0.9900\n",
            "Epoch 97/200\n",
            "125/125 [==============================] - 4s 30ms/step - loss: 0.0358 - accuracy: 0.9916\n",
            "Epoch 98/200\n",
            "125/125 [==============================] - 4s 31ms/step - loss: 0.0372 - accuracy: 0.9910\n",
            "Epoch 99/200\n",
            "125/125 [==============================] - 4s 31ms/step - loss: 0.0457 - accuracy: 0.9886\n",
            "Epoch 100/200\n",
            "125/125 [==============================] - 4s 31ms/step - loss: 0.0242 - accuracy: 0.9943\n",
            "Epoch 101/200\n",
            "125/125 [==============================] - 4s 30ms/step - loss: 0.0283 - accuracy: 0.9943\n",
            "Epoch 102/200\n",
            "125/125 [==============================] - 4s 31ms/step - loss: 0.0365 - accuracy: 0.9910\n",
            "Epoch 103/200\n",
            "125/125 [==============================] - 4s 31ms/step - loss: 0.0511 - accuracy: 0.9873\n",
            "Epoch 104/200\n",
            "125/125 [==============================] - 4s 31ms/step - loss: 0.0290 - accuracy: 0.9896\n",
            "Epoch 105/200\n",
            "125/125 [==============================] - 4s 31ms/step - loss: 0.0330 - accuracy: 0.9910\n",
            "Epoch 106/200\n",
            "125/125 [==============================] - 4s 31ms/step - loss: 0.0385 - accuracy: 0.9886\n",
            "Epoch 107/200\n",
            "125/125 [==============================] - 4s 31ms/step - loss: 0.0317 - accuracy: 0.9920\n",
            "Epoch 108/200\n",
            "125/125 [==============================] - 4s 30ms/step - loss: 0.0434 - accuracy: 0.9883\n",
            "Epoch 109/200\n",
            "125/125 [==============================] - 4s 31ms/step - loss: 0.0401 - accuracy: 0.9903\n",
            "Epoch 110/200\n",
            "125/125 [==============================] - 4s 31ms/step - loss: 0.0404 - accuracy: 0.9903\n",
            "Epoch 111/200\n",
            "125/125 [==============================] - 4s 31ms/step - loss: 0.0335 - accuracy: 0.9883\n",
            "Epoch 112/200\n",
            "125/125 [==============================] - 4s 31ms/step - loss: 0.0382 - accuracy: 0.9893\n",
            "Epoch 113/200\n",
            "125/125 [==============================] - 4s 31ms/step - loss: 0.0296 - accuracy: 0.9930\n",
            "Epoch 114/200\n",
            "125/125 [==============================] - 4s 31ms/step - loss: 0.0316 - accuracy: 0.9900\n",
            "Epoch 115/200\n",
            "125/125 [==============================] - 4s 30ms/step - loss: 0.0359 - accuracy: 0.9910\n",
            "Epoch 116/200\n",
            "125/125 [==============================] - 4s 31ms/step - loss: 0.0288 - accuracy: 0.9936\n",
            "Epoch 117/200\n",
            "125/125 [==============================] - 4s 31ms/step - loss: 0.0287 - accuracy: 0.9920\n",
            "Epoch 118/200\n",
            "125/125 [==============================] - 4s 30ms/step - loss: 0.0255 - accuracy: 0.9923\n",
            "Epoch 119/200\n",
            "125/125 [==============================] - 4s 30ms/step - loss: 0.0269 - accuracy: 0.9920\n",
            "Epoch 120/200\n",
            "125/125 [==============================] - 4s 31ms/step - loss: 0.0292 - accuracy: 0.9920\n",
            "Epoch 121/200\n",
            "125/125 [==============================] - 4s 31ms/step - loss: 0.0307 - accuracy: 0.9916\n",
            "Epoch 122/200\n",
            "125/125 [==============================] - 4s 30ms/step - loss: 0.0276 - accuracy: 0.9926\n",
            "Epoch 123/200\n",
            "125/125 [==============================] - 4s 31ms/step - loss: 0.0273 - accuracy: 0.9923\n",
            "Epoch 124/200\n",
            "125/125 [==============================] - 4s 31ms/step - loss: 0.0318 - accuracy: 0.9893\n",
            "Epoch 125/200\n",
            "125/125 [==============================] - 4s 31ms/step - loss: 0.0333 - accuracy: 0.9923\n",
            "Epoch 126/200\n",
            "125/125 [==============================] - 4s 31ms/step - loss: 0.0197 - accuracy: 0.9950\n",
            "Epoch 127/200\n",
            "125/125 [==============================] - 4s 31ms/step - loss: 0.0219 - accuracy: 0.9946\n",
            "Epoch 128/200\n",
            "125/125 [==============================] - 4s 31ms/step - loss: 0.0260 - accuracy: 0.9926\n",
            "Epoch 129/200\n",
            "125/125 [==============================] - 4s 31ms/step - loss: 0.0235 - accuracy: 0.9920\n",
            "Epoch 130/200\n",
            "125/125 [==============================] - 4s 31ms/step - loss: 0.0282 - accuracy: 0.9910\n",
            "Epoch 131/200\n",
            "125/125 [==============================] - 4s 31ms/step - loss: 0.0278 - accuracy: 0.9926\n",
            "Epoch 132/200\n",
            "125/125 [==============================] - 4s 30ms/step - loss: 0.0254 - accuracy: 0.9933\n",
            "Epoch 133/200\n",
            "125/125 [==============================] - 4s 31ms/step - loss: 0.0259 - accuracy: 0.9946\n",
            "Epoch 134/200\n",
            "125/125 [==============================] - 4s 31ms/step - loss: 0.0200 - accuracy: 0.9943\n",
            "Epoch 135/200\n",
            "125/125 [==============================] - 4s 31ms/step - loss: 0.0319 - accuracy: 0.9930\n",
            "Epoch 136/200\n",
            "125/125 [==============================] - 4s 31ms/step - loss: 0.0314 - accuracy: 0.9906\n",
            "Epoch 137/200\n",
            "125/125 [==============================] - 4s 31ms/step - loss: 0.0292 - accuracy: 0.9913\n",
            "Epoch 138/200\n",
            "125/125 [==============================] - 4s 31ms/step - loss: 0.0229 - accuracy: 0.9940\n",
            "Epoch 139/200\n",
            "125/125 [==============================] - 4s 31ms/step - loss: 0.0276 - accuracy: 0.9923\n",
            "Epoch 140/200\n",
            "125/125 [==============================] - 4s 30ms/step - loss: 0.0238 - accuracy: 0.9926\n",
            "Epoch 141/200\n",
            "125/125 [==============================] - 4s 31ms/step - loss: 0.0246 - accuracy: 0.9950\n",
            "Epoch 142/200\n",
            "125/125 [==============================] - 4s 31ms/step - loss: 0.0214 - accuracy: 0.9936\n",
            "Epoch 143/200\n",
            "125/125 [==============================] - 4s 30ms/step - loss: 0.0404 - accuracy: 0.9883\n",
            "Epoch 144/200\n",
            "125/125 [==============================] - 4s 31ms/step - loss: 0.0265 - accuracy: 0.9936\n",
            "Epoch 145/200\n",
            "125/125 [==============================] - 4s 30ms/step - loss: 0.0172 - accuracy: 0.9960\n",
            "Epoch 146/200\n",
            "125/125 [==============================] - 4s 31ms/step - loss: 0.0183 - accuracy: 0.9946\n",
            "Epoch 147/200\n",
            "125/125 [==============================] - 4s 31ms/step - loss: 0.0286 - accuracy: 0.9916\n",
            "Epoch 148/200\n",
            "125/125 [==============================] - 4s 31ms/step - loss: 0.0282 - accuracy: 0.9920\n",
            "Epoch 149/200\n",
            "125/125 [==============================] - 4s 31ms/step - loss: 0.0175 - accuracy: 0.9943\n",
            "Epoch 150/200\n",
            "125/125 [==============================] - 4s 31ms/step - loss: 0.0193 - accuracy: 0.9940\n",
            "Epoch 151/200\n",
            "125/125 [==============================] - 4s 31ms/step - loss: 0.0217 - accuracy: 0.9933\n",
            "Epoch 152/200\n",
            "125/125 [==============================] - 4s 31ms/step - loss: 0.0210 - accuracy: 0.9946\n",
            "Epoch 153/200\n",
            "125/125 [==============================] - 4s 31ms/step - loss: 0.0174 - accuracy: 0.9936\n",
            "Epoch 154/200\n",
            "125/125 [==============================] - 4s 31ms/step - loss: 0.0180 - accuracy: 0.9943\n",
            "Epoch 155/200\n",
            "125/125 [==============================] - 4s 31ms/step - loss: 0.0220 - accuracy: 0.9940\n",
            "Epoch 156/200\n",
            "125/125 [==============================] - 4s 31ms/step - loss: 0.0270 - accuracy: 0.9936\n",
            "Epoch 157/200\n",
            "125/125 [==============================] - 4s 31ms/step - loss: 0.0294 - accuracy: 0.9903\n",
            "Epoch 158/200\n",
            "125/125 [==============================] - 4s 31ms/step - loss: 0.0332 - accuracy: 0.9896\n",
            "Epoch 159/200\n",
            "125/125 [==============================] - 4s 31ms/step - loss: 0.0261 - accuracy: 0.9923\n",
            "Epoch 160/200\n",
            "125/125 [==============================] - 4s 31ms/step - loss: 0.0260 - accuracy: 0.9926\n",
            "Epoch 161/200\n",
            "125/125 [==============================] - 4s 31ms/step - loss: 0.0257 - accuracy: 0.9940\n",
            "Epoch 162/200\n",
            "125/125 [==============================] - 4s 31ms/step - loss: 0.0171 - accuracy: 0.9940\n",
            "Epoch 163/200\n",
            "125/125 [==============================] - 4s 31ms/step - loss: 0.0148 - accuracy: 0.9960\n",
            "Epoch 164/200\n",
            "125/125 [==============================] - 4s 31ms/step - loss: 0.0204 - accuracy: 0.9936\n",
            "Epoch 165/200\n",
            "125/125 [==============================] - 4s 31ms/step - loss: 0.0219 - accuracy: 0.9936\n",
            "Epoch 166/200\n",
            "125/125 [==============================] - 4s 31ms/step - loss: 0.0205 - accuracy: 0.9933\n",
            "Epoch 167/200\n",
            "125/125 [==============================] - 4s 31ms/step - loss: 0.0220 - accuracy: 0.9940\n",
            "Epoch 168/200\n",
            "125/125 [==============================] - 4s 31ms/step - loss: 0.0126 - accuracy: 0.9967\n",
            "Epoch 169/200\n",
            "125/125 [==============================] - 4s 31ms/step - loss: 0.0223 - accuracy: 0.9926\n",
            "Epoch 170/200\n",
            "125/125 [==============================] - 4s 31ms/step - loss: 0.0174 - accuracy: 0.9956\n",
            "Epoch 171/200\n",
            "125/125 [==============================] - 4s 31ms/step - loss: 0.0173 - accuracy: 0.9950\n",
            "Epoch 172/200\n",
            "125/125 [==============================] - 4s 31ms/step - loss: 0.0224 - accuracy: 0.9946\n",
            "Epoch 173/200\n",
            "125/125 [==============================] - 4s 31ms/step - loss: 0.0234 - accuracy: 0.9930\n",
            "Epoch 174/200\n",
            "125/125 [==============================] - 4s 31ms/step - loss: 0.0287 - accuracy: 0.9923\n",
            "Epoch 175/200\n",
            "125/125 [==============================] - 4s 31ms/step - loss: 0.0192 - accuracy: 0.9953\n",
            "Epoch 176/200\n",
            "125/125 [==============================] - 4s 31ms/step - loss: 0.0188 - accuracy: 0.9960\n",
            "Epoch 177/200\n",
            "125/125 [==============================] - 4s 31ms/step - loss: 0.0182 - accuracy: 0.9943\n",
            "Epoch 178/200\n",
            "125/125 [==============================] - 4s 31ms/step - loss: 0.0261 - accuracy: 0.9926\n",
            "Epoch 179/200\n",
            "125/125 [==============================] - 4s 30ms/step - loss: 0.0178 - accuracy: 0.9953\n",
            "Epoch 180/200\n",
            "125/125 [==============================] - 4s 30ms/step - loss: 0.0221 - accuracy: 0.9930\n",
            "Epoch 181/200\n",
            "125/125 [==============================] - 4s 31ms/step - loss: 0.0173 - accuracy: 0.9940\n",
            "Epoch 182/200\n",
            "125/125 [==============================] - 4s 31ms/step - loss: 0.0342 - accuracy: 0.9906\n",
            "Epoch 183/200\n",
            "125/125 [==============================] - 4s 31ms/step - loss: 0.0225 - accuracy: 0.9923\n",
            "Epoch 184/200\n",
            "125/125 [==============================] - 4s 31ms/step - loss: 0.0145 - accuracy: 0.9946\n",
            "Epoch 185/200\n",
            "125/125 [==============================] - 4s 31ms/step - loss: 0.0192 - accuracy: 0.9943\n",
            "Epoch 186/200\n",
            "125/125 [==============================] - 4s 31ms/step - loss: 0.0162 - accuracy: 0.9960\n",
            "Epoch 187/200\n",
            "125/125 [==============================] - 4s 31ms/step - loss: 0.0184 - accuracy: 0.9946\n",
            "Epoch 188/200\n",
            "125/125 [==============================] - 4s 31ms/step - loss: 0.0147 - accuracy: 0.9963\n",
            "Epoch 189/200\n",
            "125/125 [==============================] - 4s 31ms/step - loss: 0.0386 - accuracy: 0.9883\n",
            "Epoch 190/200\n",
            "125/125 [==============================] - 4s 31ms/step - loss: 0.0268 - accuracy: 0.9933\n",
            "Epoch 191/200\n",
            "125/125 [==============================] - 4s 31ms/step - loss: 0.0148 - accuracy: 0.9960\n",
            "Epoch 192/200\n",
            "125/125 [==============================] - 4s 31ms/step - loss: 0.0139 - accuracy: 0.9950\n",
            "Epoch 193/200\n",
            "125/125 [==============================] - 4s 31ms/step - loss: 0.0110 - accuracy: 0.9967\n",
            "Epoch 194/200\n",
            "125/125 [==============================] - 4s 31ms/step - loss: 0.0148 - accuracy: 0.9960\n",
            "Epoch 195/200\n",
            "125/125 [==============================] - 4s 31ms/step - loss: 0.0178 - accuracy: 0.9940\n",
            "Epoch 196/200\n",
            "125/125 [==============================] - 4s 31ms/step - loss: 0.0148 - accuracy: 0.9970\n",
            "Epoch 197/200\n",
            "125/125 [==============================] - 4s 31ms/step - loss: 0.0135 - accuracy: 0.9956\n",
            "Epoch 198/200\n",
            "125/125 [==============================] - 4s 31ms/step - loss: 0.0079 - accuracy: 0.9977\n",
            "Epoch 199/200\n",
            "125/125 [==============================] - 4s 31ms/step - loss: 0.0150 - accuracy: 0.9956\n",
            "Epoch 200/200\n",
            "125/125 [==============================] - 4s 31ms/step - loss: 0.0159 - accuracy: 0.9963\n"
          ],
          "name": "stdout"
        }
      ]
    },
    {
      "cell_type": "code",
      "metadata": {
        "id": "integrated-optimization",
        "colab": {
          "base_uri": "https://localhost:8080/"
        },
        "outputId": "0de594eb-1c8d-4ee0-fb80-1cec2eb1f143"
      },
      "source": [
        "model.save(dir_path + 'Models/gestures_bidir', save_format='tf')"
      ],
      "id": "integrated-optimization",
      "execution_count": 21,
      "outputs": [
        {
          "output_type": "stream",
          "text": [
            "WARNING:absl:Found untraced functions such as lstm_cell_13_layer_call_and_return_conditional_losses, lstm_cell_13_layer_call_fn, lstm_cell_14_layer_call_and_return_conditional_losses, lstm_cell_14_layer_call_fn, lstm_cell_16_layer_call_and_return_conditional_losses while saving (showing 5 of 20). These functions will not be directly callable after loading.\n"
          ],
          "name": "stderr"
        },
        {
          "output_type": "stream",
          "text": [
            "INFO:tensorflow:Assets written to: ./drive/MyDrive/BAKA/Models/gestures_bidir/assets\n"
          ],
          "name": "stdout"
        },
        {
          "output_type": "stream",
          "text": [
            "INFO:tensorflow:Assets written to: ./drive/MyDrive/BAKA/Models/gestures_bidir/assets\n"
          ],
          "name": "stderr"
        }
      ]
    },
    {
      "cell_type": "code",
      "metadata": {
        "id": "faWZ2lOQ09Dj",
        "colab": {
          "base_uri": "https://localhost:8080/"
        },
        "outputId": "8a8f521f-f276-47f4-fcd5-6982f9aada3b"
      },
      "source": [
        "min_max_scaler.data_min_"
      ],
      "id": "faWZ2lOQ09Dj",
      "execution_count": 22,
      "outputs": [
        {
          "output_type": "execute_result",
          "data": {
            "text/plain": [
              "array([   0.    ,    0.    ,    0.    ,    0.    ,    0.    ,    0.    ,\n",
              "          0.    ,    0.    ,    0.    ,    0.    , -693.223 ,  -12.7777,\n",
              "       -612.731 , -680.146 ,    0.    , -584.665 , -668.353 ,    0.    ,\n",
              "       -569.33  , -649.613 ,    0.    , -597.032 , -675.481 ,    0.    ,\n",
              "       -590.976 , -662.551 ,    0.    , -574.437 ,    0.    ,    0.    ,\n",
              "          0.    ])"
            ]
          },
          "metadata": {
            "tags": []
          },
          "execution_count": 22
        }
      ]
    },
    {
      "cell_type": "code",
      "metadata": {
        "id": "qLaXSPfzPA8k",
        "colab": {
          "base_uri": "https://localhost:8080/"
        },
        "outputId": "7a692914-ac4d-4116-b31e-3d9a9e3b494d"
      },
      "source": [
        "min_max_scaler.data_max_"
      ],
      "id": "qLaXSPfzPA8k",
      "execution_count": 23,
      "outputs": [
        {
          "output_type": "execute_result",
          "data": {
            "text/plain": [
              "array([ 180.   ,  180.   ,  180.   ,  179.999,  179.997,  180.   ,\n",
              "        179.988,  180.   ,  179.985,  179.96 ,  539.053, 1036.65 ,\n",
              "        720.07 ,  581.654, 1090.93 ,  709.384,  585.01 , 1068.79 ,\n",
              "        705.543,  567.779, 1056.79 ,  702.861,  544.45 , 1061.02 ,\n",
              "        693.173,  499.893, 1008.3  ,  707.228,  124.81 ,  161.082,\n",
              "        137.709])"
            ]
          },
          "metadata": {
            "tags": []
          },
          "execution_count": 23
        }
      ]
    },
    {
      "cell_type": "code",
      "metadata": {
        "id": "NOWq0Fev1RI-",
        "colab": {
          "base_uri": "https://localhost:8080/"
        },
        "outputId": "0d4451a1-eaab-4a44-9764-109355d061b0"
      },
      "source": [
        "model.input"
      ],
      "id": "NOWq0Fev1RI-",
      "execution_count": 24,
      "outputs": [
        {
          "output_type": "execute_result",
          "data": {
            "text/plain": [
              "<KerasTensor: shape=(None, 60, 31) dtype=float64 (created by layer 'bidirectional_4_input')>"
            ]
          },
          "metadata": {
            "tags": []
          },
          "execution_count": 24
        }
      ]
    },
    {
      "cell_type": "code",
      "metadata": {
        "id": "FhIACF0-aQgh"
      },
      "source": [
        ""
      ],
      "id": "FhIACF0-aQgh",
      "execution_count": 24,
      "outputs": []
    }
  ]
}