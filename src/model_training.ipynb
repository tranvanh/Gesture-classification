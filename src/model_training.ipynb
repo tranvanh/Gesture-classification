{
  "nbformat": 4,
  "nbformat_minor": 5,
  "metadata": {
    "accelerator": "GPU",
    "colab": {
      "name": "feature_computation.ipynb",
      "provenance": []
    },
    "kernelspec": {
      "display_name": "Python 3",
      "language": "python",
      "name": "python3"
    },
    "language_info": {
      "codemirror_mode": {
        "name": "ipython",
        "version": 3
      },
      "file_extension": ".py",
      "mimetype": "text/x-python",
      "name": "python",
      "nbconvert_exporter": "python",
      "pygments_lexer": "ipython3",
      "version": "3.8.8"
    }
  },
  "cells": [
    {
      "cell_type": "markdown",
      "metadata": {
        "id": "geological-matrix"
      },
      "source": [
        "# Imports and initialization"
      ],
      "id": "geological-matrix"
    },
    {
      "cell_type": "code",
      "metadata": {
        "id": "caring-species"
      },
      "source": [
        "import pandas as pd\n",
        "import numpy as np\n",
        "import os\n",
        "import math\n",
        "import tensorflow as tf\n",
        "from tensorflow.keras.models import Sequential, Model, load_model\n",
        "from tensorflow.keras.layers import Dense, Dropout, LSTM, BatchNormalization, Bidirectional\n",
        "from sklearn.utils import shuffle\n",
        "from sklearn.preprocessing import MinMaxScaler, StandardScaler\n",
        "physical_devices = tf.config.list_physical_devices('GPU')\n",
        "tf.config.experimental.set_memory_growth(physical_devices[0], enable=True)"
      ],
      "id": "caring-species",
      "execution_count": 5,
      "outputs": []
    },
    {
      "cell_type": "markdown",
      "metadata": {
        "id": "uniform-stream"
      },
      "source": [
        "Choose one of the two below cells depending on the environment."
      ],
      "id": "uniform-stream"
    },
    {
      "cell_type": "code",
      "metadata": {
        "id": "continuous-johnston"
      },
      "source": [
        "# dir_path = './' #uncomment if in local environment"
      ],
      "id": "continuous-johnston",
      "execution_count": 6,
      "outputs": []
    },
    {
      "cell_type": "code",
      "metadata": {
        "colab": {
          "base_uri": "https://localhost:8080/"
        },
        "id": "KstfPbJfzIAV",
        "outputId": "a648dda1-da3f-416c-eb6a-37c10c4916e7"
      },
      "source": [
        "#uncomment in google colab environment\n",
        "from google.colab import drive\n",
        "drive.mount('/content/drive') #path to root directory in Drive\n",
        "dir_path = './drive/MyDrive/BAKA/' #colab\n",
        "df = pd.read_csv(dir_path + 'DataCollection' + '/' + '1' + '/' + '0.txt', header=None, sep=' ')\n",
        "if len(df.columns) > 31:\n",
        "  df = df.drop(columns=[31])"
      ],
      "id": "KstfPbJfzIAV",
      "execution_count": 7,
      "outputs": [
        {
          "output_type": "stream",
          "text": [
            "Mounted at /content/drive\n"
          ],
          "name": "stdout"
        }
      ]
    },
    {
      "cell_type": "code",
      "metadata": {
        "colab": {
          "base_uri": "https://localhost:8080/"
        },
        "id": "signal-friendly",
        "outputId": "d62b1761-3336-461c-f64a-b544894e5328"
      },
      "source": [
        "files = os.listdir(dir_path + 'DataCollection')\n",
        "files"
      ],
      "id": "signal-friendly",
      "execution_count": 8,
      "outputs": [
        {
          "output_type": "execute_result",
          "data": {
            "text/plain": [
              "['4', '7', '8', '0', '5', '2', '3', '6', '1']"
            ]
          },
          "metadata": {
            "tags": []
          },
          "execution_count": 8
        }
      ]
    },
    {
      "cell_type": "markdown",
      "metadata": {
        "id": "packed-staff"
      },
      "source": [
        "# Dataset Split\n",
        "Split samples into Test sets and Training sets <br>\n",
        "Use 20% of available samples for Testing and the remaining for Training"
      ],
      "id": "packed-staff"
    },
    {
      "cell_type": "code",
      "metadata": {
        "colab": {
          "base_uri": "https://localhost:8080/"
        },
        "id": "annoying-rotation",
        "outputId": "e3d132da-1927-4c53-f380-1be2fcb80272"
      },
      "source": [
        "x_train = [];\n",
        "y_train = [];\n",
        "\n",
        "x_test = [];\n",
        "y_test = [];\n",
        "for i in files:\n",
        "    samples = os.listdir(dir_path + 'DataCollection' + '/' + i)\n",
        "    num_tests = int(len(samples)/5);\n",
        "    shuffle(samples, random_state = 0)\n",
        "    for k in range(0, num_tests):\n",
        "        df = pd.read_csv(dir_path + 'DataCollection' + '/' + i + '/' + samples[k], header=None, sep=' ')\n",
        "        df = df.drop(df.index[60:])\n",
        "        if len(df.columns) > 31:\n",
        "          df = df.drop(columns=[31])\n",
        "        if df.isnull().values.any():\n",
        "          print(i, \" \", samples[k])\n",
        "        x_test.append(df.to_numpy())\n",
        "        y_test.append(int(i));\n",
        "    \n",
        "    for k in range(num_tests, len(samples)):\n",
        "        df = pd.read_csv(dir_path + 'DataCollection' + '/' + i + '/' + samples[k], header=None, sep=' ')\n",
        "        df = df.drop(df.index[60:])\n",
        "        if len(df.columns) > 31:\n",
        "          df = df.drop(columns=[31])\n",
        "        if df.isnull().values.any():\n",
        "          print(i, \" \", samples[k])\n",
        "        x_train.append(df.to_numpy())\n",
        "        y_train.append(int(i));\n",
        "    \n",
        "    print(len(samples), ' ', num_tests, ' ', len(samples)- num_tests)\n",
        "x_train = np.array(x_train)\n",
        "y_train = np.array(y_train);\n",
        "\n",
        "x_test = np.array(x_test)\n",
        "y_test = np.array(y_test)\n",
        "print(\"x_train.shape: \", x_train.shape)\n",
        "print(\"y_train.shiape: \", y_train.shape)\n",
        "print(\"x_test.shape: \", x_test.shape)\n",
        "print(\"y_test.shape: \", y_test.shape)\n"
      ],
      "id": "annoying-rotation",
      "execution_count": 9,
      "outputs": [
        {
          "output_type": "stream",
          "text": [
            "204   40   164\n",
            "264   52   212\n",
            "233   46   187\n",
            "253   50   203\n",
            "254   50   204\n",
            "320   64   256\n",
            "285   57   228\n",
            "266   53   213\n",
            "319   63   256\n",
            "x_train.shape:  (1923, 60, 31)\n",
            "y_train.shiape:  (1923,)\n",
            "x_test.shape:  (475, 60, 31)\n",
            "y_test.shape:  (475,)\n"
          ],
          "name": "stdout"
        }
      ]
    },
    {
      "cell_type": "code",
      "metadata": {
        "colab": {
          "base_uri": "https://localhost:8080/"
        },
        "id": "orange-character",
        "outputId": "e96c035d-c10c-4d34-e6c9-eb7bcf49dd7a"
      },
      "source": [
        "print(\"x_train.shape: \", x_train.shape)\n",
        "print(\"y_train.shiape: \", y_train.shape)\n",
        "print(\"x_test.shape: \", x_test.shape)\n",
        "print(\"y_test.shape: \", y_test.shape)\n",
        "\n"
      ],
      "id": "orange-character",
      "execution_count": 10,
      "outputs": [
        {
          "output_type": "stream",
          "text": [
            "x_train.shape:  (1923, 60, 31)\n",
            "y_train.shiape:  (1923,)\n",
            "x_test.shape:  (475, 60, 31)\n",
            "y_test.shape:  (475,)\n"
          ],
          "name": "stdout"
        }
      ]
    },
    {
      "cell_type": "markdown",
      "metadata": {
        "id": "choice-dollar"
      },
      "source": [
        "### Scaling and feature labels\n",
        "Apply min-max scaling technique and relable features corresponding to the description in bachelor thesis's text"
      ],
      "id": "choice-dollar"
    },
    {
      "cell_type": "code",
      "metadata": {
        "id": "sensitive-cheat"
      },
      "source": [
        "def scale_data(data, min_max_scaler):\n",
        "    for i in range(len(data)):\n",
        "        data[i] = min_max_scaler.transform(data[i])\n",
        "    return data"
      ],
      "id": "sensitive-cheat",
      "execution_count": 11,
      "outputs": []
    },
    {
      "cell_type": "markdown",
      "metadata": {
        "id": "ancient-freight"
      },
      "source": [
        "Form preprocessed datasets to corresponding shapes as well as shuffle samples"
      ],
      "id": "ancient-freight"
    },
    {
      "cell_type": "code",
      "metadata": {
        "id": "broke-sailing"
      },
      "source": [
        "min_max_scaler = MinMaxScaler(feature_range=(0,1))\n",
        "\n",
        "num_instances, num_time_steps, num_features = x_train.shape\n",
        "x_train = np.reshape(x_train, newshape=(-1, num_features))\n",
        "x_train = min_max_scaler.fit_transform(x_train)\n",
        "x_train = np.reshape(x_train, newshape=(num_instances, num_time_steps, num_features))\n",
        "\n",
        "x_train, y_train = shuffle(x_train, y_train, random_state=0)\n",
        "\n",
        "num_instances, num_time_steps, num_features = x_test.shape\n",
        "x_test = np.reshape(x_test, newshape=(-1, num_features))\n",
        "x_test = min_max_scaler.transform(x_test)\n",
        "x_test = np.reshape(x_test, newshape=(num_instances, num_time_steps, num_features))\n",
        "\n",
        "x_test, y_test = shuffle(x_test, y_test, random_state=0)\n"
      ],
      "id": "broke-sailing",
      "execution_count": 12,
      "outputs": []
    },
    {
      "cell_type": "code",
      "metadata": {
        "colab": {
          "base_uri": "https://localhost:8080/"
        },
        "id": "discrete-kansas",
        "outputId": "35077512-f4ea-4cd4-9eb9-7fd8351a4aa5"
      },
      "source": [
        "print(\"x_train.shape: \", x_train.shape)\n",
        "print(\"y_train.shiape: \", y_train.shape)\n",
        "print(\"x_test.shape: \", x_test.shape)\n",
        "print(\"y_test.shape: \", y_test.shape)"
      ],
      "id": "discrete-kansas",
      "execution_count": 13,
      "outputs": [
        {
          "output_type": "stream",
          "text": [
            "x_train.shape:  (1923, 60, 31)\n",
            "y_train.shiape:  (1923,)\n",
            "x_test.shape:  (475, 60, 31)\n",
            "y_test.shape:  (475,)\n"
          ],
          "name": "stdout"
        }
      ]
    },
    {
      "cell_type": "markdown",
      "metadata": {
        "id": "first-decrease"
      },
      "source": [
        "# Model definition\n",
        "\n",
        "Define Two-layered bidirectional LSTM<br>\n",
        "Each layer consists of `Bidirectional(LSTM)` cell with addition of `Dropout()` and `BatchNormalization()` to minimize overfitting and decrease learning time"
      ],
      "id": "first-decrease"
    },
    {
      "cell_type": "code",
      "metadata": {
        "colab": {
          "base_uri": "https://localhost:8080/"
        },
        "id": "lhabYU0vjbLQ",
        "outputId": "4099fe63-5054-418d-deae-fdca3744f306"
      },
      "source": [
        "model = Sequential()\n",
        "model.add(Bidirectional(LSTM(units=60, return_sequences=True ,dtype='float64'),input_shape=x_train.shape[1:],dtype='float64'))\n",
        "model.add(BatchNormalization())\n",
        "model.add(Dropout(0.6))\n",
        "\n",
        "model.add(Bidirectional(LSTM(units=60 ,dtype='float64') ,dtype='float64'))\n",
        "model.add(BatchNormalization())\n",
        "model.add(Dropout(0.6))\n",
        "\n",
        "model.add(Dense(len(files), activation='softmax',dtype='float64'))\n",
        "model.summary()"
      ],
      "id": "lhabYU0vjbLQ",
      "execution_count": 14,
      "outputs": [
        {
          "output_type": "stream",
          "text": [
            "Model: \"sequential\"\n",
            "_________________________________________________________________\n",
            "Layer (type)                 Output Shape              Param #   \n",
            "=================================================================\n",
            "bidirectional (Bidirectional (None, 60, 120)           44160     \n",
            "_________________________________________________________________\n",
            "batch_normalization (BatchNo (None, 60, 120)           480       \n",
            "_________________________________________________________________\n",
            "dropout (Dropout)            (None, 60, 120)           0         \n",
            "_________________________________________________________________\n",
            "bidirectional_1 (Bidirection (None, 120)               86880     \n",
            "_________________________________________________________________\n",
            "batch_normalization_1 (Batch (None, 120)               480       \n",
            "_________________________________________________________________\n",
            "dropout_1 (Dropout)          (None, 120)               0         \n",
            "_________________________________________________________________\n",
            "dense (Dense)                (None, 9)                 1089      \n",
            "=================================================================\n",
            "Total params: 133,089\n",
            "Trainable params: 132,609\n",
            "Non-trainable params: 480\n",
            "_________________________________________________________________\n"
          ],
          "name": "stdout"
        }
      ]
    },
    {
      "cell_type": "markdown",
      "metadata": {
        "id": "senior-madrid"
      },
      "source": [
        "# Training\n",
        "\n",
        "Model training using 150 epochs <br>\n",
        "Marking checkpoints(models with best `val_accuracy`) to `./Checkpoints` directory"
      ],
      "id": "senior-madrid"
    },
    {
      "cell_type": "code",
      "metadata": {
        "colab": {
          "base_uri": "https://localhost:8080/"
        },
        "id": "after-sperm",
        "outputId": "d20fd112-f1a4-4c93-d474-596ca7a8d0a8"
      },
      "source": [
        "opt = tf.keras.optimizers.Adam(lr=0.0001, decay=1e-5)\n",
        "\n",
        "checkpoint_filepath = dir_path + 'Checkpoints/'\n",
        "model_checkpoint_callback = tf.keras.callbacks.ModelCheckpoint(\n",
        "    filepath=checkpoint_filepath,\n",
        "    save_weights_only=True,\n",
        "    monitor='val_accuracy',\n",
        "    mode='max',\n",
        "    save_best_only=True)\n",
        "\n",
        "model.compile(\n",
        "    loss='sparse_categorical_crossentropy',\n",
        "    optimizer=opt,\n",
        "    metrics=['accuracy'],\n",
        ")\n",
        "\n",
        "\n",
        "gestures = model.fit(x = x_train,\n",
        "            y = y_train,\n",
        "            epochs=150,\n",
        "            validation_split=0.1, #split 10% of the trainning set for the validation set,\n",
        "            batch_size=24,\n",
        "            callbacks=[model_checkpoint_callback],\n",
        "            shuffle=True\n",
        "         )"
      ],
      "id": "after-sperm",
      "execution_count": 15,
      "outputs": [
        {
          "output_type": "stream",
          "text": [
            "Epoch 1/150\n"
          ],
          "name": "stdout"
        },
        {
          "output_type": "stream",
          "text": [
            "/usr/local/lib/python3.7/dist-packages/tensorflow/python/keras/optimizer_v2/optimizer_v2.py:375: UserWarning: The `lr` argument is deprecated, use `learning_rate` instead.\n",
            "  \"The `lr` argument is deprecated, use `learning_rate` instead.\")\n"
          ],
          "name": "stderr"
        },
        {
          "output_type": "stream",
          "text": [
            "73/73 [==============================] - 10s 41ms/step - loss: 2.9906 - accuracy: 0.1988 - val_loss: 2.0675 - val_accuracy: 0.2332\n",
            "Epoch 2/150\n",
            "73/73 [==============================] - 2s 23ms/step - loss: 1.9876 - accuracy: 0.3913 - val_loss: 1.7153 - val_accuracy: 0.4560\n",
            "Epoch 3/150\n",
            "73/73 [==============================] - 2s 23ms/step - loss: 1.3615 - accuracy: 0.5624 - val_loss: 1.1860 - val_accuracy: 0.7358\n",
            "Epoch 4/150\n",
            "73/73 [==============================] - 2s 23ms/step - loss: 1.0048 - accuracy: 0.6607 - val_loss: 0.7114 - val_accuracy: 0.8601\n",
            "Epoch 5/150\n",
            "73/73 [==============================] - 2s 24ms/step - loss: 0.8200 - accuracy: 0.7110 - val_loss: 0.3580 - val_accuracy: 0.9534\n",
            "Epoch 6/150\n",
            "73/73 [==============================] - 2s 24ms/step - loss: 0.6271 - accuracy: 0.7936 - val_loss: 0.2110 - val_accuracy: 0.9534\n",
            "Epoch 7/150\n",
            "73/73 [==============================] - 2s 24ms/step - loss: 0.5666 - accuracy: 0.8116 - val_loss: 0.1314 - val_accuracy: 0.9741\n",
            "Epoch 8/150\n",
            "73/73 [==============================] - 2s 23ms/step - loss: 0.4584 - accuracy: 0.8434 - val_loss: 0.1098 - val_accuracy: 0.9637\n",
            "Epoch 9/150\n",
            "73/73 [==============================] - 2s 23ms/step - loss: 0.4068 - accuracy: 0.8671 - val_loss: 0.0722 - val_accuracy: 0.9896\n",
            "Epoch 10/150\n",
            "73/73 [==============================] - 2s 23ms/step - loss: 0.3491 - accuracy: 0.8890 - val_loss: 0.0976 - val_accuracy: 0.9637\n",
            "Epoch 11/150\n",
            "73/73 [==============================] - 2s 23ms/step - loss: 0.3201 - accuracy: 0.9000 - val_loss: 0.0585 - val_accuracy: 0.9896\n",
            "Epoch 12/150\n",
            "73/73 [==============================] - 2s 23ms/step - loss: 0.2870 - accuracy: 0.9087 - val_loss: 0.0592 - val_accuracy: 0.9896\n",
            "Epoch 13/150\n",
            "73/73 [==============================] - 2s 24ms/step - loss: 0.2799 - accuracy: 0.9145 - val_loss: 0.0525 - val_accuracy: 0.9896\n",
            "Epoch 14/150\n",
            "73/73 [==============================] - 2s 24ms/step - loss: 0.2346 - accuracy: 0.9347 - val_loss: 0.0811 - val_accuracy: 0.9637\n",
            "Epoch 15/150\n",
            "73/73 [==============================] - 2s 23ms/step - loss: 0.2422 - accuracy: 0.9272 - val_loss: 0.0543 - val_accuracy: 0.9896\n",
            "Epoch 16/150\n",
            "73/73 [==============================] - 2s 23ms/step - loss: 0.2279 - accuracy: 0.9387 - val_loss: 0.0544 - val_accuracy: 0.9741\n",
            "Epoch 17/150\n",
            "73/73 [==============================] - 2s 23ms/step - loss: 0.1951 - accuracy: 0.9474 - val_loss: 0.0484 - val_accuracy: 0.9896\n",
            "Epoch 18/150\n",
            "73/73 [==============================] - 2s 24ms/step - loss: 0.1858 - accuracy: 0.9480 - val_loss: 0.0525 - val_accuracy: 0.9896\n",
            "Epoch 19/150\n",
            "73/73 [==============================] - 2s 24ms/step - loss: 0.1738 - accuracy: 0.9526 - val_loss: 0.0716 - val_accuracy: 0.9637\n",
            "Epoch 20/150\n",
            "73/73 [==============================] - 2s 23ms/step - loss: 0.1788 - accuracy: 0.9555 - val_loss: 0.0595 - val_accuracy: 0.9845\n",
            "Epoch 21/150\n",
            "73/73 [==============================] - 2s 23ms/step - loss: 0.1520 - accuracy: 0.9584 - val_loss: 0.0522 - val_accuracy: 0.9896\n",
            "Epoch 22/150\n",
            "73/73 [==============================] - 2s 23ms/step - loss: 0.1712 - accuracy: 0.9538 - val_loss: 0.0688 - val_accuracy: 0.9741\n",
            "Epoch 23/150\n",
            "73/73 [==============================] - 2s 23ms/step - loss: 0.1523 - accuracy: 0.9624 - val_loss: 0.0408 - val_accuracy: 0.9896\n",
            "Epoch 24/150\n",
            "73/73 [==============================] - 2s 24ms/step - loss: 0.1595 - accuracy: 0.9584 - val_loss: 0.1256 - val_accuracy: 0.9637\n",
            "Epoch 25/150\n",
            "73/73 [==============================] - 2s 23ms/step - loss: 0.1414 - accuracy: 0.9613 - val_loss: 0.0474 - val_accuracy: 0.9896\n",
            "Epoch 26/150\n",
            "73/73 [==============================] - 2s 23ms/step - loss: 0.1519 - accuracy: 0.9630 - val_loss: 0.0662 - val_accuracy: 0.9741\n",
            "Epoch 27/150\n",
            "73/73 [==============================] - 2s 24ms/step - loss: 0.1386 - accuracy: 0.9636 - val_loss: 0.0891 - val_accuracy: 0.9637\n",
            "Epoch 28/150\n",
            "73/73 [==============================] - 2s 24ms/step - loss: 0.1678 - accuracy: 0.9566 - val_loss: 0.0779 - val_accuracy: 0.9741\n",
            "Epoch 29/150\n",
            "73/73 [==============================] - 2s 23ms/step - loss: 0.1573 - accuracy: 0.9566 - val_loss: 0.0441 - val_accuracy: 0.9896\n",
            "Epoch 30/150\n",
            "73/73 [==============================] - 2s 24ms/step - loss: 0.1383 - accuracy: 0.9659 - val_loss: 0.0430 - val_accuracy: 0.9896\n",
            "Epoch 31/150\n",
            "73/73 [==============================] - 2s 24ms/step - loss: 0.1369 - accuracy: 0.9647 - val_loss: 0.0583 - val_accuracy: 0.9741\n",
            "Epoch 32/150\n",
            "73/73 [==============================] - 2s 24ms/step - loss: 0.1257 - accuracy: 0.9630 - val_loss: 0.0597 - val_accuracy: 0.9741\n",
            "Epoch 33/150\n",
            "73/73 [==============================] - 2s 24ms/step - loss: 0.1279 - accuracy: 0.9671 - val_loss: 0.0569 - val_accuracy: 0.9741\n",
            "Epoch 34/150\n",
            "73/73 [==============================] - 2s 24ms/step - loss: 0.1088 - accuracy: 0.9676 - val_loss: 0.0457 - val_accuracy: 0.9896\n",
            "Epoch 35/150\n",
            "73/73 [==============================] - 2s 23ms/step - loss: 0.1033 - accuracy: 0.9711 - val_loss: 0.0537 - val_accuracy: 0.9793\n",
            "Epoch 36/150\n",
            "73/73 [==============================] - 2s 23ms/step - loss: 0.1017 - accuracy: 0.9734 - val_loss: 0.0402 - val_accuracy: 0.9896\n",
            "Epoch 37/150\n",
            "73/73 [==============================] - 2s 24ms/step - loss: 0.0997 - accuracy: 0.9740 - val_loss: 0.0443 - val_accuracy: 0.9845\n",
            "Epoch 38/150\n",
            "73/73 [==============================] - 2s 24ms/step - loss: 0.1120 - accuracy: 0.9723 - val_loss: 0.0353 - val_accuracy: 0.9896\n",
            "Epoch 39/150\n",
            "73/73 [==============================] - 2s 24ms/step - loss: 0.1080 - accuracy: 0.9780 - val_loss: 0.0449 - val_accuracy: 0.9845\n",
            "Epoch 40/150\n",
            "73/73 [==============================] - 2s 24ms/step - loss: 0.1080 - accuracy: 0.9746 - val_loss: 0.0355 - val_accuracy: 0.9948\n",
            "Epoch 41/150\n",
            "73/73 [==============================] - 2s 24ms/step - loss: 0.1010 - accuracy: 0.9751 - val_loss: 0.0400 - val_accuracy: 0.9948\n",
            "Epoch 42/150\n",
            "73/73 [==============================] - 2s 24ms/step - loss: 0.1242 - accuracy: 0.9642 - val_loss: 0.0623 - val_accuracy: 0.9793\n",
            "Epoch 43/150\n",
            "73/73 [==============================] - 2s 24ms/step - loss: 0.0983 - accuracy: 0.9728 - val_loss: 0.0695 - val_accuracy: 0.9741\n",
            "Epoch 44/150\n",
            "73/73 [==============================] - 2s 24ms/step - loss: 0.1140 - accuracy: 0.9694 - val_loss: 0.0717 - val_accuracy: 0.9689\n",
            "Epoch 45/150\n",
            "73/73 [==============================] - 2s 24ms/step - loss: 0.1066 - accuracy: 0.9699 - val_loss: 0.0599 - val_accuracy: 0.9689\n",
            "Epoch 46/150\n",
            "73/73 [==============================] - 2s 24ms/step - loss: 0.1020 - accuracy: 0.9751 - val_loss: 0.0314 - val_accuracy: 0.9948\n",
            "Epoch 47/150\n",
            "73/73 [==============================] - 2s 24ms/step - loss: 0.1030 - accuracy: 0.9740 - val_loss: 0.0598 - val_accuracy: 0.9741\n",
            "Epoch 48/150\n",
            "73/73 [==============================] - 2s 24ms/step - loss: 0.1056 - accuracy: 0.9734 - val_loss: 0.0693 - val_accuracy: 0.9793\n",
            "Epoch 49/150\n",
            "73/73 [==============================] - 2s 24ms/step - loss: 0.0816 - accuracy: 0.9763 - val_loss: 0.0824 - val_accuracy: 0.9689\n",
            "Epoch 50/150\n",
            "73/73 [==============================] - 2s 24ms/step - loss: 0.0823 - accuracy: 0.9763 - val_loss: 0.0642 - val_accuracy: 0.9741\n",
            "Epoch 51/150\n",
            "73/73 [==============================] - 2s 24ms/step - loss: 0.0707 - accuracy: 0.9815 - val_loss: 0.1008 - val_accuracy: 0.9689\n",
            "Epoch 52/150\n",
            "73/73 [==============================] - 2s 24ms/step - loss: 0.0819 - accuracy: 0.9792 - val_loss: 0.1542 - val_accuracy: 0.9637\n",
            "Epoch 53/150\n",
            "73/73 [==============================] - 2s 24ms/step - loss: 0.0727 - accuracy: 0.9832 - val_loss: 0.0263 - val_accuracy: 0.9948\n",
            "Epoch 54/150\n",
            "73/73 [==============================] - 2s 24ms/step - loss: 0.0761 - accuracy: 0.9786 - val_loss: 0.0310 - val_accuracy: 0.9948\n",
            "Epoch 55/150\n",
            "73/73 [==============================] - 2s 23ms/step - loss: 0.0882 - accuracy: 0.9780 - val_loss: 0.0653 - val_accuracy: 0.9793\n",
            "Epoch 56/150\n",
            "73/73 [==============================] - 2s 24ms/step - loss: 0.1070 - accuracy: 0.9705 - val_loss: 0.0392 - val_accuracy: 0.9948\n",
            "Epoch 57/150\n",
            "73/73 [==============================] - 2s 24ms/step - loss: 0.0936 - accuracy: 0.9740 - val_loss: 0.0385 - val_accuracy: 0.9896\n",
            "Epoch 58/150\n",
            "73/73 [==============================] - 2s 24ms/step - loss: 0.0691 - accuracy: 0.9844 - val_loss: 0.0362 - val_accuracy: 0.9896\n",
            "Epoch 59/150\n",
            "73/73 [==============================] - 2s 24ms/step - loss: 0.0794 - accuracy: 0.9792 - val_loss: 0.0382 - val_accuracy: 0.9896\n",
            "Epoch 60/150\n",
            "73/73 [==============================] - 2s 24ms/step - loss: 0.0904 - accuracy: 0.9775 - val_loss: 0.0375 - val_accuracy: 0.9896\n",
            "Epoch 61/150\n",
            "73/73 [==============================] - 2s 24ms/step - loss: 0.0734 - accuracy: 0.9821 - val_loss: 0.0373 - val_accuracy: 0.9896\n",
            "Epoch 62/150\n",
            "73/73 [==============================] - 2s 23ms/step - loss: 0.0731 - accuracy: 0.9809 - val_loss: 0.0355 - val_accuracy: 0.9896\n",
            "Epoch 63/150\n",
            "73/73 [==============================] - 2s 24ms/step - loss: 0.0675 - accuracy: 0.9850 - val_loss: 0.0629 - val_accuracy: 0.9689\n",
            "Epoch 64/150\n",
            "73/73 [==============================] - 2s 24ms/step - loss: 0.0940 - accuracy: 0.9751 - val_loss: 0.0243 - val_accuracy: 0.9896\n",
            "Epoch 65/150\n",
            "73/73 [==============================] - 2s 24ms/step - loss: 0.0724 - accuracy: 0.9838 - val_loss: 0.0263 - val_accuracy: 0.9896\n",
            "Epoch 66/150\n",
            "73/73 [==============================] - 2s 24ms/step - loss: 0.0756 - accuracy: 0.9780 - val_loss: 0.0265 - val_accuracy: 0.9948\n",
            "Epoch 67/150\n",
            "73/73 [==============================] - 2s 24ms/step - loss: 0.0713 - accuracy: 0.9798 - val_loss: 0.0281 - val_accuracy: 0.9948\n",
            "Epoch 68/150\n",
            "73/73 [==============================] - 2s 23ms/step - loss: 0.0741 - accuracy: 0.9809 - val_loss: 0.0377 - val_accuracy: 0.9948\n",
            "Epoch 69/150\n",
            "73/73 [==============================] - 2s 24ms/step - loss: 0.0791 - accuracy: 0.9786 - val_loss: 0.0329 - val_accuracy: 0.9896\n",
            "Epoch 70/150\n",
            "73/73 [==============================] - 2s 24ms/step - loss: 0.0755 - accuracy: 0.9838 - val_loss: 0.0345 - val_accuracy: 0.9948\n",
            "Epoch 71/150\n",
            "73/73 [==============================] - 2s 24ms/step - loss: 0.0796 - accuracy: 0.9803 - val_loss: 0.0352 - val_accuracy: 0.9948\n",
            "Epoch 72/150\n",
            "73/73 [==============================] - 2s 24ms/step - loss: 0.0714 - accuracy: 0.9803 - val_loss: 0.0427 - val_accuracy: 0.9845\n",
            "Epoch 73/150\n",
            "73/73 [==============================] - 2s 24ms/step - loss: 0.0647 - accuracy: 0.9838 - val_loss: 0.0311 - val_accuracy: 0.9896\n",
            "Epoch 74/150\n",
            "73/73 [==============================] - 2s 24ms/step - loss: 0.0731 - accuracy: 0.9815 - val_loss: 0.0455 - val_accuracy: 0.9896\n",
            "Epoch 75/150\n",
            "73/73 [==============================] - 2s 24ms/step - loss: 0.0739 - accuracy: 0.9798 - val_loss: 0.0720 - val_accuracy: 0.9741\n",
            "Epoch 76/150\n",
            "73/73 [==============================] - 2s 24ms/step - loss: 0.0745 - accuracy: 0.9775 - val_loss: 0.0586 - val_accuracy: 0.9845\n",
            "Epoch 77/150\n",
            "73/73 [==============================] - 2s 24ms/step - loss: 0.0735 - accuracy: 0.9821 - val_loss: 0.0271 - val_accuracy: 0.9896\n",
            "Epoch 78/150\n",
            "73/73 [==============================] - 2s 24ms/step - loss: 0.0743 - accuracy: 0.9780 - val_loss: 0.0312 - val_accuracy: 0.9845\n",
            "Epoch 79/150\n",
            "73/73 [==============================] - 2s 24ms/step - loss: 0.0671 - accuracy: 0.9838 - val_loss: 0.0264 - val_accuracy: 0.9896\n",
            "Epoch 80/150\n",
            "73/73 [==============================] - 2s 24ms/step - loss: 0.0618 - accuracy: 0.9861 - val_loss: 0.0233 - val_accuracy: 0.9948\n",
            "Epoch 81/150\n",
            "73/73 [==============================] - 2s 24ms/step - loss: 0.0618 - accuracy: 0.9844 - val_loss: 0.0326 - val_accuracy: 0.9948\n",
            "Epoch 82/150\n",
            "73/73 [==============================] - 2s 24ms/step - loss: 0.0645 - accuracy: 0.9838 - val_loss: 0.0699 - val_accuracy: 0.9741\n",
            "Epoch 83/150\n",
            "73/73 [==============================] - 2s 24ms/step - loss: 0.0560 - accuracy: 0.9827 - val_loss: 0.0329 - val_accuracy: 0.9948\n",
            "Epoch 84/150\n",
            "73/73 [==============================] - 2s 24ms/step - loss: 0.0618 - accuracy: 0.9809 - val_loss: 0.0420 - val_accuracy: 0.9896\n",
            "Epoch 85/150\n",
            "73/73 [==============================] - 2s 24ms/step - loss: 0.0706 - accuracy: 0.9844 - val_loss: 0.2273 - val_accuracy: 0.9637\n",
            "Epoch 86/150\n",
            "73/73 [==============================] - 2s 24ms/step - loss: 0.0803 - accuracy: 0.9821 - val_loss: 0.1530 - val_accuracy: 0.9637\n",
            "Epoch 87/150\n",
            "73/73 [==============================] - 2s 24ms/step - loss: 0.0619 - accuracy: 0.9838 - val_loss: 0.0329 - val_accuracy: 0.9948\n",
            "Epoch 88/150\n",
            "73/73 [==============================] - 2s 24ms/step - loss: 0.0543 - accuracy: 0.9867 - val_loss: 0.0262 - val_accuracy: 0.9948\n",
            "Epoch 89/150\n",
            "73/73 [==============================] - 2s 24ms/step - loss: 0.0747 - accuracy: 0.9803 - val_loss: 0.0326 - val_accuracy: 0.9948\n",
            "Epoch 90/150\n",
            "73/73 [==============================] - 2s 24ms/step - loss: 0.0588 - accuracy: 0.9896 - val_loss: 0.0341 - val_accuracy: 0.9896\n",
            "Epoch 91/150\n",
            "73/73 [==============================] - 2s 24ms/step - loss: 0.0589 - accuracy: 0.9832 - val_loss: 0.0225 - val_accuracy: 0.9948\n",
            "Epoch 92/150\n",
            "73/73 [==============================] - 2s 24ms/step - loss: 0.0444 - accuracy: 0.9861 - val_loss: 0.0245 - val_accuracy: 0.9948\n",
            "Epoch 93/150\n",
            "73/73 [==============================] - 2s 24ms/step - loss: 0.0622 - accuracy: 0.9838 - val_loss: 0.0287 - val_accuracy: 0.9948\n",
            "Epoch 94/150\n",
            "73/73 [==============================] - 2s 24ms/step - loss: 0.0552 - accuracy: 0.9850 - val_loss: 0.0223 - val_accuracy: 0.9948\n",
            "Epoch 95/150\n",
            "73/73 [==============================] - 2s 24ms/step - loss: 0.0523 - accuracy: 0.9879 - val_loss: 0.0311 - val_accuracy: 0.9948\n",
            "Epoch 96/150\n",
            "73/73 [==============================] - 2s 24ms/step - loss: 0.0511 - accuracy: 0.9879 - val_loss: 0.0223 - val_accuracy: 0.9948\n",
            "Epoch 97/150\n",
            "73/73 [==============================] - 2s 24ms/step - loss: 0.0518 - accuracy: 0.9879 - val_loss: 0.0252 - val_accuracy: 0.9948\n",
            "Epoch 98/150\n",
            "73/73 [==============================] - 2s 24ms/step - loss: 0.0608 - accuracy: 0.9844 - val_loss: 0.0275 - val_accuracy: 0.9948\n",
            "Epoch 99/150\n",
            "73/73 [==============================] - 2s 24ms/step - loss: 0.0636 - accuracy: 0.9832 - val_loss: 0.0257 - val_accuracy: 0.9948\n",
            "Epoch 100/150\n",
            "73/73 [==============================] - 2s 24ms/step - loss: 0.0505 - accuracy: 0.9844 - val_loss: 0.0851 - val_accuracy: 0.9793\n",
            "Epoch 101/150\n",
            "73/73 [==============================] - 2s 24ms/step - loss: 0.0390 - accuracy: 0.9884 - val_loss: 0.1041 - val_accuracy: 0.9793\n",
            "Epoch 102/150\n",
            "73/73 [==============================] - 2s 24ms/step - loss: 0.0479 - accuracy: 0.9902 - val_loss: 0.0852 - val_accuracy: 0.9793\n",
            "Epoch 103/150\n",
            "73/73 [==============================] - 2s 24ms/step - loss: 0.0463 - accuracy: 0.9890 - val_loss: 0.0365 - val_accuracy: 0.9948\n",
            "Epoch 104/150\n",
            "73/73 [==============================] - 2s 24ms/step - loss: 0.0505 - accuracy: 0.9844 - val_loss: 0.0296 - val_accuracy: 0.9948\n",
            "Epoch 105/150\n",
            "73/73 [==============================] - 2s 24ms/step - loss: 0.0437 - accuracy: 0.9873 - val_loss: 0.0347 - val_accuracy: 0.9948\n",
            "Epoch 106/150\n",
            "73/73 [==============================] - 2s 24ms/step - loss: 0.0713 - accuracy: 0.9832 - val_loss: 0.0357 - val_accuracy: 0.9948\n",
            "Epoch 107/150\n",
            "73/73 [==============================] - 2s 24ms/step - loss: 0.0526 - accuracy: 0.9867 - val_loss: 0.0361 - val_accuracy: 0.9896\n",
            "Epoch 108/150\n",
            "73/73 [==============================] - 2s 24ms/step - loss: 0.0553 - accuracy: 0.9873 - val_loss: 0.0202 - val_accuracy: 0.9948\n",
            "Epoch 109/150\n",
            "73/73 [==============================] - 2s 24ms/step - loss: 0.0661 - accuracy: 0.9832 - val_loss: 0.0221 - val_accuracy: 0.9896\n",
            "Epoch 110/150\n",
            "73/73 [==============================] - 2s 24ms/step - loss: 0.0582 - accuracy: 0.9861 - val_loss: 0.0284 - val_accuracy: 0.9948\n",
            "Epoch 111/150\n",
            "73/73 [==============================] - 2s 24ms/step - loss: 0.0530 - accuracy: 0.9867 - val_loss: 0.0290 - val_accuracy: 0.9948\n",
            "Epoch 112/150\n",
            "73/73 [==============================] - 2s 24ms/step - loss: 0.0594 - accuracy: 0.9850 - val_loss: 0.0240 - val_accuracy: 0.9948\n",
            "Epoch 113/150\n",
            "73/73 [==============================] - 2s 24ms/step - loss: 0.0442 - accuracy: 0.9890 - val_loss: 0.0250 - val_accuracy: 0.9948\n",
            "Epoch 114/150\n",
            "73/73 [==============================] - 2s 24ms/step - loss: 0.0337 - accuracy: 0.9913 - val_loss: 0.0241 - val_accuracy: 0.9948\n",
            "Epoch 115/150\n",
            "73/73 [==============================] - 2s 23ms/step - loss: 0.0419 - accuracy: 0.9879 - val_loss: 0.0402 - val_accuracy: 0.9896\n",
            "Epoch 116/150\n",
            "73/73 [==============================] - 2s 24ms/step - loss: 0.0481 - accuracy: 0.9861 - val_loss: 0.2319 - val_accuracy: 0.9585\n",
            "Epoch 117/150\n",
            "73/73 [==============================] - 2s 24ms/step - loss: 0.0440 - accuracy: 0.9873 - val_loss: 0.0325 - val_accuracy: 0.9948\n",
            "Epoch 118/150\n",
            "73/73 [==============================] - 2s 24ms/step - loss: 0.0510 - accuracy: 0.9879 - val_loss: 0.0386 - val_accuracy: 0.9896\n",
            "Epoch 119/150\n",
            "73/73 [==============================] - 2s 24ms/step - loss: 0.0427 - accuracy: 0.9908 - val_loss: 0.0632 - val_accuracy: 0.9741\n",
            "Epoch 120/150\n",
            "73/73 [==============================] - 2s 24ms/step - loss: 0.0553 - accuracy: 0.9861 - val_loss: 0.0278 - val_accuracy: 0.9948\n",
            "Epoch 121/150\n",
            "73/73 [==============================] - 2s 24ms/step - loss: 0.0532 - accuracy: 0.9855 - val_loss: 0.0273 - val_accuracy: 0.9948\n",
            "Epoch 122/150\n",
            "73/73 [==============================] - 2s 24ms/step - loss: 0.0461 - accuracy: 0.9879 - val_loss: 0.1396 - val_accuracy: 0.9689\n",
            "Epoch 123/150\n",
            "73/73 [==============================] - 2s 24ms/step - loss: 0.0517 - accuracy: 0.9850 - val_loss: 0.0356 - val_accuracy: 0.9896\n",
            "Epoch 124/150\n",
            "73/73 [==============================] - 2s 24ms/step - loss: 0.0562 - accuracy: 0.9821 - val_loss: 0.0484 - val_accuracy: 0.9741\n",
            "Epoch 125/150\n",
            "73/73 [==============================] - 2s 24ms/step - loss: 0.0950 - accuracy: 0.9711 - val_loss: 0.1219 - val_accuracy: 0.9637\n",
            "Epoch 126/150\n",
            "73/73 [==============================] - 2s 24ms/step - loss: 0.0766 - accuracy: 0.9792 - val_loss: 0.0194 - val_accuracy: 0.9948\n",
            "Epoch 127/150\n",
            "73/73 [==============================] - 2s 24ms/step - loss: 0.0526 - accuracy: 0.9838 - val_loss: 0.0326 - val_accuracy: 0.9948\n",
            "Epoch 128/150\n",
            "73/73 [==============================] - 2s 24ms/step - loss: 0.0484 - accuracy: 0.9838 - val_loss: 0.0293 - val_accuracy: 0.9896\n",
            "Epoch 129/150\n",
            "73/73 [==============================] - 2s 24ms/step - loss: 0.0579 - accuracy: 0.9855 - val_loss: 0.0180 - val_accuracy: 0.9948\n",
            "Epoch 130/150\n",
            "73/73 [==============================] - 2s 24ms/step - loss: 0.0524 - accuracy: 0.9832 - val_loss: 0.0303 - val_accuracy: 0.9845\n",
            "Epoch 131/150\n",
            "73/73 [==============================] - 2s 24ms/step - loss: 0.0494 - accuracy: 0.9873 - val_loss: 0.0266 - val_accuracy: 0.9948\n",
            "Epoch 132/150\n",
            "73/73 [==============================] - 2s 24ms/step - loss: 0.0586 - accuracy: 0.9844 - val_loss: 0.0165 - val_accuracy: 0.9948\n",
            "Epoch 133/150\n",
            "73/73 [==============================] - 2s 24ms/step - loss: 0.0351 - accuracy: 0.9884 - val_loss: 0.1228 - val_accuracy: 0.9741\n",
            "Epoch 134/150\n",
            "73/73 [==============================] - 2s 24ms/step - loss: 0.0289 - accuracy: 0.9908 - val_loss: 0.1127 - val_accuracy: 0.9741\n",
            "Epoch 135/150\n",
            "73/73 [==============================] - 2s 24ms/step - loss: 0.0596 - accuracy: 0.9850 - val_loss: 0.0223 - val_accuracy: 0.9948\n",
            "Epoch 136/150\n",
            "73/73 [==============================] - 2s 24ms/step - loss: 0.0414 - accuracy: 0.9850 - val_loss: 0.0274 - val_accuracy: 0.9948\n",
            "Epoch 137/150\n",
            "73/73 [==============================] - 2s 24ms/step - loss: 0.0404 - accuracy: 0.9884 - val_loss: 0.0238 - val_accuracy: 0.9948\n",
            "Epoch 138/150\n",
            "73/73 [==============================] - 2s 24ms/step - loss: 0.0381 - accuracy: 0.9908 - val_loss: 0.0183 - val_accuracy: 0.9948\n",
            "Epoch 139/150\n",
            "73/73 [==============================] - 2s 24ms/step - loss: 0.0472 - accuracy: 0.9879 - val_loss: 0.0386 - val_accuracy: 0.9896\n",
            "Epoch 140/150\n",
            "73/73 [==============================] - 2s 24ms/step - loss: 0.0587 - accuracy: 0.9873 - val_loss: 0.0581 - val_accuracy: 0.9793\n",
            "Epoch 141/150\n",
            "73/73 [==============================] - 2s 24ms/step - loss: 0.0521 - accuracy: 0.9884 - val_loss: 0.0148 - val_accuracy: 0.9948\n",
            "Epoch 142/150\n",
            "73/73 [==============================] - 2s 24ms/step - loss: 0.0489 - accuracy: 0.9861 - val_loss: 0.0250 - val_accuracy: 0.9948\n",
            "Epoch 143/150\n",
            "73/73 [==============================] - 2s 24ms/step - loss: 0.0420 - accuracy: 0.9879 - val_loss: 0.0315 - val_accuracy: 0.9896\n",
            "Epoch 144/150\n",
            "73/73 [==============================] - 2s 24ms/step - loss: 0.0534 - accuracy: 0.9844 - val_loss: 0.0283 - val_accuracy: 0.9896\n",
            "Epoch 145/150\n",
            "73/73 [==============================] - 2s 24ms/step - loss: 0.0460 - accuracy: 0.9896 - val_loss: 0.0202 - val_accuracy: 0.9948\n",
            "Epoch 146/150\n",
            "73/73 [==============================] - 2s 24ms/step - loss: 0.0518 - accuracy: 0.9884 - val_loss: 0.0212 - val_accuracy: 0.9896\n",
            "Epoch 147/150\n",
            "73/73 [==============================] - 2s 24ms/step - loss: 0.0358 - accuracy: 0.9896 - val_loss: 0.0159 - val_accuracy: 0.9948\n",
            "Epoch 148/150\n",
            "73/73 [==============================] - 2s 24ms/step - loss: 0.0450 - accuracy: 0.9861 - val_loss: 0.0131 - val_accuracy: 0.9948\n",
            "Epoch 149/150\n",
            "73/73 [==============================] - 2s 24ms/step - loss: 0.0428 - accuracy: 0.9902 - val_loss: 0.0144 - val_accuracy: 0.9948\n",
            "Epoch 150/150\n",
            "73/73 [==============================] - 2s 24ms/step - loss: 0.0417 - accuracy: 0.9890 - val_loss: 0.0139 - val_accuracy: 0.9948\n"
          ],
          "name": "stdout"
        }
      ]
    },
    {
      "cell_type": "code",
      "metadata": {
        "colab": {
          "base_uri": "https://localhost:8080/"
        },
        "id": "integrated-optimization",
        "outputId": "5c7cd760-c0e9-49bb-a5b0-57fb64ef654a"
      },
      "source": [
        "print(\"Evaluate on test data\")\n",
        "results = model.evaluate(x_test, y_test, batch_size=24)\n",
        "print(\"test loss, test acc:\", results)\n",
        "model.save(dir_path + 'Models/gestures_bidir', save_format='tf')"
      ],
      "id": "integrated-optimization",
      "execution_count": 16,
      "outputs": [
        {
          "output_type": "stream",
          "text": [
            "Evaluate on test data\n",
            "20/20 [==============================] - 0s 8ms/step - loss: 0.1914 - accuracy: 0.9579\n",
            "test loss, test acc: [0.19144324958324432, 0.9578947424888611]\n"
          ],
          "name": "stdout"
        },
        {
          "output_type": "stream",
          "text": [
            "WARNING:absl:Found untraced functions such as lstm_cell_1_layer_call_and_return_conditional_losses, lstm_cell_1_layer_call_fn, lstm_cell_2_layer_call_and_return_conditional_losses, lstm_cell_2_layer_call_fn, lstm_cell_4_layer_call_and_return_conditional_losses while saving (showing 5 of 20). These functions will not be directly callable after loading.\n"
          ],
          "name": "stderr"
        },
        {
          "output_type": "stream",
          "text": [
            "INFO:tensorflow:Assets written to: ./drive/MyDrive/BAKA/Models/gestures_bidir/assets\n"
          ],
          "name": "stdout"
        },
        {
          "output_type": "stream",
          "text": [
            "INFO:tensorflow:Assets written to: ./drive/MyDrive/BAKA/Models/gestures_bidir/assets\n"
          ],
          "name": "stderr"
        }
      ]
    },
    {
      "cell_type": "code",
      "metadata": {
        "colab": {
          "base_uri": "https://localhost:8080/"
        },
        "id": "faWZ2lOQ09Dj",
        "outputId": "5d3309ad-eae2-4501-da88-21bd0ab281f0"
      },
      "source": [
        "min_max_scaler.data_min_"
      ],
      "id": "faWZ2lOQ09Dj",
      "execution_count": 17,
      "outputs": [
        {
          "output_type": "execute_result",
          "data": {
            "text/plain": [
              "array([   0.    ,    0.    ,    0.    ,    0.    ,    0.    ,    0.    ,\n",
              "          0.    ,    0.    ,    0.    ,    0.    , -591.101 ,  -12.7777,\n",
              "       -190.142 , -626.233 ,    0.    , -238.535 , -648.629 ,    0.    ,\n",
              "       -251.495 , -643.156 ,    0.    , -243.005 , -675.481 ,    0.    ,\n",
              "       -220.466 , -607.075 ,    0.    , -158.459 ,    0.    ,    0.    ,\n",
              "          0.    ])"
            ]
          },
          "metadata": {
            "tags": []
          },
          "execution_count": 17
        }
      ]
    },
    {
      "cell_type": "code",
      "metadata": {
        "colab": {
          "base_uri": "https://localhost:8080/"
        },
        "id": "qLaXSPfzPA8k",
        "outputId": "29a75c01-8814-422e-9316-4a38ef212e6d"
      },
      "source": [
        "min_max_scaler.data_max_"
      ],
      "id": "qLaXSPfzPA8k",
      "execution_count": 18,
      "outputs": [
        {
          "output_type": "execute_result",
          "data": {
            "text/plain": [
              "array([179.999, 180.   , 180.   , 179.999, 179.991, 179.997, 179.946,\n",
              "       180.   , 179.985, 179.925, 539.053, 468.363, 720.07 , 581.654,\n",
              "       522.811, 709.384, 585.01 , 508.522, 705.543, 567.779, 478.013,\n",
              "       702.861, 544.45 , 478.722, 693.173, 499.893, 466.308, 707.228,\n",
              "       103.931, 161.082, 127.977])"
            ]
          },
          "metadata": {
            "tags": []
          },
          "execution_count": 18
        }
      ]
    },
    {
      "cell_type": "code",
      "metadata": {
        "colab": {
          "base_uri": "https://localhost:8080/"
        },
        "id": "NOWq0Fev1RI-",
        "outputId": "d15d52ba-a991-4982-9eff-29299a3d75c0"
      },
      "source": [
        "model.input"
      ],
      "id": "NOWq0Fev1RI-",
      "execution_count": 19,
      "outputs": [
        {
          "output_type": "execute_result",
          "data": {
            "text/plain": [
              "<KerasTensor: shape=(None, 60, 31) dtype=float64 (created by layer 'bidirectional_input')>"
            ]
          },
          "metadata": {
            "tags": []
          },
          "execution_count": 19
        }
      ]
    },
    {
      "cell_type": "code",
      "metadata": {
        "id": "FhIACF0-aQgh"
      },
      "source": [
        ""
      ],
      "id": "FhIACF0-aQgh",
      "execution_count": 19,
      "outputs": []
    }
  ]
}