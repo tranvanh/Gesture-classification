{
  "nbformat": 4,
  "nbformat_minor": 5,
  "metadata": {
    "accelerator": "GPU",
    "colab": {
      "name": "feature_computation.ipynb",
      "provenance": []
    },
    "kernelspec": {
      "display_name": "Python 3",
      "language": "python",
      "name": "python3"
    },
    "language_info": {
      "codemirror_mode": {
        "name": "ipython",
        "version": 3
      },
      "file_extension": ".py",
      "mimetype": "text/x-python",
      "name": "python",
      "nbconvert_exporter": "python",
      "pygments_lexer": "ipython3",
      "version": "3.8.8"
    }
  },
  "cells": [
    {
      "cell_type": "markdown",
      "metadata": {
        "id": "geological-matrix"
      },
      "source": [
        "# Imports and initialization"
      ],
      "id": "geological-matrix"
    },
    {
      "cell_type": "code",
      "metadata": {
        "id": "caring-species"
      },
      "source": [
        "import pandas as pd\n",
        "import numpy as np\n",
        "import os\n",
        "import math\n",
        "import tensorflow as tf\n",
        "from tensorflow.keras.models import Sequential, Model, load_model\n",
        "from tensorflow.keras.layers import Dense, Dropout, LSTM, BatchNormalization, Bidirectional\n",
        "from sklearn.utils import shuffle\n",
        "from sklearn.preprocessing import MinMaxScaler, StandardScaler\n",
        "physical_devices = tf.config.list_physical_devices('GPU')\n",
        "tf.config.experimental.set_memory_growth(physical_devices[0], enable=True)"
      ],
      "id": "caring-species",
      "execution_count": 12,
      "outputs": []
    },
    {
      "cell_type": "markdown",
      "metadata": {
        "id": "uniform-stream"
      },
      "source": [
        "Choose one of the two below cells depending on the environment."
      ],
      "id": "uniform-stream"
    },
    {
      "cell_type": "code",
      "metadata": {
        "id": "continuous-johnston"
      },
      "source": [
        "# dir_path = './' #uncomment if in local environment"
      ],
      "id": "continuous-johnston",
      "execution_count": 13,
      "outputs": []
    },
    {
      "cell_type": "code",
      "metadata": {
        "colab": {
          "base_uri": "https://localhost:8080/"
        },
        "id": "KstfPbJfzIAV",
        "outputId": "8193fa8a-2a00-4a23-84a1-aee852d121f7"
      },
      "source": [
        "#uncomment in google colab environment\n",
        "from google.colab import drive\n",
        "drive.mount('/content/drive', force_remount=True) #path to root directory in Drive\n",
        "dir_path = './drive/MyDrive/BAKA/' #colab\n",
        "df = pd.read_csv(dir_path + 'DataCollection' + '/' + '1' + '/' + '0.txt', header=None, sep=' ')\n",
        "if len(df.columns) > 31:\n",
        "  df = df.drop(columns=[31])"
      ],
      "id": "KstfPbJfzIAV",
      "execution_count": 14,
      "outputs": [
        {
          "output_type": "stream",
          "text": [
            "Mounted at /content/drive\n"
          ],
          "name": "stdout"
        }
      ]
    },
    {
      "cell_type": "code",
      "metadata": {
        "colab": {
          "base_uri": "https://localhost:8080/"
        },
        "id": "signal-friendly",
        "outputId": "7cbfd163-a82e-49f6-cc44-47c6d371291e"
      },
      "source": [
        "files = os.listdir(dir_path + 'DataCollection')\n",
        "files"
      ],
      "id": "signal-friendly",
      "execution_count": 15,
      "outputs": [
        {
          "output_type": "execute_result",
          "data": {
            "text/plain": [
              "['4', '7', '8', '0', '5', '2', '3', '6', '1']"
            ]
          },
          "metadata": {
            "tags": []
          },
          "execution_count": 15
        }
      ]
    },
    {
      "cell_type": "markdown",
      "metadata": {
        "id": "packed-staff"
      },
      "source": [
        "# Dataset Split\n",
        "Split samples into Test sets and Training sets <br>\n",
        "Use 20% of available samples for Testing and the remaining for Training"
      ],
      "id": "packed-staff"
    },
    {
      "cell_type": "code",
      "metadata": {
        "colab": {
          "base_uri": "https://localhost:8080/"
        },
        "id": "annoying-rotation",
        "outputId": "ce0386ad-f922-4a47-a4ae-86b624fc25ab"
      },
      "source": [
        "x_train = [];\n",
        "y_train = [];\n",
        "\n",
        "x_test = [];\n",
        "y_test = [];\n",
        "for i in files:\n",
        "    samples = os.listdir(dir_path + 'DataCollection' + '/' + i)\n",
        "    num_tests = len(samples);\n",
        "    shuffle(samples, random_state = 0)\n",
        "\n",
        "    for k in range(0, num_tests):\n",
        "        df = pd.read_csv(dir_path + 'DataCollection' + '/' + i + '/' + samples[k], header=None, sep=' ')\n",
        "        df = df.drop(df.index[60:])\n",
        "        if len(df.columns) > 31:\n",
        "          df = df.drop(columns=[31])\n",
        "\n",
        "        if df.isnull().values.any() or '-nan(ind)' in df.values:\n",
        "          print(f'Found NaN value at gesture[{i}] index [{samples[k]}], sample is thrown away')\n",
        "          continue\n",
        "        \n",
        "        x_train.append(df.to_numpy())\n",
        "        y_train.append(int(i));\n",
        "    \n",
        "    print(len(samples), ' ', num_tests, ' ', len(samples)- num_tests)\n",
        "x_train = np.array(x_train)\n",
        "y_train = np.array(y_train);\n",
        "\n",
        "print(\"x_train.shape: \", x_train.shape)\n",
        "print(\"y_train.shiape: \", y_train.shape)"
      ],
      "id": "annoying-rotation",
      "execution_count": 16,
      "outputs": [
        {
          "output_type": "stream",
          "text": [
            "/usr/local/lib/python3.7/dist-packages/ipykernel_launcher.py:17: FutureWarning: elementwise comparison failed; returning scalar instead, but in the future will perform elementwise comparison\n"
          ],
          "name": "stderr"
        },
        {
          "output_type": "stream",
          "text": [
            "429   429   0\n",
            "264   264   0\n",
            "233   233   0\n",
            "253   253   0\n",
            "771   771   0\n",
            "Found NaN value at gesture[2] index [618.txt], sample is thrown away\n",
            "687   687   0\n",
            "568   568   0\n",
            "266   266   0\n",
            "390   390   0\n",
            "x_train.shape:  (3860, 60, 31)\n",
            "y_train.shiape:  (3860,)\n"
          ],
          "name": "stdout"
        }
      ]
    },
    {
      "cell_type": "code",
      "metadata": {
        "id": "orange-character",
        "colab": {
          "base_uri": "https://localhost:8080/"
        },
        "outputId": "eb83833b-3bd8-46bc-cac2-3fe9b8fef64e"
      },
      "source": [
        "print(\"x_train.shape: \", x_train.shape)\n",
        "print(\"y_train.shape: \", y_train.shape)"
      ],
      "id": "orange-character",
      "execution_count": 17,
      "outputs": [
        {
          "output_type": "stream",
          "text": [
            "x_train.shape:  (3860, 60, 31)\n",
            "y_train.shape:  (3860,)\n"
          ],
          "name": "stdout"
        }
      ]
    },
    {
      "cell_type": "markdown",
      "metadata": {
        "id": "choice-dollar"
      },
      "source": [
        "### Scaling and feature labels\n",
        "Apply min-max scaling technique and relable features corresponding to the description in bachelor thesis's text"
      ],
      "id": "choice-dollar"
    },
    {
      "cell_type": "code",
      "metadata": {
        "id": "sensitive-cheat"
      },
      "source": [
        "def scale_data(data, min_max_scaler):\n",
        "    for i in range(len(data)):\n",
        "        data[i] = min_max_scaler.transform(data[i])\n",
        "    return data"
      ],
      "id": "sensitive-cheat",
      "execution_count": 18,
      "outputs": []
    },
    {
      "cell_type": "markdown",
      "metadata": {
        "id": "ancient-freight"
      },
      "source": [
        "Form preprocessed datasets to corresponding shapes as well as shuffle samples"
      ],
      "id": "ancient-freight"
    },
    {
      "cell_type": "code",
      "metadata": {
        "id": "broke-sailing"
      },
      "source": [
        "min_max_scaler = MinMaxScaler(feature_range=(0,1))\n",
        "\n",
        "num_instances, num_time_steps, num_features = x_train.shape\n",
        "x_train = np.reshape(x_train, newshape=(-1, num_features))\n",
        "x_train = min_max_scaler.fit_transform(x_train)\n",
        "x_train = np.reshape(x_train, newshape=(num_instances, num_time_steps, num_features))\n",
        "\n",
        "x_train, y_train = shuffle(x_train, y_train, random_state=0)\n"
      ],
      "id": "broke-sailing",
      "execution_count": 19,
      "outputs": []
    },
    {
      "cell_type": "code",
      "metadata": {
        "id": "discrete-kansas",
        "colab": {
          "base_uri": "https://localhost:8080/"
        },
        "outputId": "ff0ba053-296d-4ac7-c44f-193cb62003db"
      },
      "source": [
        "print(\"x_train.shape: \", x_train.shape)\n",
        "print(\"y_train.shiape: \", y_train.shape)"
      ],
      "id": "discrete-kansas",
      "execution_count": 20,
      "outputs": [
        {
          "output_type": "stream",
          "text": [
            "x_train.shape:  (3860, 60, 31)\n",
            "y_train.shiape:  (3860,)\n"
          ],
          "name": "stdout"
        }
      ]
    },
    {
      "cell_type": "markdown",
      "metadata": {
        "id": "first-decrease"
      },
      "source": [
        "# Model definition\n",
        "\n",
        "Define Two-layered bidirectional LSTM<br>\n",
        "Each layer consists of `Bidirectional(LSTM)` cell with addition of `Dropout()` and `BatchNormalization()` to minimize overfitting and decrease learning time"
      ],
      "id": "first-decrease"
    },
    {
      "cell_type": "code",
      "metadata": {
        "id": "lhabYU0vjbLQ",
        "colab": {
          "base_uri": "https://localhost:8080/"
        },
        "outputId": "018257b9-1d66-4a5c-c670-c52683ccb23e"
      },
      "source": [
        "model = Sequential()\n",
        "model.add(Bidirectional(LSTM(units=60, return_sequences=True ,dtype='float64'),input_shape=x_train.shape[1:],dtype='float64'))\n",
        "model.add(BatchNormalization())\n",
        "model.add(Dropout(0.6))\n",
        "\n",
        "model.add(Bidirectional(LSTM(units=60 ,dtype='float64') ,dtype='float64'))\n",
        "model.add(BatchNormalization())\n",
        "model.add(Dropout(0.6))\n",
        "\n",
        "model.add(Dense(len(files), activation='softmax',dtype='float64'))\n",
        "model.summary()"
      ],
      "id": "lhabYU0vjbLQ",
      "execution_count": 21,
      "outputs": [
        {
          "output_type": "stream",
          "text": [
            "Model: \"sequential_1\"\n",
            "_________________________________________________________________\n",
            "Layer (type)                 Output Shape              Param #   \n",
            "=================================================================\n",
            "bidirectional_2 (Bidirection (None, 60, 120)           44160     \n",
            "_________________________________________________________________\n",
            "batch_normalization_2 (Batch (None, 60, 120)           480       \n",
            "_________________________________________________________________\n",
            "dropout_2 (Dropout)          (None, 60, 120)           0         \n",
            "_________________________________________________________________\n",
            "bidirectional_3 (Bidirection (None, 120)               86880     \n",
            "_________________________________________________________________\n",
            "batch_normalization_3 (Batch (None, 120)               480       \n",
            "_________________________________________________________________\n",
            "dropout_3 (Dropout)          (None, 120)               0         \n",
            "_________________________________________________________________\n",
            "dense_1 (Dense)              (None, 9)                 1089      \n",
            "=================================================================\n",
            "Total params: 133,089\n",
            "Trainable params: 132,609\n",
            "Non-trainable params: 480\n",
            "_________________________________________________________________\n"
          ],
          "name": "stdout"
        }
      ]
    },
    {
      "cell_type": "markdown",
      "metadata": {
        "id": "senior-madrid"
      },
      "source": [
        "# Training\n",
        "\n",
        "Model training using 200 epochs <br>\n",
        "Marking checkpoints(models with best `val_accuracy`) to `./Checkpoints` directory"
      ],
      "id": "senior-madrid"
    },
    {
      "cell_type": "code",
      "metadata": {
        "id": "after-sperm",
        "colab": {
          "base_uri": "https://localhost:8080/"
        },
        "outputId": "21471d47-d092-4a5f-c9b5-c43191be27b5"
      },
      "source": [
        "opt = tf.keras.optimizers.Adam(learning_rate=0.0001, decay=1e-5)\n",
        "\n",
        "checkpoint_filepath = dir_path + 'Checkpoints/'\n",
        "model_checkpoint_callback = tf.keras.callbacks.ModelCheckpoint(\n",
        "    filepath=checkpoint_filepath,\n",
        "    save_weights_only=True,\n",
        "    monitor='val_accuracy',\n",
        "    mode='max',\n",
        "    save_best_only=True)\n",
        "\n",
        "model.compile(\n",
        "    loss='sparse_categorical_crossentropy',\n",
        "    optimizer=opt,\n",
        "    metrics=['accuracy'],\n",
        ")\n",
        "\n",
        "\n",
        "gestures = model.fit(x = x_train,\n",
        "            y = y_train,\n",
        "            epochs=200,\n",
        "            batch_size=24,\n",
        "            shuffle=True\n",
        "         )"
      ],
      "id": "after-sperm",
      "execution_count": 22,
      "outputs": [
        {
          "output_type": "stream",
          "text": [
            "Epoch 1/200\n",
            "161/161 [==============================] - 10s 31ms/step - loss: 2.6685 - accuracy: 0.2598\n",
            "Epoch 2/200\n",
            "161/161 [==============================] - 5s 31ms/step - loss: 1.4051 - accuracy: 0.5370\n",
            "Epoch 3/200\n",
            "161/161 [==============================] - 5s 31ms/step - loss: 0.9227 - accuracy: 0.6801\n",
            "Epoch 4/200\n",
            "161/161 [==============================] - 5s 31ms/step - loss: 0.6391 - accuracy: 0.7852\n",
            "Epoch 5/200\n",
            "161/161 [==============================] - 5s 31ms/step - loss: 0.5559 - accuracy: 0.8197\n",
            "Epoch 6/200\n",
            "161/161 [==============================] - 5s 31ms/step - loss: 0.4515 - accuracy: 0.8575\n",
            "Epoch 7/200\n",
            "161/161 [==============================] - 5s 31ms/step - loss: 0.3856 - accuracy: 0.8811\n",
            "Epoch 8/200\n",
            "161/161 [==============================] - 5s 31ms/step - loss: 0.3824 - accuracy: 0.8832\n",
            "Epoch 9/200\n",
            "161/161 [==============================] - 5s 31ms/step - loss: 0.3313 - accuracy: 0.8964\n",
            "Epoch 10/200\n",
            "161/161 [==============================] - 5s 31ms/step - loss: 0.3118 - accuracy: 0.9091\n",
            "Epoch 11/200\n",
            "161/161 [==============================] - 5s 31ms/step - loss: 0.2713 - accuracy: 0.9168\n",
            "Epoch 12/200\n",
            "161/161 [==============================] - 5s 31ms/step - loss: 0.2794 - accuracy: 0.9142\n",
            "Epoch 13/200\n",
            "161/161 [==============================] - 5s 31ms/step - loss: 0.2643 - accuracy: 0.9223\n",
            "Epoch 14/200\n",
            "161/161 [==============================] - 5s 31ms/step - loss: 0.2457 - accuracy: 0.9264\n",
            "Epoch 15/200\n",
            "161/161 [==============================] - 5s 31ms/step - loss: 0.2361 - accuracy: 0.9326\n",
            "Epoch 16/200\n",
            "161/161 [==============================] - 5s 31ms/step - loss: 0.2311 - accuracy: 0.9293\n",
            "Epoch 17/200\n",
            "161/161 [==============================] - 5s 31ms/step - loss: 0.2158 - accuracy: 0.9381\n",
            "Epoch 18/200\n",
            "161/161 [==============================] - 5s 31ms/step - loss: 0.2128 - accuracy: 0.9370\n",
            "Epoch 19/200\n",
            "161/161 [==============================] - 5s 31ms/step - loss: 0.2030 - accuracy: 0.9420\n",
            "Epoch 20/200\n",
            "161/161 [==============================] - 5s 31ms/step - loss: 0.2037 - accuracy: 0.9396\n",
            "Epoch 21/200\n",
            "161/161 [==============================] - 5s 31ms/step - loss: 0.2139 - accuracy: 0.9396\n",
            "Epoch 22/200\n",
            "161/161 [==============================] - 5s 32ms/step - loss: 0.2085 - accuracy: 0.9404\n",
            "Epoch 23/200\n",
            "161/161 [==============================] - 5s 31ms/step - loss: 0.1871 - accuracy: 0.9451\n",
            "Epoch 24/200\n",
            "161/161 [==============================] - 5s 31ms/step - loss: 0.1833 - accuracy: 0.9477\n",
            "Epoch 25/200\n",
            "161/161 [==============================] - 5s 31ms/step - loss: 0.1828 - accuracy: 0.9443\n",
            "Epoch 26/200\n",
            "161/161 [==============================] - 5s 31ms/step - loss: 0.1684 - accuracy: 0.9503\n",
            "Epoch 27/200\n",
            "161/161 [==============================] - 5s 31ms/step - loss: 0.1718 - accuracy: 0.9492\n",
            "Epoch 28/200\n",
            "161/161 [==============================] - 5s 31ms/step - loss: 0.1885 - accuracy: 0.9461\n",
            "Epoch 29/200\n",
            "161/161 [==============================] - 5s 31ms/step - loss: 0.1539 - accuracy: 0.9575\n",
            "Epoch 30/200\n",
            "161/161 [==============================] - 5s 31ms/step - loss: 0.1630 - accuracy: 0.9536\n",
            "Epoch 31/200\n",
            "161/161 [==============================] - 5s 31ms/step - loss: 0.1480 - accuracy: 0.9565\n",
            "Epoch 32/200\n",
            "161/161 [==============================] - 5s 31ms/step - loss: 0.1608 - accuracy: 0.9539\n",
            "Epoch 33/200\n",
            "161/161 [==============================] - 5s 31ms/step - loss: 0.1505 - accuracy: 0.9573\n",
            "Epoch 34/200\n",
            "161/161 [==============================] - 5s 31ms/step - loss: 0.1477 - accuracy: 0.9552\n",
            "Epoch 35/200\n",
            "161/161 [==============================] - 5s 31ms/step - loss: 0.1455 - accuracy: 0.9539\n",
            "Epoch 36/200\n",
            "161/161 [==============================] - 5s 31ms/step - loss: 0.1406 - accuracy: 0.9552\n",
            "Epoch 37/200\n",
            "161/161 [==============================] - 5s 32ms/step - loss: 0.1458 - accuracy: 0.9565\n",
            "Epoch 38/200\n",
            "161/161 [==============================] - 5s 31ms/step - loss: 0.1376 - accuracy: 0.9578\n",
            "Epoch 39/200\n",
            "161/161 [==============================] - 5s 31ms/step - loss: 0.1358 - accuracy: 0.9617\n",
            "Epoch 40/200\n",
            "161/161 [==============================] - 5s 31ms/step - loss: 0.1369 - accuracy: 0.9585\n",
            "Epoch 41/200\n",
            "161/161 [==============================] - 5s 31ms/step - loss: 0.1206 - accuracy: 0.9648\n",
            "Epoch 42/200\n",
            "161/161 [==============================] - 5s 31ms/step - loss: 0.1286 - accuracy: 0.9614\n",
            "Epoch 43/200\n",
            "161/161 [==============================] - 5s 31ms/step - loss: 0.1229 - accuracy: 0.9622\n",
            "Epoch 44/200\n",
            "161/161 [==============================] - 5s 31ms/step - loss: 0.1220 - accuracy: 0.9661\n",
            "Epoch 45/200\n",
            "161/161 [==============================] - 5s 31ms/step - loss: 0.1308 - accuracy: 0.9624\n",
            "Epoch 46/200\n",
            "161/161 [==============================] - 5s 31ms/step - loss: 0.1056 - accuracy: 0.9702\n",
            "Epoch 47/200\n",
            "161/161 [==============================] - 5s 31ms/step - loss: 0.1310 - accuracy: 0.9630\n",
            "Epoch 48/200\n",
            "161/161 [==============================] - 5s 31ms/step - loss: 0.1113 - accuracy: 0.9661\n",
            "Epoch 49/200\n",
            "161/161 [==============================] - 5s 31ms/step - loss: 0.1043 - accuracy: 0.9692\n",
            "Epoch 50/200\n",
            "161/161 [==============================] - 5s 31ms/step - loss: 0.1137 - accuracy: 0.9661\n",
            "Epoch 51/200\n",
            "161/161 [==============================] - 5s 31ms/step - loss: 0.1075 - accuracy: 0.9666\n",
            "Epoch 52/200\n",
            "161/161 [==============================] - 5s 31ms/step - loss: 0.1048 - accuracy: 0.9692\n",
            "Epoch 53/200\n",
            "161/161 [==============================] - 5s 31ms/step - loss: 0.1000 - accuracy: 0.9692\n",
            "Epoch 54/200\n",
            "161/161 [==============================] - 5s 31ms/step - loss: 0.1043 - accuracy: 0.9679\n",
            "Epoch 55/200\n",
            "161/161 [==============================] - 5s 32ms/step - loss: 0.0958 - accuracy: 0.9718\n",
            "Epoch 56/200\n",
            "161/161 [==============================] - 5s 31ms/step - loss: 0.1136 - accuracy: 0.9681\n",
            "Epoch 57/200\n",
            "161/161 [==============================] - 5s 31ms/step - loss: 0.1078 - accuracy: 0.9697\n",
            "Epoch 58/200\n",
            "161/161 [==============================] - 5s 31ms/step - loss: 0.1031 - accuracy: 0.9694\n",
            "Epoch 59/200\n",
            "161/161 [==============================] - 5s 31ms/step - loss: 0.0887 - accuracy: 0.9723\n",
            "Epoch 60/200\n",
            "161/161 [==============================] - 5s 31ms/step - loss: 0.1111 - accuracy: 0.9648\n",
            "Epoch 61/200\n",
            "161/161 [==============================] - 5s 31ms/step - loss: 0.0889 - accuracy: 0.9718\n",
            "Epoch 62/200\n",
            "161/161 [==============================] - 5s 32ms/step - loss: 0.0950 - accuracy: 0.9684\n",
            "Epoch 63/200\n",
            "161/161 [==============================] - 5s 31ms/step - loss: 0.0938 - accuracy: 0.9710\n",
            "Epoch 64/200\n",
            "161/161 [==============================] - 5s 31ms/step - loss: 0.0921 - accuracy: 0.9707\n",
            "Epoch 65/200\n",
            "161/161 [==============================] - 5s 31ms/step - loss: 0.0862 - accuracy: 0.9759\n",
            "Epoch 66/200\n",
            "161/161 [==============================] - 5s 31ms/step - loss: 0.0943 - accuracy: 0.9725\n",
            "Epoch 67/200\n",
            "161/161 [==============================] - 5s 31ms/step - loss: 0.0831 - accuracy: 0.9759\n",
            "Epoch 68/200\n",
            "161/161 [==============================] - 5s 31ms/step - loss: 0.0893 - accuracy: 0.9723\n",
            "Epoch 69/200\n",
            "161/161 [==============================] - 5s 31ms/step - loss: 0.0858 - accuracy: 0.9746\n",
            "Epoch 70/200\n",
            "161/161 [==============================] - 5s 31ms/step - loss: 0.0895 - accuracy: 0.9728\n",
            "Epoch 71/200\n",
            "161/161 [==============================] - 5s 31ms/step - loss: 0.0762 - accuracy: 0.9772\n",
            "Epoch 72/200\n",
            "161/161 [==============================] - 5s 31ms/step - loss: 0.0980 - accuracy: 0.9702\n",
            "Epoch 73/200\n",
            "161/161 [==============================] - 5s 31ms/step - loss: 0.0803 - accuracy: 0.9738\n",
            "Epoch 74/200\n",
            "161/161 [==============================] - 5s 31ms/step - loss: 0.0827 - accuracy: 0.9744\n",
            "Epoch 75/200\n",
            "161/161 [==============================] - 5s 32ms/step - loss: 0.0704 - accuracy: 0.9806\n",
            "Epoch 76/200\n",
            "161/161 [==============================] - 5s 31ms/step - loss: 0.0773 - accuracy: 0.9764\n",
            "Epoch 77/200\n",
            "161/161 [==============================] - 5s 31ms/step - loss: 0.0757 - accuracy: 0.9767\n",
            "Epoch 78/200\n",
            "161/161 [==============================] - 5s 31ms/step - loss: 0.0761 - accuracy: 0.9754\n",
            "Epoch 79/200\n",
            "161/161 [==============================] - 5s 31ms/step - loss: 0.0720 - accuracy: 0.9775\n",
            "Epoch 80/200\n",
            "161/161 [==============================] - 5s 31ms/step - loss: 0.0746 - accuracy: 0.9767\n",
            "Epoch 81/200\n",
            "161/161 [==============================] - 5s 31ms/step - loss: 0.0723 - accuracy: 0.9806\n",
            "Epoch 82/200\n",
            "161/161 [==============================] - 5s 31ms/step - loss: 0.0790 - accuracy: 0.9764\n",
            "Epoch 83/200\n",
            "161/161 [==============================] - 5s 31ms/step - loss: 0.0715 - accuracy: 0.9785\n",
            "Epoch 84/200\n",
            "161/161 [==============================] - 5s 31ms/step - loss: 0.0800 - accuracy: 0.9767\n",
            "Epoch 85/200\n",
            "161/161 [==============================] - 5s 32ms/step - loss: 0.0770 - accuracy: 0.9764\n",
            "Epoch 86/200\n",
            "161/161 [==============================] - 5s 32ms/step - loss: 0.0726 - accuracy: 0.9790\n",
            "Epoch 87/200\n",
            "161/161 [==============================] - 5s 32ms/step - loss: 0.0732 - accuracy: 0.9756\n",
            "Epoch 88/200\n",
            "161/161 [==============================] - 5s 31ms/step - loss: 0.0726 - accuracy: 0.9790\n",
            "Epoch 89/200\n",
            "161/161 [==============================] - 5s 31ms/step - loss: 0.0829 - accuracy: 0.9754\n",
            "Epoch 90/200\n",
            "161/161 [==============================] - 5s 31ms/step - loss: 0.0638 - accuracy: 0.9790\n",
            "Epoch 91/200\n",
            "161/161 [==============================] - 5s 31ms/step - loss: 0.0773 - accuracy: 0.9762\n",
            "Epoch 92/200\n",
            "161/161 [==============================] - 5s 31ms/step - loss: 0.0709 - accuracy: 0.9801\n",
            "Epoch 93/200\n",
            "161/161 [==============================] - 5s 31ms/step - loss: 0.0646 - accuracy: 0.9808\n",
            "Epoch 94/200\n",
            "161/161 [==============================] - 5s 31ms/step - loss: 0.0641 - accuracy: 0.9803\n",
            "Epoch 95/200\n",
            "161/161 [==============================] - 5s 32ms/step - loss: 0.0685 - accuracy: 0.9764\n",
            "Epoch 96/200\n",
            "161/161 [==============================] - 5s 31ms/step - loss: 0.0597 - accuracy: 0.9839\n",
            "Epoch 97/200\n",
            "161/161 [==============================] - 5s 31ms/step - loss: 0.0585 - accuracy: 0.9832\n",
            "Epoch 98/200\n",
            "161/161 [==============================] - 5s 31ms/step - loss: 0.0642 - accuracy: 0.9816\n",
            "Epoch 99/200\n",
            "161/161 [==============================] - 5s 31ms/step - loss: 0.0556 - accuracy: 0.9816\n",
            "Epoch 100/200\n",
            "161/161 [==============================] - 5s 32ms/step - loss: 0.0629 - accuracy: 0.9806\n",
            "Epoch 101/200\n",
            "161/161 [==============================] - 5s 32ms/step - loss: 0.0571 - accuracy: 0.9819\n",
            "Epoch 102/200\n",
            "161/161 [==============================] - 5s 31ms/step - loss: 0.0562 - accuracy: 0.9829\n",
            "Epoch 103/200\n",
            "161/161 [==============================] - 5s 31ms/step - loss: 0.0593 - accuracy: 0.9806\n",
            "Epoch 104/200\n",
            "161/161 [==============================] - 5s 31ms/step - loss: 0.0589 - accuracy: 0.9826\n",
            "Epoch 105/200\n",
            "161/161 [==============================] - 5s 31ms/step - loss: 0.0489 - accuracy: 0.9842\n",
            "Epoch 106/200\n",
            "161/161 [==============================] - 5s 32ms/step - loss: 0.0513 - accuracy: 0.9837\n",
            "Epoch 107/200\n",
            "161/161 [==============================] - 5s 31ms/step - loss: 0.0574 - accuracy: 0.9834\n",
            "Epoch 108/200\n",
            "161/161 [==============================] - 5s 31ms/step - loss: 0.0582 - accuracy: 0.9821\n",
            "Epoch 109/200\n",
            "161/161 [==============================] - 5s 31ms/step - loss: 0.0556 - accuracy: 0.9847\n",
            "Epoch 110/200\n",
            "161/161 [==============================] - 5s 31ms/step - loss: 0.0630 - accuracy: 0.9806\n",
            "Epoch 111/200\n",
            "161/161 [==============================] - 5s 31ms/step - loss: 0.0511 - accuracy: 0.9847\n",
            "Epoch 112/200\n",
            "161/161 [==============================] - 5s 32ms/step - loss: 0.0462 - accuracy: 0.9868\n",
            "Epoch 113/200\n",
            "161/161 [==============================] - 5s 31ms/step - loss: 0.0565 - accuracy: 0.9829\n",
            "Epoch 114/200\n",
            "161/161 [==============================] - 5s 31ms/step - loss: 0.0533 - accuracy: 0.9839\n",
            "Epoch 115/200\n",
            "161/161 [==============================] - 5s 31ms/step - loss: 0.0559 - accuracy: 0.9847\n",
            "Epoch 116/200\n",
            "161/161 [==============================] - 5s 32ms/step - loss: 0.0452 - accuracy: 0.9829\n",
            "Epoch 117/200\n",
            "161/161 [==============================] - 5s 32ms/step - loss: 0.0584 - accuracy: 0.9845\n",
            "Epoch 118/200\n",
            "161/161 [==============================] - 5s 31ms/step - loss: 0.0566 - accuracy: 0.9819\n",
            "Epoch 119/200\n",
            "161/161 [==============================] - 5s 31ms/step - loss: 0.0451 - accuracy: 0.9858\n",
            "Epoch 120/200\n",
            "161/161 [==============================] - 5s 31ms/step - loss: 0.0420 - accuracy: 0.9845\n",
            "Epoch 121/200\n",
            "161/161 [==============================] - 5s 32ms/step - loss: 0.0526 - accuracy: 0.9808\n",
            "Epoch 122/200\n",
            "161/161 [==============================] - 5s 31ms/step - loss: 0.0512 - accuracy: 0.9829\n",
            "Epoch 123/200\n",
            "161/161 [==============================] - 5s 31ms/step - loss: 0.0524 - accuracy: 0.9847\n",
            "Epoch 124/200\n",
            "161/161 [==============================] - 5s 31ms/step - loss: 0.0501 - accuracy: 0.9863\n",
            "Epoch 125/200\n",
            "161/161 [==============================] - 5s 32ms/step - loss: 0.0497 - accuracy: 0.9837\n",
            "Epoch 126/200\n",
            "161/161 [==============================] - 5s 32ms/step - loss: 0.0463 - accuracy: 0.9842\n",
            "Epoch 127/200\n",
            "161/161 [==============================] - 5s 32ms/step - loss: 0.0366 - accuracy: 0.9899\n",
            "Epoch 128/200\n",
            "161/161 [==============================] - 5s 31ms/step - loss: 0.0437 - accuracy: 0.9855\n",
            "Epoch 129/200\n",
            "161/161 [==============================] - 5s 31ms/step - loss: 0.0463 - accuracy: 0.9860\n",
            "Epoch 130/200\n",
            "161/161 [==============================] - 5s 31ms/step - loss: 0.0346 - accuracy: 0.9881\n",
            "Epoch 131/200\n",
            "161/161 [==============================] - 5s 31ms/step - loss: 0.0548 - accuracy: 0.9842\n",
            "Epoch 132/200\n",
            "161/161 [==============================] - 5s 31ms/step - loss: 0.0547 - accuracy: 0.9834\n",
            "Epoch 133/200\n",
            "161/161 [==============================] - 5s 32ms/step - loss: 0.0392 - accuracy: 0.9876\n",
            "Epoch 134/200\n",
            "161/161 [==============================] - 5s 31ms/step - loss: 0.0404 - accuracy: 0.9878\n",
            "Epoch 135/200\n",
            "161/161 [==============================] - 5s 31ms/step - loss: 0.0405 - accuracy: 0.9883\n",
            "Epoch 136/200\n",
            "161/161 [==============================] - 5s 31ms/step - loss: 0.0412 - accuracy: 0.9883\n",
            "Epoch 137/200\n",
            "161/161 [==============================] - 5s 32ms/step - loss: 0.0507 - accuracy: 0.9865\n",
            "Epoch 138/200\n",
            "161/161 [==============================] - 5s 32ms/step - loss: 0.0390 - accuracy: 0.9876\n",
            "Epoch 139/200\n",
            "161/161 [==============================] - 5s 31ms/step - loss: 0.0342 - accuracy: 0.9883\n",
            "Epoch 140/200\n",
            "161/161 [==============================] - 5s 32ms/step - loss: 0.0442 - accuracy: 0.9850\n",
            "Epoch 141/200\n",
            "161/161 [==============================] - 5s 31ms/step - loss: 0.0335 - accuracy: 0.9891\n",
            "Epoch 142/200\n",
            "161/161 [==============================] - 5s 31ms/step - loss: 0.0526 - accuracy: 0.9855\n",
            "Epoch 143/200\n",
            "161/161 [==============================] - 5s 32ms/step - loss: 0.0370 - accuracy: 0.9889\n",
            "Epoch 144/200\n",
            "161/161 [==============================] - 5s 31ms/step - loss: 0.0417 - accuracy: 0.9868\n",
            "Epoch 145/200\n",
            "161/161 [==============================] - 5s 31ms/step - loss: 0.0341 - accuracy: 0.9896\n",
            "Epoch 146/200\n",
            "161/161 [==============================] - 5s 31ms/step - loss: 0.0425 - accuracy: 0.9883\n",
            "Epoch 147/200\n",
            "161/161 [==============================] - 5s 32ms/step - loss: 0.0418 - accuracy: 0.9883\n",
            "Epoch 148/200\n",
            "161/161 [==============================] - 5s 32ms/step - loss: 0.0422 - accuracy: 0.9865\n",
            "Epoch 149/200\n",
            "161/161 [==============================] - 5s 32ms/step - loss: 0.0372 - accuracy: 0.9899\n",
            "Epoch 150/200\n",
            "161/161 [==============================] - 5s 32ms/step - loss: 0.0373 - accuracy: 0.9889\n",
            "Epoch 151/200\n",
            "161/161 [==============================] - 5s 32ms/step - loss: 0.0422 - accuracy: 0.9860\n",
            "Epoch 152/200\n",
            "161/161 [==============================] - 5s 32ms/step - loss: 0.0379 - accuracy: 0.9873\n",
            "Epoch 153/200\n",
            "161/161 [==============================] - 5s 32ms/step - loss: 0.0370 - accuracy: 0.9883\n",
            "Epoch 154/200\n",
            "161/161 [==============================] - 5s 32ms/step - loss: 0.0296 - accuracy: 0.9912\n",
            "Epoch 155/200\n",
            "161/161 [==============================] - 5s 31ms/step - loss: 0.0376 - accuracy: 0.9886\n",
            "Epoch 156/200\n",
            "161/161 [==============================] - 5s 32ms/step - loss: 0.0286 - accuracy: 0.9912\n",
            "Epoch 157/200\n",
            "161/161 [==============================] - 5s 31ms/step - loss: 0.0352 - accuracy: 0.9873\n",
            "Epoch 158/200\n",
            "161/161 [==============================] - 5s 32ms/step - loss: 0.0371 - accuracy: 0.9886\n",
            "Epoch 159/200\n",
            "161/161 [==============================] - 5s 31ms/step - loss: 0.0357 - accuracy: 0.9881\n",
            "Epoch 160/200\n",
            "161/161 [==============================] - 5s 32ms/step - loss: 0.0336 - accuracy: 0.9909\n",
            "Epoch 161/200\n",
            "161/161 [==============================] - 5s 32ms/step - loss: 0.0350 - accuracy: 0.9891\n",
            "Epoch 162/200\n",
            "161/161 [==============================] - 5s 32ms/step - loss: 0.0287 - accuracy: 0.9889\n",
            "Epoch 163/200\n",
            "161/161 [==============================] - 5s 31ms/step - loss: 0.0302 - accuracy: 0.9899\n",
            "Epoch 164/200\n",
            "161/161 [==============================] - 5s 31ms/step - loss: 0.0342 - accuracy: 0.9894\n",
            "Epoch 165/200\n",
            "161/161 [==============================] - 5s 32ms/step - loss: 0.0385 - accuracy: 0.9876\n",
            "Epoch 166/200\n",
            "161/161 [==============================] - 5s 31ms/step - loss: 0.0262 - accuracy: 0.9917\n",
            "Epoch 167/200\n",
            "161/161 [==============================] - 5s 31ms/step - loss: 0.0357 - accuracy: 0.9883\n",
            "Epoch 168/200\n",
            "161/161 [==============================] - 5s 31ms/step - loss: 0.0435 - accuracy: 0.9876\n",
            "Epoch 169/200\n",
            "161/161 [==============================] - 5s 32ms/step - loss: 0.0240 - accuracy: 0.9922\n",
            "Epoch 170/200\n",
            "161/161 [==============================] - 5s 31ms/step - loss: 0.0426 - accuracy: 0.9863\n",
            "Epoch 171/200\n",
            "161/161 [==============================] - 5s 31ms/step - loss: 0.0240 - accuracy: 0.9933\n",
            "Epoch 172/200\n",
            "161/161 [==============================] - 5s 31ms/step - loss: 0.0266 - accuracy: 0.9909\n",
            "Epoch 173/200\n",
            "161/161 [==============================] - 5s 32ms/step - loss: 0.0322 - accuracy: 0.9909\n",
            "Epoch 174/200\n",
            "161/161 [==============================] - 5s 32ms/step - loss: 0.0260 - accuracy: 0.9943\n",
            "Epoch 175/200\n",
            "161/161 [==============================] - 5s 32ms/step - loss: 0.0300 - accuracy: 0.9896\n",
            "Epoch 176/200\n",
            "161/161 [==============================] - 5s 32ms/step - loss: 0.0287 - accuracy: 0.9915\n",
            "Epoch 177/200\n",
            "161/161 [==============================] - 5s 32ms/step - loss: 0.0384 - accuracy: 0.9870\n",
            "Epoch 178/200\n",
            "161/161 [==============================] - 5s 32ms/step - loss: 0.0343 - accuracy: 0.9883\n",
            "Epoch 179/200\n",
            "161/161 [==============================] - 5s 32ms/step - loss: 0.0325 - accuracy: 0.9904\n",
            "Epoch 180/200\n",
            "161/161 [==============================] - 5s 32ms/step - loss: 0.0239 - accuracy: 0.9920\n",
            "Epoch 181/200\n",
            "161/161 [==============================] - 5s 32ms/step - loss: 0.0262 - accuracy: 0.9925\n",
            "Epoch 182/200\n",
            "161/161 [==============================] - 5s 31ms/step - loss: 0.0312 - accuracy: 0.9896\n",
            "Epoch 183/200\n",
            "161/161 [==============================] - 5s 32ms/step - loss: 0.0333 - accuracy: 0.9902\n",
            "Epoch 184/200\n",
            "161/161 [==============================] - 5s 31ms/step - loss: 0.0292 - accuracy: 0.9891\n",
            "Epoch 185/200\n",
            "161/161 [==============================] - 5s 31ms/step - loss: 0.0354 - accuracy: 0.9899\n",
            "Epoch 186/200\n",
            "161/161 [==============================] - 5s 32ms/step - loss: 0.0322 - accuracy: 0.9896\n",
            "Epoch 187/200\n",
            "161/161 [==============================] - 5s 31ms/step - loss: 0.0293 - accuracy: 0.9907\n",
            "Epoch 188/200\n",
            "161/161 [==============================] - 5s 32ms/step - loss: 0.0218 - accuracy: 0.9943\n",
            "Epoch 189/200\n",
            "161/161 [==============================] - 5s 32ms/step - loss: 0.0273 - accuracy: 0.9915\n",
            "Epoch 190/200\n",
            "161/161 [==============================] - 5s 32ms/step - loss: 0.0203 - accuracy: 0.9933\n",
            "Epoch 191/200\n",
            "161/161 [==============================] - 5s 32ms/step - loss: 0.0254 - accuracy: 0.9915\n",
            "Epoch 192/200\n",
            "161/161 [==============================] - 5s 32ms/step - loss: 0.0247 - accuracy: 0.9927\n",
            "Epoch 193/200\n",
            "161/161 [==============================] - 5s 32ms/step - loss: 0.0282 - accuracy: 0.9894\n",
            "Epoch 194/200\n",
            "161/161 [==============================] - 5s 32ms/step - loss: 0.0233 - accuracy: 0.9927\n",
            "Epoch 195/200\n",
            "161/161 [==============================] - 5s 31ms/step - loss: 0.0364 - accuracy: 0.9878\n",
            "Epoch 196/200\n",
            "161/161 [==============================] - 5s 31ms/step - loss: 0.0286 - accuracy: 0.9912\n",
            "Epoch 197/200\n",
            "161/161 [==============================] - 5s 32ms/step - loss: 0.0258 - accuracy: 0.9909\n",
            "Epoch 198/200\n",
            "161/161 [==============================] - 5s 32ms/step - loss: 0.0324 - accuracy: 0.9899\n",
            "Epoch 199/200\n",
            "161/161 [==============================] - 5s 31ms/step - loss: 0.0302 - accuracy: 0.9917\n",
            "Epoch 200/200\n",
            "161/161 [==============================] - 5s 32ms/step - loss: 0.0267 - accuracy: 0.9915\n"
          ],
          "name": "stdout"
        }
      ]
    },
    {
      "cell_type": "code",
      "metadata": {
        "id": "integrated-optimization",
        "colab": {
          "base_uri": "https://localhost:8080/"
        },
        "outputId": "6ae11f20-b0ff-4303-8a6a-40d645701204"
      },
      "source": [
        "model.save(dir_path + 'Models/gestures_bidir', save_format='tf')"
      ],
      "id": "integrated-optimization",
      "execution_count": 23,
      "outputs": [
        {
          "output_type": "stream",
          "text": [
            "WARNING:absl:Found untraced functions such as lstm_cell_7_layer_call_and_return_conditional_losses, lstm_cell_7_layer_call_fn, lstm_cell_8_layer_call_and_return_conditional_losses, lstm_cell_8_layer_call_fn, lstm_cell_10_layer_call_and_return_conditional_losses while saving (showing 5 of 20). These functions will not be directly callable after loading.\n"
          ],
          "name": "stderr"
        },
        {
          "output_type": "stream",
          "text": [
            "INFO:tensorflow:Assets written to: ./drive/MyDrive/BAKA/Models/gestures_bidir/assets\n"
          ],
          "name": "stdout"
        },
        {
          "output_type": "stream",
          "text": [
            "INFO:tensorflow:Assets written to: ./drive/MyDrive/BAKA/Models/gestures_bidir/assets\n"
          ],
          "name": "stderr"
        }
      ]
    },
    {
      "cell_type": "code",
      "metadata": {
        "id": "faWZ2lOQ09Dj",
        "colab": {
          "base_uri": "https://localhost:8080/"
        },
        "outputId": "67526136-0545-4a39-b580-a0f4a275bc3a"
      },
      "source": [
        "min_max_scaler.data_min_"
      ],
      "id": "faWZ2lOQ09Dj",
      "execution_count": 24,
      "outputs": [
        {
          "output_type": "execute_result",
          "data": {
            "text/plain": [
              "array([   0.    ,    0.    ,    0.    ,    0.    ,    0.    ,    0.    ,\n",
              "          0.    ,    0.    ,    0.    ,    0.    , -693.223 ,  -12.7777,\n",
              "       -612.731 , -680.146 ,    0.    , -584.665 , -668.353 ,    0.    ,\n",
              "       -569.33  , -649.613 ,    0.    , -597.032 , -675.481 ,    0.    ,\n",
              "       -590.976 , -662.551 ,    0.    , -574.437 ,    0.    ,    0.    ,\n",
              "          0.    ])"
            ]
          },
          "metadata": {
            "tags": []
          },
          "execution_count": 24
        }
      ]
    },
    {
      "cell_type": "code",
      "metadata": {
        "id": "qLaXSPfzPA8k",
        "colab": {
          "base_uri": "https://localhost:8080/"
        },
        "outputId": "c5617768-5bb9-493b-bcf8-4933f4a918a8"
      },
      "source": [
        "min_max_scaler.data_max_"
      ],
      "id": "qLaXSPfzPA8k",
      "execution_count": 25,
      "outputs": [
        {
          "output_type": "execute_result",
          "data": {
            "text/plain": [
              "array([ 180.   ,  180.   ,  180.   ,  179.999,  179.997,  180.   ,\n",
              "        179.988,  180.   ,  179.989,  179.96 ,  539.053, 1036.65 ,\n",
              "        720.07 ,  581.654, 1090.93 ,  709.384,  585.01 , 1068.79 ,\n",
              "        705.543,  567.779, 1056.79 ,  702.861,  544.45 , 1061.02 ,\n",
              "        693.173,  499.893, 1008.3  ,  707.228,  145.94 ,  161.082,\n",
              "        146.668])"
            ]
          },
          "metadata": {
            "tags": []
          },
          "execution_count": 25
        }
      ]
    },
    {
      "cell_type": "code",
      "metadata": {
        "id": "NOWq0Fev1RI-",
        "colab": {
          "base_uri": "https://localhost:8080/"
        },
        "outputId": "b46a06f6-86a5-48e1-966f-c6684517f7c9"
      },
      "source": [
        "model.input"
      ],
      "id": "NOWq0Fev1RI-",
      "execution_count": 26,
      "outputs": [
        {
          "output_type": "execute_result",
          "data": {
            "text/plain": [
              "<KerasTensor: shape=(None, 60, 31) dtype=float64 (created by layer 'bidirectional_2_input')>"
            ]
          },
          "metadata": {
            "tags": []
          },
          "execution_count": 26
        }
      ]
    },
    {
      "cell_type": "code",
      "metadata": {
        "id": "FhIACF0-aQgh"
      },
      "source": [
        ""
      ],
      "id": "FhIACF0-aQgh",
      "execution_count": 26,
      "outputs": []
    }
  ]
}