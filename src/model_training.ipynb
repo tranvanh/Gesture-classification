{
  "nbformat": 4,
  "nbformat_minor": 5,
  "metadata": {
    "accelerator": "GPU",
    "colab": {
      "name": "feature_computation.ipynb",
      "provenance": []
    },
    "kernelspec": {
      "display_name": "Python 3",
      "language": "python",
      "name": "python3"
    },
    "language_info": {
      "codemirror_mode": {
        "name": "ipython",
        "version": 3
      },
      "file_extension": ".py",
      "mimetype": "text/x-python",
      "name": "python",
      "nbconvert_exporter": "python",
      "pygments_lexer": "ipython3",
      "version": "3.8.8"
    }
  },
  "cells": [
    {
      "cell_type": "markdown",
      "metadata": {
        "id": "geological-matrix"
      },
      "source": [
        "# Imports and initialization"
      ],
      "id": "geological-matrix"
    },
    {
      "cell_type": "code",
      "metadata": {
        "id": "caring-species"
      },
      "source": [
        "import pandas as pd\n",
        "import numpy as np\n",
        "import os\n",
        "import math\n",
        "import tensorflow as tf\n",
        "from tensorflow.keras.models import Sequential, Model, load_model\n",
        "from tensorflow.keras.layers import Dense, Dropout, LSTM, BatchNormalization, Bidirectional\n",
        "from sklearn.utils import shuffle\n",
        "from sklearn.preprocessing import MinMaxScaler, StandardScaler\n",
        "physical_devices = tf.config.list_physical_devices('GPU')\n",
        "tf.config.experimental.set_memory_growth(physical_devices[0], enable=True)"
      ],
      "id": "caring-species",
      "execution_count": 1,
      "outputs": []
    },
    {
      "cell_type": "markdown",
      "metadata": {
        "id": "uniform-stream"
      },
      "source": [
        "Choose one of the two below cells depending on the environment."
      ],
      "id": "uniform-stream"
    },
    {
      "cell_type": "code",
      "metadata": {
        "id": "continuous-johnston"
      },
      "source": [
        "# dir_path = './' #uncomment if in local environment"
      ],
      "id": "continuous-johnston",
      "execution_count": 2,
      "outputs": []
    },
    {
      "cell_type": "code",
      "metadata": {
        "colab": {
          "base_uri": "https://localhost:8080/"
        },
        "id": "KstfPbJfzIAV",
        "outputId": "28eec067-98fd-4e4c-f57a-00b69f128ee7"
      },
      "source": [
        "#uncomment in google colab environment\n",
        "from google.colab import drive\n",
        "drive.mount('/content/drive') #path to root directory in Drive\n",
        "dir_path = './drive/MyDrive/BAKA/' #colab\n",
        "df = pd.read_csv(dir_path + 'DataCollection' + '/' + '1' + '/' + '0.txt', header=None, sep=' ')\n",
        "if len(df.columns) > 31:\n",
        "  df = df.drop(columns=[31])"
      ],
      "id": "KstfPbJfzIAV",
      "execution_count": 3,
      "outputs": [
        {
          "output_type": "stream",
          "text": [
            "Mounted at /content/drive\n"
          ],
          "name": "stdout"
        }
      ]
    },
    {
      "cell_type": "code",
      "metadata": {
        "colab": {
          "base_uri": "https://localhost:8080/"
        },
        "id": "signal-friendly",
        "outputId": "a69b22b6-a397-45b7-8708-ac464ed5b422"
      },
      "source": [
        "files = os.listdir(dir_path + 'DataCollection')\n",
        "files"
      ],
      "id": "signal-friendly",
      "execution_count": 4,
      "outputs": [
        {
          "output_type": "execute_result",
          "data": {
            "text/plain": [
              "['4', '7', '8', '0', '5', '2', '3', '6', '1']"
            ]
          },
          "metadata": {
            "tags": []
          },
          "execution_count": 4
        }
      ]
    },
    {
      "cell_type": "markdown",
      "metadata": {
        "id": "packed-staff"
      },
      "source": [
        "# Dataset Split\n",
        "Split samples into Test sets and Training sets <br>\n",
        "Use 20% of available samples for Testing and the remaining for Training"
      ],
      "id": "packed-staff"
    },
    {
      "cell_type": "code",
      "metadata": {
        "colab": {
          "base_uri": "https://localhost:8080/"
        },
        "id": "annoying-rotation",
        "outputId": "763cafbf-ae5f-4306-e24c-50c86820ecc9"
      },
      "source": [
        "x_train = [];\n",
        "y_train = [];\n",
        "\n",
        "x_test = [];\n",
        "y_test = [];\n",
        "for i in files:\n",
        "    samples = os.listdir(dir_path + 'DataCollection' + '/' + i)\n",
        "    # num_tests = int(len(samples)/5);\n",
        "    num_tests = len(samples);\n",
        "    shuffle(samples, random_state = 0)\n",
        "    # for k in range(0, num_tests):\n",
        "    #     df = pd.read_csv(dir_path + 'DataCollection' + '/' + i + '/' + samples[k], header=None, sep=' ')\n",
        "    #     df = df.drop(df.index[60:])\n",
        "    #     if len(df.columns) > 31:\n",
        "    #       df = df.drop(columns=[31])\n",
        "    #     if df.isnull().values.any():\n",
        "    #       print(i, \" \", samples[k])\n",
        "    #     x_test.append(df.to_numpy())\n",
        "    #     y_test.append(int(i));\n",
        "    \n",
        "    for k in range(0, num_tests):\n",
        "        df = pd.read_csv(dir_path + 'DataCollection' + '/' + i + '/' + samples[k], header=None, sep=' ')\n",
        "        df = df.drop(df.index[60:])\n",
        "        if len(df.columns) > 31:\n",
        "          df = df.drop(columns=[31])\n",
        "        if df.isnull().values.any():\n",
        "          print(i, \" \", samples[k])\n",
        "        x_train.append(df.to_numpy())\n",
        "        y_train.append(int(i));\n",
        "    \n",
        "    print(len(samples), ' ', num_tests, ' ', len(samples)- num_tests)\n",
        "x_train = np.array(x_train)\n",
        "y_train = np.array(y_train);\n",
        "\n",
        "# x_test = np.array(x_test)\n",
        "# y_test = np.array(y_test)\n",
        "print(\"x_train.shape: \", x_train.shape)\n",
        "print(\"y_train.shiape: \", y_train.shape)\n",
        "# print(\"x_test.shape: \", x_test.shape)\n",
        "# print(\"y_test.shape: \", y_test.shape)\n"
      ],
      "id": "annoying-rotation",
      "execution_count": 5,
      "outputs": [
        {
          "output_type": "stream",
          "text": [
            "204   204   0\n",
            "264   264   0\n",
            "233   233   0\n",
            "253   253   0\n",
            "254   254   0\n",
            "320   320   0\n",
            "285   285   0\n",
            "266   266   0\n",
            "319   319   0\n",
            "x_train.shape:  (2398, 60, 31)\n",
            "y_train.shiape:  (2398,)\n"
          ],
          "name": "stdout"
        }
      ]
    },
    {
      "cell_type": "code",
      "metadata": {
        "id": "orange-character",
        "outputId": "24d01841-b1e3-40e6-b284-e74037fc5d99",
        "colab": {
          "base_uri": "https://localhost:8080/"
        }
      },
      "source": [
        "print(\"x_train.shape: \", x_train.shape)\n",
        "print(\"y_train.shiape: \", y_train.shape)\n",
        "# print(\"x_test.shape: \", x_test.shape)\n",
        "# print(\"y_test.shape: \", y_test.shape)\n",
        "\n"
      ],
      "id": "orange-character",
      "execution_count": 6,
      "outputs": [
        {
          "output_type": "stream",
          "text": [
            "x_train.shape:  (2398, 60, 31)\n",
            "y_train.shiape:  (2398,)\n"
          ],
          "name": "stdout"
        }
      ]
    },
    {
      "cell_type": "markdown",
      "metadata": {
        "id": "choice-dollar"
      },
      "source": [
        "### Scaling and feature labels\n",
        "Apply min-max scaling technique and relable features corresponding to the description in bachelor thesis's text"
      ],
      "id": "choice-dollar"
    },
    {
      "cell_type": "code",
      "metadata": {
        "id": "sensitive-cheat"
      },
      "source": [
        "def scale_data(data, min_max_scaler):\n",
        "    for i in range(len(data)):\n",
        "        data[i] = min_max_scaler.transform(data[i])\n",
        "    return data"
      ],
      "id": "sensitive-cheat",
      "execution_count": 7,
      "outputs": []
    },
    {
      "cell_type": "markdown",
      "metadata": {
        "id": "ancient-freight"
      },
      "source": [
        "Form preprocessed datasets to corresponding shapes as well as shuffle samples"
      ],
      "id": "ancient-freight"
    },
    {
      "cell_type": "code",
      "metadata": {
        "id": "broke-sailing"
      },
      "source": [
        "min_max_scaler = MinMaxScaler(feature_range=(0,1))\n",
        "\n",
        "num_instances, num_time_steps, num_features = x_train.shape\n",
        "x_train = np.reshape(x_train, newshape=(-1, num_features))\n",
        "x_train = min_max_scaler.fit_transform(x_train)\n",
        "x_train = np.reshape(x_train, newshape=(num_instances, num_time_steps, num_features))\n",
        "\n",
        "x_train, y_train = shuffle(x_train, y_train, random_state=0)\n",
        "\n",
        "# num_instances, num_time_steps, num_features = x_test.shape\n",
        "# x_test = np.reshape(x_test, newshape=(-1, num_features))\n",
        "# x_test = min_max_scaler.transform(x_test)\n",
        "# x_test = np.reshape(x_test, newshape=(num_instances, num_time_steps, num_features))\n",
        "\n",
        "# x_test, y_test = shuffle(x_test, y_test, random_state=0)\n"
      ],
      "id": "broke-sailing",
      "execution_count": 8,
      "outputs": []
    },
    {
      "cell_type": "code",
      "metadata": {
        "id": "discrete-kansas",
        "outputId": "1ca0538c-fe9e-44b3-d72f-79badc2d09bf",
        "colab": {
          "base_uri": "https://localhost:8080/"
        }
      },
      "source": [
        "print(\"x_train.shape: \", x_train.shape)\n",
        "print(\"y_train.shiape: \", y_train.shape)\n",
        "# print(\"x_test.shape: \", x_test.shape)\n",
        "# print(\"y_test.shape: \", y_test.shape)"
      ],
      "id": "discrete-kansas",
      "execution_count": 9,
      "outputs": [
        {
          "output_type": "stream",
          "text": [
            "x_train.shape:  (2398, 60, 31)\n",
            "y_train.shiape:  (2398,)\n"
          ],
          "name": "stdout"
        }
      ]
    },
    {
      "cell_type": "markdown",
      "metadata": {
        "id": "first-decrease"
      },
      "source": [
        "# Model definition\n",
        "\n",
        "Define Two-layered bidirectional LSTM<br>\n",
        "Each layer consists of `Bidirectional(LSTM)` cell with addition of `Dropout()` and `BatchNormalization()` to minimize overfitting and decrease learning time"
      ],
      "id": "first-decrease"
    },
    {
      "cell_type": "code",
      "metadata": {
        "id": "lhabYU0vjbLQ",
        "outputId": "bcdabcb4-86cf-4879-a008-188967cf20f3",
        "colab": {
          "base_uri": "https://localhost:8080/"
        }
      },
      "source": [
        "model = Sequential()\n",
        "model.add(Bidirectional(LSTM(units=60, return_sequences=True ,dtype='float64'),input_shape=x_train.shape[1:],dtype='float64'))\n",
        "model.add(BatchNormalization())\n",
        "model.add(Dropout(0.6))\n",
        "\n",
        "model.add(Bidirectional(LSTM(units=60 ,dtype='float64') ,dtype='float64'))\n",
        "model.add(BatchNormalization())\n",
        "model.add(Dropout(0.6))\n",
        "\n",
        "model.add(Dense(len(files), activation='softmax',dtype='float64'))\n",
        "model.summary()"
      ],
      "id": "lhabYU0vjbLQ",
      "execution_count": 10,
      "outputs": [
        {
          "output_type": "stream",
          "text": [
            "Model: \"sequential\"\n",
            "_________________________________________________________________\n",
            "Layer (type)                 Output Shape              Param #   \n",
            "=================================================================\n",
            "bidirectional (Bidirectional (None, 60, 120)           44160     \n",
            "_________________________________________________________________\n",
            "batch_normalization (BatchNo (None, 60, 120)           480       \n",
            "_________________________________________________________________\n",
            "dropout (Dropout)            (None, 60, 120)           0         \n",
            "_________________________________________________________________\n",
            "bidirectional_1 (Bidirection (None, 120)               86880     \n",
            "_________________________________________________________________\n",
            "batch_normalization_1 (Batch (None, 120)               480       \n",
            "_________________________________________________________________\n",
            "dropout_1 (Dropout)          (None, 120)               0         \n",
            "_________________________________________________________________\n",
            "dense (Dense)                (None, 9)                 1089      \n",
            "=================================================================\n",
            "Total params: 133,089\n",
            "Trainable params: 132,609\n",
            "Non-trainable params: 480\n",
            "_________________________________________________________________\n"
          ],
          "name": "stdout"
        }
      ]
    },
    {
      "cell_type": "markdown",
      "metadata": {
        "id": "senior-madrid"
      },
      "source": [
        "# Training\n",
        "\n",
        "Model training using 200 epochs <br>\n",
        "Marking checkpoints(models with best `val_accuracy`) to `./Checkpoints` directory"
      ],
      "id": "senior-madrid"
    },
    {
      "cell_type": "code",
      "metadata": {
        "id": "after-sperm",
        "outputId": "7570ad5f-6990-420a-cfdd-18317642a58c",
        "colab": {
          "base_uri": "https://localhost:8080/"
        }
      },
      "source": [
        "opt = tf.keras.optimizers.Adam(lr=0.0001, decay=1e-5)\n",
        "\n",
        "checkpoint_filepath = dir_path + 'Checkpoints/'\n",
        "model_checkpoint_callback = tf.keras.callbacks.ModelCheckpoint(\n",
        "    filepath=checkpoint_filepath,\n",
        "    save_weights_only=True,\n",
        "    monitor='val_accuracy',\n",
        "    mode='max',\n",
        "    save_best_only=True)\n",
        "\n",
        "model.compile(\n",
        "    loss='sparse_categorical_crossentropy',\n",
        "    optimizer=opt,\n",
        "    metrics=['accuracy'],\n",
        ")\n",
        "\n",
        "\n",
        "gestures = model.fit(x = x_train,\n",
        "            y = y_train,\n",
        "            epochs=200,\n",
        "            # validation_split=0.1, #split 10% of the trainning set for the validation set,\n",
        "            batch_size=24,\n",
        "            # callbacks=[model_checkpoint_callback],\n",
        "            shuffle=True\n",
        "         )"
      ],
      "id": "after-sperm",
      "execution_count": 11,
      "outputs": [
        {
          "output_type": "stream",
          "text": [
            "Epoch 1/200\n"
          ],
          "name": "stdout"
        },
        {
          "output_type": "stream",
          "text": [
            "/usr/local/lib/python3.7/dist-packages/tensorflow/python/keras/optimizer_v2/optimizer_v2.py:375: UserWarning: The `lr` argument is deprecated, use `learning_rate` instead.\n",
            "  \"The `lr` argument is deprecated, use `learning_rate` instead.\")\n"
          ],
          "name": "stderr"
        },
        {
          "output_type": "stream",
          "text": [
            "100/100 [==============================] - 12s 31ms/step - loss: 2.7918 - accuracy: 0.2485\n",
            "WARNING:tensorflow:Can save best model only with val_accuracy available, skipping.\n",
            "Epoch 2/200\n",
            "100/100 [==============================] - 3s 31ms/step - loss: 1.6265 - accuracy: 0.4808\n",
            "WARNING:tensorflow:Can save best model only with val_accuracy available, skipping.\n",
            "Epoch 3/200\n",
            "100/100 [==============================] - 3s 31ms/step - loss: 1.0652 - accuracy: 0.6472\n",
            "WARNING:tensorflow:Can save best model only with val_accuracy available, skipping.\n",
            "Epoch 4/200\n",
            "100/100 [==============================] - 3s 31ms/step - loss: 0.7547 - accuracy: 0.7402\n",
            "WARNING:tensorflow:Can save best model only with val_accuracy available, skipping.\n",
            "Epoch 5/200\n",
            "100/100 [==============================] - 3s 31ms/step - loss: 0.5592 - accuracy: 0.8161\n",
            "WARNING:tensorflow:Can save best model only with val_accuracy available, skipping.\n",
            "Epoch 6/200\n",
            "100/100 [==============================] - 3s 31ms/step - loss: 0.4683 - accuracy: 0.8336\n",
            "WARNING:tensorflow:Can save best model only with val_accuracy available, skipping.\n",
            "Epoch 7/200\n",
            "100/100 [==============================] - 3s 32ms/step - loss: 0.3784 - accuracy: 0.8778\n",
            "WARNING:tensorflow:Can save best model only with val_accuracy available, skipping.\n",
            "Epoch 8/200\n",
            "100/100 [==============================] - 3s 31ms/step - loss: 0.3313 - accuracy: 0.8907\n",
            "WARNING:tensorflow:Can save best model only with val_accuracy available, skipping.\n",
            "Epoch 9/200\n",
            "100/100 [==============================] - 3s 31ms/step - loss: 0.2780 - accuracy: 0.9091\n",
            "WARNING:tensorflow:Can save best model only with val_accuracy available, skipping.\n",
            "Epoch 10/200\n",
            "100/100 [==============================] - 3s 31ms/step - loss: 0.2496 - accuracy: 0.9183\n",
            "WARNING:tensorflow:Can save best model only with val_accuracy available, skipping.\n",
            "Epoch 11/200\n",
            "100/100 [==============================] - 3s 31ms/step - loss: 0.2296 - accuracy: 0.9270\n",
            "WARNING:tensorflow:Can save best model only with val_accuracy available, skipping.\n",
            "Epoch 12/200\n",
            "100/100 [==============================] - 3s 31ms/step - loss: 0.2158 - accuracy: 0.9354\n",
            "WARNING:tensorflow:Can save best model only with val_accuracy available, skipping.\n",
            "Epoch 13/200\n",
            "100/100 [==============================] - 3s 31ms/step - loss: 0.1951 - accuracy: 0.9395\n",
            "WARNING:tensorflow:Can save best model only with val_accuracy available, skipping.\n",
            "Epoch 14/200\n",
            "100/100 [==============================] - 3s 31ms/step - loss: 0.1730 - accuracy: 0.9500\n",
            "WARNING:tensorflow:Can save best model only with val_accuracy available, skipping.\n",
            "Epoch 15/200\n",
            "100/100 [==============================] - 3s 31ms/step - loss: 0.1605 - accuracy: 0.9512\n",
            "WARNING:tensorflow:Can save best model only with val_accuracy available, skipping.\n",
            "Epoch 16/200\n",
            "100/100 [==============================] - 3s 31ms/step - loss: 0.1568 - accuracy: 0.9541\n",
            "WARNING:tensorflow:Can save best model only with val_accuracy available, skipping.\n",
            "Epoch 17/200\n",
            "100/100 [==============================] - 3s 31ms/step - loss: 0.1596 - accuracy: 0.9520\n",
            "WARNING:tensorflow:Can save best model only with val_accuracy available, skipping.\n",
            "Epoch 18/200\n",
            "100/100 [==============================] - 3s 31ms/step - loss: 0.1383 - accuracy: 0.9562\n",
            "WARNING:tensorflow:Can save best model only with val_accuracy available, skipping.\n",
            "Epoch 19/200\n",
            "100/100 [==============================] - 3s 31ms/step - loss: 0.1371 - accuracy: 0.9629\n",
            "WARNING:tensorflow:Can save best model only with val_accuracy available, skipping.\n",
            "Epoch 20/200\n",
            "100/100 [==============================] - 3s 31ms/step - loss: 0.1455 - accuracy: 0.9591\n",
            "WARNING:tensorflow:Can save best model only with val_accuracy available, skipping.\n",
            "Epoch 21/200\n",
            "100/100 [==============================] - 3s 31ms/step - loss: 0.1183 - accuracy: 0.9687\n",
            "WARNING:tensorflow:Can save best model only with val_accuracy available, skipping.\n",
            "Epoch 22/200\n",
            "100/100 [==============================] - 3s 31ms/step - loss: 0.1117 - accuracy: 0.9696\n",
            "WARNING:tensorflow:Can save best model only with val_accuracy available, skipping.\n",
            "Epoch 23/200\n",
            "100/100 [==============================] - 3s 31ms/step - loss: 0.1326 - accuracy: 0.9658\n",
            "WARNING:tensorflow:Can save best model only with val_accuracy available, skipping.\n",
            "Epoch 24/200\n",
            "100/100 [==============================] - 3s 31ms/step - loss: 0.1130 - accuracy: 0.9691\n",
            "WARNING:tensorflow:Can save best model only with val_accuracy available, skipping.\n",
            "Epoch 25/200\n",
            "100/100 [==============================] - 3s 31ms/step - loss: 0.1221 - accuracy: 0.9633\n",
            "WARNING:tensorflow:Can save best model only with val_accuracy available, skipping.\n",
            "Epoch 26/200\n",
            "100/100 [==============================] - 3s 31ms/step - loss: 0.1122 - accuracy: 0.9704\n",
            "WARNING:tensorflow:Can save best model only with val_accuracy available, skipping.\n",
            "Epoch 27/200\n",
            "100/100 [==============================] - 3s 31ms/step - loss: 0.1028 - accuracy: 0.9666\n",
            "WARNING:tensorflow:Can save best model only with val_accuracy available, skipping.\n",
            "Epoch 28/200\n",
            "100/100 [==============================] - 3s 31ms/step - loss: 0.1045 - accuracy: 0.9758\n",
            "WARNING:tensorflow:Can save best model only with val_accuracy available, skipping.\n",
            "Epoch 29/200\n",
            "100/100 [==============================] - 3s 31ms/step - loss: 0.0958 - accuracy: 0.9733\n",
            "WARNING:tensorflow:Can save best model only with val_accuracy available, skipping.\n",
            "Epoch 30/200\n",
            "100/100 [==============================] - 3s 31ms/step - loss: 0.1113 - accuracy: 0.9721\n",
            "WARNING:tensorflow:Can save best model only with val_accuracy available, skipping.\n",
            "Epoch 31/200\n",
            "100/100 [==============================] - 3s 31ms/step - loss: 0.0928 - accuracy: 0.9750\n",
            "WARNING:tensorflow:Can save best model only with val_accuracy available, skipping.\n",
            "Epoch 32/200\n",
            "100/100 [==============================] - 3s 31ms/step - loss: 0.1125 - accuracy: 0.9704\n",
            "WARNING:tensorflow:Can save best model only with val_accuracy available, skipping.\n",
            "Epoch 33/200\n",
            "100/100 [==============================] - 3s 32ms/step - loss: 0.0918 - accuracy: 0.9746\n",
            "WARNING:tensorflow:Can save best model only with val_accuracy available, skipping.\n",
            "Epoch 34/200\n",
            "100/100 [==============================] - 3s 31ms/step - loss: 0.0954 - accuracy: 0.9775\n",
            "WARNING:tensorflow:Can save best model only with val_accuracy available, skipping.\n",
            "Epoch 35/200\n",
            "100/100 [==============================] - 3s 32ms/step - loss: 0.0866 - accuracy: 0.9758\n",
            "WARNING:tensorflow:Can save best model only with val_accuracy available, skipping.\n",
            "Epoch 36/200\n",
            "100/100 [==============================] - 3s 32ms/step - loss: 0.0897 - accuracy: 0.9729\n",
            "WARNING:tensorflow:Can save best model only with val_accuracy available, skipping.\n",
            "Epoch 37/200\n",
            "100/100 [==============================] - 3s 31ms/step - loss: 0.0807 - accuracy: 0.9804\n",
            "WARNING:tensorflow:Can save best model only with val_accuracy available, skipping.\n",
            "Epoch 38/200\n",
            "100/100 [==============================] - 3s 32ms/step - loss: 0.0697 - accuracy: 0.9800\n",
            "WARNING:tensorflow:Can save best model only with val_accuracy available, skipping.\n",
            "Epoch 39/200\n",
            "100/100 [==============================] - 3s 31ms/step - loss: 0.0763 - accuracy: 0.9779\n",
            "WARNING:tensorflow:Can save best model only with val_accuracy available, skipping.\n",
            "Epoch 40/200\n",
            "100/100 [==============================] - 3s 31ms/step - loss: 0.0782 - accuracy: 0.9796\n",
            "WARNING:tensorflow:Can save best model only with val_accuracy available, skipping.\n",
            "Epoch 41/200\n",
            "100/100 [==============================] - 3s 31ms/step - loss: 0.0840 - accuracy: 0.9783\n",
            "WARNING:tensorflow:Can save best model only with val_accuracy available, skipping.\n",
            "Epoch 42/200\n",
            "100/100 [==============================] - 3s 31ms/step - loss: 0.0755 - accuracy: 0.9787\n",
            "WARNING:tensorflow:Can save best model only with val_accuracy available, skipping.\n",
            "Epoch 43/200\n",
            "100/100 [==============================] - 3s 31ms/step - loss: 0.0660 - accuracy: 0.9817\n",
            "WARNING:tensorflow:Can save best model only with val_accuracy available, skipping.\n",
            "Epoch 44/200\n",
            "100/100 [==============================] - 3s 32ms/step - loss: 0.0652 - accuracy: 0.9800\n",
            "WARNING:tensorflow:Can save best model only with val_accuracy available, skipping.\n",
            "Epoch 45/200\n",
            "100/100 [==============================] - 3s 31ms/step - loss: 0.0654 - accuracy: 0.9812\n",
            "WARNING:tensorflow:Can save best model only with val_accuracy available, skipping.\n",
            "Epoch 46/200\n",
            "100/100 [==============================] - 3s 31ms/step - loss: 0.0779 - accuracy: 0.9787\n",
            "WARNING:tensorflow:Can save best model only with val_accuracy available, skipping.\n",
            "Epoch 47/200\n",
            "100/100 [==============================] - 3s 31ms/step - loss: 0.0732 - accuracy: 0.9787\n",
            "WARNING:tensorflow:Can save best model only with val_accuracy available, skipping.\n",
            "Epoch 48/200\n",
            "100/100 [==============================] - 3s 31ms/step - loss: 0.0644 - accuracy: 0.9833\n",
            "WARNING:tensorflow:Can save best model only with val_accuracy available, skipping.\n",
            "Epoch 49/200\n",
            "100/100 [==============================] - 3s 31ms/step - loss: 0.0785 - accuracy: 0.9812\n",
            "WARNING:tensorflow:Can save best model only with val_accuracy available, skipping.\n",
            "Epoch 50/200\n",
            "100/100 [==============================] - 3s 31ms/step - loss: 0.0676 - accuracy: 0.9817\n",
            "WARNING:tensorflow:Can save best model only with val_accuracy available, skipping.\n",
            "Epoch 51/200\n",
            "100/100 [==============================] - 3s 31ms/step - loss: 0.0509 - accuracy: 0.9842\n",
            "WARNING:tensorflow:Can save best model only with val_accuracy available, skipping.\n",
            "Epoch 52/200\n",
            "100/100 [==============================] - 3s 31ms/step - loss: 0.0531 - accuracy: 0.9867\n",
            "WARNING:tensorflow:Can save best model only with val_accuracy available, skipping.\n",
            "Epoch 53/200\n",
            "100/100 [==============================] - 3s 31ms/step - loss: 0.0522 - accuracy: 0.9842\n",
            "WARNING:tensorflow:Can save best model only with val_accuracy available, skipping.\n",
            "Epoch 54/200\n",
            "100/100 [==============================] - 3s 31ms/step - loss: 0.0491 - accuracy: 0.9871\n",
            "WARNING:tensorflow:Can save best model only with val_accuracy available, skipping.\n",
            "Epoch 55/200\n",
            "100/100 [==============================] - 3s 31ms/step - loss: 0.0654 - accuracy: 0.9833\n",
            "WARNING:tensorflow:Can save best model only with val_accuracy available, skipping.\n",
            "Epoch 56/200\n",
            "100/100 [==============================] - 3s 31ms/step - loss: 0.0494 - accuracy: 0.9887\n",
            "WARNING:tensorflow:Can save best model only with val_accuracy available, skipping.\n",
            "Epoch 57/200\n",
            "100/100 [==============================] - 3s 32ms/step - loss: 0.0565 - accuracy: 0.9829\n",
            "WARNING:tensorflow:Can save best model only with val_accuracy available, skipping.\n",
            "Epoch 58/200\n",
            "100/100 [==============================] - 3s 32ms/step - loss: 0.0533 - accuracy: 0.9875\n",
            "WARNING:tensorflow:Can save best model only with val_accuracy available, skipping.\n",
            "Epoch 59/200\n",
            "100/100 [==============================] - 3s 31ms/step - loss: 0.0529 - accuracy: 0.9846\n",
            "WARNING:tensorflow:Can save best model only with val_accuracy available, skipping.\n",
            "Epoch 60/200\n",
            "100/100 [==============================] - 3s 32ms/step - loss: 0.0496 - accuracy: 0.9871\n",
            "WARNING:tensorflow:Can save best model only with val_accuracy available, skipping.\n",
            "Epoch 61/200\n",
            "100/100 [==============================] - 3s 31ms/step - loss: 0.0472 - accuracy: 0.9862\n",
            "WARNING:tensorflow:Can save best model only with val_accuracy available, skipping.\n",
            "Epoch 62/200\n",
            "100/100 [==============================] - 3s 32ms/step - loss: 0.0466 - accuracy: 0.9858\n",
            "WARNING:tensorflow:Can save best model only with val_accuracy available, skipping.\n",
            "Epoch 63/200\n",
            "100/100 [==============================] - 3s 32ms/step - loss: 0.0449 - accuracy: 0.9883\n",
            "WARNING:tensorflow:Can save best model only with val_accuracy available, skipping.\n",
            "Epoch 64/200\n",
            "100/100 [==============================] - 3s 32ms/step - loss: 0.0516 - accuracy: 0.9829\n",
            "WARNING:tensorflow:Can save best model only with val_accuracy available, skipping.\n",
            "Epoch 65/200\n",
            "100/100 [==============================] - 3s 32ms/step - loss: 0.0442 - accuracy: 0.9887\n",
            "WARNING:tensorflow:Can save best model only with val_accuracy available, skipping.\n",
            "Epoch 66/200\n",
            "100/100 [==============================] - 3s 32ms/step - loss: 0.0446 - accuracy: 0.9875\n",
            "WARNING:tensorflow:Can save best model only with val_accuracy available, skipping.\n",
            "Epoch 67/200\n",
            "100/100 [==============================] - 3s 31ms/step - loss: 0.0389 - accuracy: 0.9908\n",
            "WARNING:tensorflow:Can save best model only with val_accuracy available, skipping.\n",
            "Epoch 68/200\n",
            "100/100 [==============================] - 3s 32ms/step - loss: 0.0523 - accuracy: 0.9862\n",
            "WARNING:tensorflow:Can save best model only with val_accuracy available, skipping.\n",
            "Epoch 69/200\n",
            "100/100 [==============================] - 3s 32ms/step - loss: 0.0465 - accuracy: 0.9887\n",
            "WARNING:tensorflow:Can save best model only with val_accuracy available, skipping.\n",
            "Epoch 70/200\n",
            "100/100 [==============================] - 3s 31ms/step - loss: 0.0374 - accuracy: 0.9908\n",
            "WARNING:tensorflow:Can save best model only with val_accuracy available, skipping.\n",
            "Epoch 71/200\n",
            "100/100 [==============================] - 3s 32ms/step - loss: 0.0354 - accuracy: 0.9908\n",
            "WARNING:tensorflow:Can save best model only with val_accuracy available, skipping.\n",
            "Epoch 72/200\n",
            "100/100 [==============================] - 3s 31ms/step - loss: 0.0363 - accuracy: 0.9908\n",
            "WARNING:tensorflow:Can save best model only with val_accuracy available, skipping.\n",
            "Epoch 73/200\n",
            "100/100 [==============================] - 3s 32ms/step - loss: 0.0408 - accuracy: 0.9887\n",
            "WARNING:tensorflow:Can save best model only with val_accuracy available, skipping.\n",
            "Epoch 74/200\n",
            "100/100 [==============================] - 3s 32ms/step - loss: 0.0444 - accuracy: 0.9887\n",
            "WARNING:tensorflow:Can save best model only with val_accuracy available, skipping.\n",
            "Epoch 75/200\n",
            "100/100 [==============================] - 3s 31ms/step - loss: 0.0431 - accuracy: 0.9896\n",
            "WARNING:tensorflow:Can save best model only with val_accuracy available, skipping.\n",
            "Epoch 76/200\n",
            "100/100 [==============================] - 3s 32ms/step - loss: 0.0317 - accuracy: 0.9917\n",
            "WARNING:tensorflow:Can save best model only with val_accuracy available, skipping.\n",
            "Epoch 77/200\n",
            "100/100 [==============================] - 3s 32ms/step - loss: 0.0342 - accuracy: 0.9900\n",
            "WARNING:tensorflow:Can save best model only with val_accuracy available, skipping.\n",
            "Epoch 78/200\n",
            "100/100 [==============================] - 3s 31ms/step - loss: 0.0435 - accuracy: 0.9887\n",
            "WARNING:tensorflow:Can save best model only with val_accuracy available, skipping.\n",
            "Epoch 79/200\n",
            "100/100 [==============================] - 3s 31ms/step - loss: 0.0254 - accuracy: 0.9921\n",
            "WARNING:tensorflow:Can save best model only with val_accuracy available, skipping.\n",
            "Epoch 80/200\n",
            "100/100 [==============================] - 3s 32ms/step - loss: 0.0349 - accuracy: 0.9908\n",
            "WARNING:tensorflow:Can save best model only with val_accuracy available, skipping.\n",
            "Epoch 81/200\n",
            "100/100 [==============================] - 3s 32ms/step - loss: 0.0310 - accuracy: 0.9900\n",
            "WARNING:tensorflow:Can save best model only with val_accuracy available, skipping.\n",
            "Epoch 82/200\n",
            "100/100 [==============================] - 3s 31ms/step - loss: 0.0248 - accuracy: 0.9937\n",
            "WARNING:tensorflow:Can save best model only with val_accuracy available, skipping.\n",
            "Epoch 83/200\n",
            "100/100 [==============================] - 3s 32ms/step - loss: 0.0323 - accuracy: 0.9908\n",
            "WARNING:tensorflow:Can save best model only with val_accuracy available, skipping.\n",
            "Epoch 84/200\n",
            "100/100 [==============================] - 3s 32ms/step - loss: 0.0246 - accuracy: 0.9933\n",
            "WARNING:tensorflow:Can save best model only with val_accuracy available, skipping.\n",
            "Epoch 85/200\n",
            "100/100 [==============================] - 3s 32ms/step - loss: 0.0378 - accuracy: 0.9887\n",
            "WARNING:tensorflow:Can save best model only with val_accuracy available, skipping.\n",
            "Epoch 86/200\n",
            "100/100 [==============================] - 3s 32ms/step - loss: 0.0321 - accuracy: 0.9929\n",
            "WARNING:tensorflow:Can save best model only with val_accuracy available, skipping.\n",
            "Epoch 87/200\n",
            "100/100 [==============================] - 3s 31ms/step - loss: 0.0330 - accuracy: 0.9912\n",
            "WARNING:tensorflow:Can save best model only with val_accuracy available, skipping.\n",
            "Epoch 88/200\n",
            "100/100 [==============================] - 3s 32ms/step - loss: 0.0286 - accuracy: 0.9896\n",
            "WARNING:tensorflow:Can save best model only with val_accuracy available, skipping.\n",
            "Epoch 89/200\n",
            "100/100 [==============================] - 3s 32ms/step - loss: 0.0305 - accuracy: 0.9900\n",
            "WARNING:tensorflow:Can save best model only with val_accuracy available, skipping.\n",
            "Epoch 90/200\n",
            "100/100 [==============================] - 3s 31ms/step - loss: 0.0445 - accuracy: 0.9883\n",
            "WARNING:tensorflow:Can save best model only with val_accuracy available, skipping.\n",
            "Epoch 91/200\n",
            "100/100 [==============================] - 3s 32ms/step - loss: 0.0431 - accuracy: 0.9887\n",
            "WARNING:tensorflow:Can save best model only with val_accuracy available, skipping.\n",
            "Epoch 92/200\n",
            "100/100 [==============================] - 3s 31ms/step - loss: 0.0345 - accuracy: 0.9900\n",
            "WARNING:tensorflow:Can save best model only with val_accuracy available, skipping.\n",
            "Epoch 93/200\n",
            "100/100 [==============================] - 3s 31ms/step - loss: 0.0217 - accuracy: 0.9921\n",
            "WARNING:tensorflow:Can save best model only with val_accuracy available, skipping.\n",
            "Epoch 94/200\n",
            "100/100 [==============================] - 3s 31ms/step - loss: 0.0274 - accuracy: 0.9937\n",
            "WARNING:tensorflow:Can save best model only with val_accuracy available, skipping.\n",
            "Epoch 95/200\n",
            "100/100 [==============================] - 3s 32ms/step - loss: 0.0320 - accuracy: 0.9912\n",
            "WARNING:tensorflow:Can save best model only with val_accuracy available, skipping.\n",
            "Epoch 96/200\n",
            "100/100 [==============================] - 3s 31ms/step - loss: 0.0260 - accuracy: 0.9937\n",
            "WARNING:tensorflow:Can save best model only with val_accuracy available, skipping.\n",
            "Epoch 97/200\n",
            "100/100 [==============================] - 3s 32ms/step - loss: 0.0262 - accuracy: 0.9912\n",
            "WARNING:tensorflow:Can save best model only with val_accuracy available, skipping.\n",
            "Epoch 98/200\n",
            "100/100 [==============================] - 3s 32ms/step - loss: 0.0296 - accuracy: 0.9900\n",
            "WARNING:tensorflow:Can save best model only with val_accuracy available, skipping.\n",
            "Epoch 99/200\n",
            "100/100 [==============================] - 3s 32ms/step - loss: 0.0282 - accuracy: 0.9929\n",
            "WARNING:tensorflow:Can save best model only with val_accuracy available, skipping.\n",
            "Epoch 100/200\n",
            "100/100 [==============================] - 3s 32ms/step - loss: 0.0362 - accuracy: 0.9912\n",
            "WARNING:tensorflow:Can save best model only with val_accuracy available, skipping.\n",
            "Epoch 101/200\n",
            "100/100 [==============================] - 3s 32ms/step - loss: 0.0288 - accuracy: 0.9917\n",
            "WARNING:tensorflow:Can save best model only with val_accuracy available, skipping.\n",
            "Epoch 102/200\n",
            "100/100 [==============================] - 3s 32ms/step - loss: 0.0255 - accuracy: 0.9933\n",
            "WARNING:tensorflow:Can save best model only with val_accuracy available, skipping.\n",
            "Epoch 103/200\n",
            "100/100 [==============================] - 3s 32ms/step - loss: 0.0311 - accuracy: 0.9900\n",
            "WARNING:tensorflow:Can save best model only with val_accuracy available, skipping.\n",
            "Epoch 104/200\n",
            "100/100 [==============================] - 3s 32ms/step - loss: 0.0310 - accuracy: 0.9912\n",
            "WARNING:tensorflow:Can save best model only with val_accuracy available, skipping.\n",
            "Epoch 105/200\n",
            "100/100 [==============================] - 3s 32ms/step - loss: 0.0282 - accuracy: 0.9929\n",
            "WARNING:tensorflow:Can save best model only with val_accuracy available, skipping.\n",
            "Epoch 106/200\n",
            "100/100 [==============================] - 3s 31ms/step - loss: 0.0188 - accuracy: 0.9958\n",
            "WARNING:tensorflow:Can save best model only with val_accuracy available, skipping.\n",
            "Epoch 107/200\n",
            "100/100 [==============================] - 3s 32ms/step - loss: 0.0215 - accuracy: 0.9937\n",
            "WARNING:tensorflow:Can save best model only with val_accuracy available, skipping.\n",
            "Epoch 108/200\n",
            "100/100 [==============================] - 3s 32ms/step - loss: 0.0268 - accuracy: 0.9937\n",
            "WARNING:tensorflow:Can save best model only with val_accuracy available, skipping.\n",
            "Epoch 109/200\n",
            "100/100 [==============================] - 3s 32ms/step - loss: 0.0190 - accuracy: 0.9937\n",
            "WARNING:tensorflow:Can save best model only with val_accuracy available, skipping.\n",
            "Epoch 110/200\n",
            "100/100 [==============================] - 3s 32ms/step - loss: 0.0207 - accuracy: 0.9950\n",
            "WARNING:tensorflow:Can save best model only with val_accuracy available, skipping.\n",
            "Epoch 111/200\n",
            "100/100 [==============================] - 3s 32ms/step - loss: 0.0213 - accuracy: 0.9925\n",
            "WARNING:tensorflow:Can save best model only with val_accuracy available, skipping.\n",
            "Epoch 112/200\n",
            "100/100 [==============================] - 3s 32ms/step - loss: 0.0215 - accuracy: 0.9950\n",
            "WARNING:tensorflow:Can save best model only with val_accuracy available, skipping.\n",
            "Epoch 113/200\n",
            "100/100 [==============================] - 3s 32ms/step - loss: 0.0179 - accuracy: 0.9958\n",
            "WARNING:tensorflow:Can save best model only with val_accuracy available, skipping.\n",
            "Epoch 114/200\n",
            "100/100 [==============================] - 3s 32ms/step - loss: 0.0300 - accuracy: 0.9908\n",
            "WARNING:tensorflow:Can save best model only with val_accuracy available, skipping.\n",
            "Epoch 115/200\n",
            "100/100 [==============================] - 3s 32ms/step - loss: 0.0311 - accuracy: 0.9912\n",
            "WARNING:tensorflow:Can save best model only with val_accuracy available, skipping.\n",
            "Epoch 116/200\n",
            "100/100 [==============================] - 3s 32ms/step - loss: 0.0226 - accuracy: 0.9929\n",
            "WARNING:tensorflow:Can save best model only with val_accuracy available, skipping.\n",
            "Epoch 117/200\n",
            "100/100 [==============================] - 3s 32ms/step - loss: 0.0245 - accuracy: 0.9933\n",
            "WARNING:tensorflow:Can save best model only with val_accuracy available, skipping.\n",
            "Epoch 118/200\n",
            "100/100 [==============================] - 3s 32ms/step - loss: 0.0231 - accuracy: 0.9954\n",
            "WARNING:tensorflow:Can save best model only with val_accuracy available, skipping.\n",
            "Epoch 119/200\n",
            "100/100 [==============================] - 3s 32ms/step - loss: 0.0274 - accuracy: 0.9937\n",
            "WARNING:tensorflow:Can save best model only with val_accuracy available, skipping.\n",
            "Epoch 120/200\n",
            "100/100 [==============================] - 3s 32ms/step - loss: 0.0315 - accuracy: 0.9917\n",
            "WARNING:tensorflow:Can save best model only with val_accuracy available, skipping.\n",
            "Epoch 121/200\n",
            "100/100 [==============================] - 3s 32ms/step - loss: 0.0184 - accuracy: 0.9962\n",
            "WARNING:tensorflow:Can save best model only with val_accuracy available, skipping.\n",
            "Epoch 122/200\n",
            "100/100 [==============================] - 3s 32ms/step - loss: 0.0185 - accuracy: 0.9942\n",
            "WARNING:tensorflow:Can save best model only with val_accuracy available, skipping.\n",
            "Epoch 123/200\n",
            "100/100 [==============================] - 3s 32ms/step - loss: 0.0147 - accuracy: 0.9958\n",
            "WARNING:tensorflow:Can save best model only with val_accuracy available, skipping.\n",
            "Epoch 124/200\n",
            "100/100 [==============================] - 3s 32ms/step - loss: 0.0272 - accuracy: 0.9912\n",
            "WARNING:tensorflow:Can save best model only with val_accuracy available, skipping.\n",
            "Epoch 125/200\n",
            "100/100 [==============================] - 3s 32ms/step - loss: 0.0242 - accuracy: 0.9942\n",
            "WARNING:tensorflow:Can save best model only with val_accuracy available, skipping.\n",
            "Epoch 126/200\n",
            "100/100 [==============================] - 3s 32ms/step - loss: 0.0200 - accuracy: 0.9942\n",
            "WARNING:tensorflow:Can save best model only with val_accuracy available, skipping.\n",
            "Epoch 127/200\n",
            "100/100 [==============================] - 3s 32ms/step - loss: 0.0176 - accuracy: 0.9971\n",
            "WARNING:tensorflow:Can save best model only with val_accuracy available, skipping.\n",
            "Epoch 128/200\n",
            "100/100 [==============================] - 3s 32ms/step - loss: 0.0247 - accuracy: 0.9933\n",
            "WARNING:tensorflow:Can save best model only with val_accuracy available, skipping.\n",
            "Epoch 129/200\n",
            "100/100 [==============================] - 3s 32ms/step - loss: 0.0185 - accuracy: 0.9946\n",
            "WARNING:tensorflow:Can save best model only with val_accuracy available, skipping.\n",
            "Epoch 130/200\n",
            "100/100 [==============================] - 3s 32ms/step - loss: 0.0133 - accuracy: 0.9971\n",
            "WARNING:tensorflow:Can save best model only with val_accuracy available, skipping.\n",
            "Epoch 131/200\n",
            "100/100 [==============================] - 3s 32ms/step - loss: 0.0133 - accuracy: 0.9958\n",
            "WARNING:tensorflow:Can save best model only with val_accuracy available, skipping.\n",
            "Epoch 132/200\n",
            "100/100 [==============================] - 3s 32ms/step - loss: 0.0180 - accuracy: 0.9958\n",
            "WARNING:tensorflow:Can save best model only with val_accuracy available, skipping.\n",
            "Epoch 133/200\n",
            "100/100 [==============================] - 3s 32ms/step - loss: 0.0202 - accuracy: 0.9946\n",
            "WARNING:tensorflow:Can save best model only with val_accuracy available, skipping.\n",
            "Epoch 134/200\n",
            "100/100 [==============================] - 3s 32ms/step - loss: 0.0175 - accuracy: 0.9967\n",
            "WARNING:tensorflow:Can save best model only with val_accuracy available, skipping.\n",
            "Epoch 135/200\n",
            "100/100 [==============================] - 3s 32ms/step - loss: 0.0285 - accuracy: 0.9921\n",
            "WARNING:tensorflow:Can save best model only with val_accuracy available, skipping.\n",
            "Epoch 136/200\n",
            "100/100 [==============================] - 3s 32ms/step - loss: 0.0123 - accuracy: 0.9967\n",
            "WARNING:tensorflow:Can save best model only with val_accuracy available, skipping.\n",
            "Epoch 137/200\n",
            "100/100 [==============================] - 3s 32ms/step - loss: 0.0178 - accuracy: 0.9954\n",
            "WARNING:tensorflow:Can save best model only with val_accuracy available, skipping.\n",
            "Epoch 138/200\n",
            "100/100 [==============================] - 3s 32ms/step - loss: 0.0175 - accuracy: 0.9942\n",
            "WARNING:tensorflow:Can save best model only with val_accuracy available, skipping.\n",
            "Epoch 139/200\n",
            "100/100 [==============================] - 3s 32ms/step - loss: 0.0185 - accuracy: 0.9954\n",
            "WARNING:tensorflow:Can save best model only with val_accuracy available, skipping.\n",
            "Epoch 140/200\n",
            "100/100 [==============================] - 3s 32ms/step - loss: 0.0137 - accuracy: 0.9954\n",
            "WARNING:tensorflow:Can save best model only with val_accuracy available, skipping.\n",
            "Epoch 141/200\n",
            "100/100 [==============================] - 3s 32ms/step - loss: 0.0156 - accuracy: 0.9954\n",
            "WARNING:tensorflow:Can save best model only with val_accuracy available, skipping.\n",
            "Epoch 142/200\n",
            "100/100 [==============================] - 3s 32ms/step - loss: 0.0168 - accuracy: 0.9946\n",
            "WARNING:tensorflow:Can save best model only with val_accuracy available, skipping.\n",
            "Epoch 143/200\n",
            "100/100 [==============================] - 3s 32ms/step - loss: 0.0287 - accuracy: 0.9937\n",
            "WARNING:tensorflow:Can save best model only with val_accuracy available, skipping.\n",
            "Epoch 144/200\n",
            "100/100 [==============================] - 3s 32ms/step - loss: 0.0130 - accuracy: 0.9954\n",
            "WARNING:tensorflow:Can save best model only with val_accuracy available, skipping.\n",
            "Epoch 145/200\n",
            "100/100 [==============================] - 3s 32ms/step - loss: 0.0125 - accuracy: 0.9958\n",
            "WARNING:tensorflow:Can save best model only with val_accuracy available, skipping.\n",
            "Epoch 146/200\n",
            "100/100 [==============================] - 3s 32ms/step - loss: 0.0179 - accuracy: 0.9950\n",
            "WARNING:tensorflow:Can save best model only with val_accuracy available, skipping.\n",
            "Epoch 147/200\n",
            "100/100 [==============================] - 3s 31ms/step - loss: 0.0162 - accuracy: 0.9954\n",
            "WARNING:tensorflow:Can save best model only with val_accuracy available, skipping.\n",
            "Epoch 148/200\n",
            "100/100 [==============================] - 3s 32ms/step - loss: 0.0116 - accuracy: 0.9971\n",
            "WARNING:tensorflow:Can save best model only with val_accuracy available, skipping.\n",
            "Epoch 149/200\n",
            "100/100 [==============================] - 3s 32ms/step - loss: 0.0141 - accuracy: 0.9950\n",
            "WARNING:tensorflow:Can save best model only with val_accuracy available, skipping.\n",
            "Epoch 150/200\n",
            "100/100 [==============================] - 3s 32ms/step - loss: 0.0152 - accuracy: 0.9958\n",
            "WARNING:tensorflow:Can save best model only with val_accuracy available, skipping.\n",
            "Epoch 151/200\n",
            "100/100 [==============================] - 3s 32ms/step - loss: 0.0147 - accuracy: 0.9962\n",
            "WARNING:tensorflow:Can save best model only with val_accuracy available, skipping.\n",
            "Epoch 152/200\n",
            "100/100 [==============================] - 3s 32ms/step - loss: 0.0102 - accuracy: 0.9971\n",
            "WARNING:tensorflow:Can save best model only with val_accuracy available, skipping.\n",
            "Epoch 153/200\n",
            "100/100 [==============================] - 3s 32ms/step - loss: 0.0147 - accuracy: 0.9958\n",
            "WARNING:tensorflow:Can save best model only with val_accuracy available, skipping.\n",
            "Epoch 154/200\n",
            "100/100 [==============================] - 3s 32ms/step - loss: 0.0257 - accuracy: 0.9937\n",
            "WARNING:tensorflow:Can save best model only with val_accuracy available, skipping.\n",
            "Epoch 155/200\n",
            "100/100 [==============================] - 3s 32ms/step - loss: 0.0222 - accuracy: 0.9933\n",
            "WARNING:tensorflow:Can save best model only with val_accuracy available, skipping.\n",
            "Epoch 156/200\n",
            "100/100 [==============================] - 3s 32ms/step - loss: 0.0110 - accuracy: 0.9971\n",
            "WARNING:tensorflow:Can save best model only with val_accuracy available, skipping.\n",
            "Epoch 157/200\n",
            "100/100 [==============================] - 3s 32ms/step - loss: 0.0136 - accuracy: 0.9958\n",
            "WARNING:tensorflow:Can save best model only with val_accuracy available, skipping.\n",
            "Epoch 158/200\n",
            "100/100 [==============================] - 3s 32ms/step - loss: 0.0180 - accuracy: 0.9942\n",
            "WARNING:tensorflow:Can save best model only with val_accuracy available, skipping.\n",
            "Epoch 159/200\n",
            "100/100 [==============================] - 3s 32ms/step - loss: 0.0163 - accuracy: 0.9950\n",
            "WARNING:tensorflow:Can save best model only with val_accuracy available, skipping.\n",
            "Epoch 160/200\n",
            "100/100 [==============================] - 3s 32ms/step - loss: 0.0151 - accuracy: 0.9954\n",
            "WARNING:tensorflow:Can save best model only with val_accuracy available, skipping.\n",
            "Epoch 161/200\n",
            "100/100 [==============================] - 3s 32ms/step - loss: 0.0227 - accuracy: 0.9917\n",
            "WARNING:tensorflow:Can save best model only with val_accuracy available, skipping.\n",
            "Epoch 162/200\n",
            "100/100 [==============================] - 3s 32ms/step - loss: 0.0175 - accuracy: 0.9958\n",
            "WARNING:tensorflow:Can save best model only with val_accuracy available, skipping.\n",
            "Epoch 163/200\n",
            "100/100 [==============================] - 3s 32ms/step - loss: 0.0130 - accuracy: 0.9962\n",
            "WARNING:tensorflow:Can save best model only with val_accuracy available, skipping.\n",
            "Epoch 164/200\n",
            "100/100 [==============================] - 3s 32ms/step - loss: 0.0096 - accuracy: 0.9979\n",
            "WARNING:tensorflow:Can save best model only with val_accuracy available, skipping.\n",
            "Epoch 165/200\n",
            "100/100 [==============================] - 3s 32ms/step - loss: 0.0099 - accuracy: 0.9975\n",
            "WARNING:tensorflow:Can save best model only with val_accuracy available, skipping.\n",
            "Epoch 166/200\n",
            "100/100 [==============================] - 3s 32ms/step - loss: 0.0122 - accuracy: 0.9971\n",
            "WARNING:tensorflow:Can save best model only with val_accuracy available, skipping.\n",
            "Epoch 167/200\n",
            "100/100 [==============================] - 3s 32ms/step - loss: 0.0131 - accuracy: 0.9967\n",
            "WARNING:tensorflow:Can save best model only with val_accuracy available, skipping.\n",
            "Epoch 168/200\n",
            "100/100 [==============================] - 3s 32ms/step - loss: 0.0191 - accuracy: 0.9946\n",
            "WARNING:tensorflow:Can save best model only with val_accuracy available, skipping.\n",
            "Epoch 169/200\n",
            "100/100 [==============================] - 3s 32ms/step - loss: 0.0191 - accuracy: 0.9929\n",
            "WARNING:tensorflow:Can save best model only with val_accuracy available, skipping.\n",
            "Epoch 170/200\n",
            "100/100 [==============================] - 3s 32ms/step - loss: 0.0141 - accuracy: 0.9950\n",
            "WARNING:tensorflow:Can save best model only with val_accuracy available, skipping.\n",
            "Epoch 171/200\n",
            "100/100 [==============================] - 3s 33ms/step - loss: 0.0195 - accuracy: 0.9950\n",
            "WARNING:tensorflow:Can save best model only with val_accuracy available, skipping.\n",
            "Epoch 172/200\n",
            "100/100 [==============================] - 3s 32ms/step - loss: 0.0157 - accuracy: 0.9958\n",
            "WARNING:tensorflow:Can save best model only with val_accuracy available, skipping.\n",
            "Epoch 173/200\n",
            "100/100 [==============================] - 3s 32ms/step - loss: 0.0114 - accuracy: 0.9962\n",
            "WARNING:tensorflow:Can save best model only with val_accuracy available, skipping.\n",
            "Epoch 174/200\n",
            "100/100 [==============================] - 3s 32ms/step - loss: 0.0139 - accuracy: 0.9967\n",
            "WARNING:tensorflow:Can save best model only with val_accuracy available, skipping.\n",
            "Epoch 175/200\n",
            "100/100 [==============================] - 3s 32ms/step - loss: 0.0071 - accuracy: 0.9979\n",
            "WARNING:tensorflow:Can save best model only with val_accuracy available, skipping.\n",
            "Epoch 176/200\n",
            "100/100 [==============================] - 3s 32ms/step - loss: 0.0079 - accuracy: 0.9983\n",
            "WARNING:tensorflow:Can save best model only with val_accuracy available, skipping.\n",
            "Epoch 177/200\n",
            "100/100 [==============================] - 3s 32ms/step - loss: 0.0094 - accuracy: 0.9975\n",
            "WARNING:tensorflow:Can save best model only with val_accuracy available, skipping.\n",
            "Epoch 178/200\n",
            "100/100 [==============================] - 3s 32ms/step - loss: 0.0051 - accuracy: 0.9996\n",
            "WARNING:tensorflow:Can save best model only with val_accuracy available, skipping.\n",
            "Epoch 179/200\n",
            "100/100 [==============================] - 3s 33ms/step - loss: 0.0056 - accuracy: 0.9992\n",
            "WARNING:tensorflow:Can save best model only with val_accuracy available, skipping.\n",
            "Epoch 180/200\n",
            "100/100 [==============================] - 3s 32ms/step - loss: 0.0132 - accuracy: 0.9962\n",
            "WARNING:tensorflow:Can save best model only with val_accuracy available, skipping.\n",
            "Epoch 181/200\n",
            "100/100 [==============================] - 3s 32ms/step - loss: 0.0244 - accuracy: 0.9937\n",
            "WARNING:tensorflow:Can save best model only with val_accuracy available, skipping.\n",
            "Epoch 182/200\n",
            "100/100 [==============================] - 3s 32ms/step - loss: 0.0204 - accuracy: 0.9942\n",
            "WARNING:tensorflow:Can save best model only with val_accuracy available, skipping.\n",
            "Epoch 183/200\n",
            "100/100 [==============================] - 3s 32ms/step - loss: 0.0141 - accuracy: 0.9962\n",
            "WARNING:tensorflow:Can save best model only with val_accuracy available, skipping.\n",
            "Epoch 184/200\n",
            "100/100 [==============================] - 3s 32ms/step - loss: 0.0110 - accuracy: 0.9975\n",
            "WARNING:tensorflow:Can save best model only with val_accuracy available, skipping.\n",
            "Epoch 185/200\n",
            "100/100 [==============================] - 3s 32ms/step - loss: 0.0064 - accuracy: 0.9992\n",
            "WARNING:tensorflow:Can save best model only with val_accuracy available, skipping.\n",
            "Epoch 186/200\n",
            "100/100 [==============================] - 3s 32ms/step - loss: 0.0095 - accuracy: 0.9975\n",
            "WARNING:tensorflow:Can save best model only with val_accuracy available, skipping.\n",
            "Epoch 187/200\n",
            "100/100 [==============================] - 3s 32ms/step - loss: 0.0073 - accuracy: 0.9979\n",
            "WARNING:tensorflow:Can save best model only with val_accuracy available, skipping.\n",
            "Epoch 188/200\n",
            "100/100 [==============================] - 3s 32ms/step - loss: 0.0120 - accuracy: 0.9962\n",
            "WARNING:tensorflow:Can save best model only with val_accuracy available, skipping.\n",
            "Epoch 189/200\n",
            "100/100 [==============================] - 3s 33ms/step - loss: 0.0168 - accuracy: 0.9962\n",
            "WARNING:tensorflow:Can save best model only with val_accuracy available, skipping.\n",
            "Epoch 190/200\n",
            "100/100 [==============================] - 3s 32ms/step - loss: 0.0140 - accuracy: 0.9962\n",
            "WARNING:tensorflow:Can save best model only with val_accuracy available, skipping.\n",
            "Epoch 191/200\n",
            "100/100 [==============================] - 3s 33ms/step - loss: 0.0141 - accuracy: 0.9950\n",
            "WARNING:tensorflow:Can save best model only with val_accuracy available, skipping.\n",
            "Epoch 192/200\n",
            "100/100 [==============================] - 3s 32ms/step - loss: 0.0137 - accuracy: 0.9975\n",
            "WARNING:tensorflow:Can save best model only with val_accuracy available, skipping.\n",
            "Epoch 193/200\n",
            "100/100 [==============================] - 3s 32ms/step - loss: 0.0159 - accuracy: 0.9962\n",
            "WARNING:tensorflow:Can save best model only with val_accuracy available, skipping.\n",
            "Epoch 194/200\n",
            "100/100 [==============================] - 3s 32ms/step - loss: 0.0185 - accuracy: 0.9962\n",
            "WARNING:tensorflow:Can save best model only with val_accuracy available, skipping.\n",
            "Epoch 195/200\n",
            "100/100 [==============================] - 3s 32ms/step - loss: 0.0123 - accuracy: 0.9967\n",
            "WARNING:tensorflow:Can save best model only with val_accuracy available, skipping.\n",
            "Epoch 196/200\n",
            "100/100 [==============================] - 3s 32ms/step - loss: 0.0089 - accuracy: 0.9975\n",
            "WARNING:tensorflow:Can save best model only with val_accuracy available, skipping.\n",
            "Epoch 197/200\n",
            "100/100 [==============================] - 3s 32ms/step - loss: 0.0100 - accuracy: 0.9971\n",
            "WARNING:tensorflow:Can save best model only with val_accuracy available, skipping.\n",
            "Epoch 198/200\n",
            "100/100 [==============================] - 3s 32ms/step - loss: 0.0052 - accuracy: 0.9992\n",
            "WARNING:tensorflow:Can save best model only with val_accuracy available, skipping.\n",
            "Epoch 199/200\n",
            "100/100 [==============================] - 3s 32ms/step - loss: 0.0092 - accuracy: 0.9975\n",
            "WARNING:tensorflow:Can save best model only with val_accuracy available, skipping.\n",
            "Epoch 200/200\n",
            "100/100 [==============================] - 3s 32ms/step - loss: 0.0135 - accuracy: 0.9958\n",
            "WARNING:tensorflow:Can save best model only with val_accuracy available, skipping.\n"
          ],
          "name": "stdout"
        }
      ]
    },
    {
      "cell_type": "code",
      "metadata": {
        "id": "integrated-optimization",
        "outputId": "853f53cb-fe07-49b6-e4d2-a82e1c1b692a",
        "colab": {
          "base_uri": "https://localhost:8080/"
        }
      },
      "source": [
        "# print(\"Evaluate on test data\")\n",
        "# results = model.evaluate(x_test, y_test, batch_size=24)\n",
        "# print(\"test loss, test acc:\", results)\n",
        "model.save(dir_path + 'Models/gestures_bidir', save_format='tf')"
      ],
      "id": "integrated-optimization",
      "execution_count": 16,
      "outputs": [
        {
          "output_type": "stream",
          "text": [
            "WARNING:absl:Found untraced functions such as lstm_cell_1_layer_call_fn, lstm_cell_1_layer_call_and_return_conditional_losses, lstm_cell_2_layer_call_fn, lstm_cell_2_layer_call_and_return_conditional_losses, lstm_cell_4_layer_call_fn while saving (showing 5 of 20). These functions will not be directly callable after loading.\n"
          ],
          "name": "stderr"
        },
        {
          "output_type": "stream",
          "text": [
            "INFO:tensorflow:Assets written to: ./drive/MyDrive/BAKA/Models/gestures_bidir/assets\n"
          ],
          "name": "stdout"
        },
        {
          "output_type": "stream",
          "text": [
            "INFO:tensorflow:Assets written to: ./drive/MyDrive/BAKA/Models/gestures_bidir/assets\n"
          ],
          "name": "stderr"
        }
      ]
    },
    {
      "cell_type": "code",
      "metadata": {
        "id": "faWZ2lOQ09Dj",
        "outputId": "9aba3c79-72c1-4cdf-a8c9-242be081c93d",
        "colab": {
          "base_uri": "https://localhost:8080/"
        }
      },
      "source": [
        "min_max_scaler.data_min_"
      ],
      "id": "faWZ2lOQ09Dj",
      "execution_count": 13,
      "outputs": [
        {
          "output_type": "execute_result",
          "data": {
            "text/plain": [
              "array([   0.    ,    0.    ,    0.    ,    0.    ,    0.    ,    0.    ,\n",
              "          0.    ,    0.    ,    0.    ,    0.    , -591.101 ,  -12.7777,\n",
              "       -190.142 , -626.233 ,    0.    , -238.535 , -648.629 ,    0.    ,\n",
              "       -251.495 , -643.156 ,    0.    , -243.005 , -675.481 ,    0.    ,\n",
              "       -220.466 , -607.075 ,    0.    , -158.459 ,    0.    ,    0.    ,\n",
              "          0.    ])"
            ]
          },
          "metadata": {
            "tags": []
          },
          "execution_count": 13
        }
      ]
    },
    {
      "cell_type": "code",
      "metadata": {
        "id": "qLaXSPfzPA8k",
        "outputId": "e0fe02b4-a77a-4f89-dd6a-b88e6d239919",
        "colab": {
          "base_uri": "https://localhost:8080/"
        }
      },
      "source": [
        "min_max_scaler.data_max_"
      ],
      "id": "qLaXSPfzPA8k",
      "execution_count": 14,
      "outputs": [
        {
          "output_type": "execute_result",
          "data": {
            "text/plain": [
              "array([179.999, 180.   , 180.   , 179.999, 179.997, 180.   , 179.968,\n",
              "       180.   , 179.985, 179.96 , 539.053, 468.363, 720.07 , 581.654,\n",
              "       522.811, 709.384, 585.01 , 508.522, 705.543, 567.779, 478.013,\n",
              "       702.861, 544.45 , 478.722, 693.173, 499.893, 466.308, 707.228,\n",
              "       107.126, 161.082, 127.977])"
            ]
          },
          "metadata": {
            "tags": []
          },
          "execution_count": 14
        }
      ]
    },
    {
      "cell_type": "code",
      "metadata": {
        "id": "NOWq0Fev1RI-",
        "outputId": "a30900f8-4177-45ec-9092-cc1a4964397a",
        "colab": {
          "base_uri": "https://localhost:8080/"
        }
      },
      "source": [
        "model.input"
      ],
      "id": "NOWq0Fev1RI-",
      "execution_count": 15,
      "outputs": [
        {
          "output_type": "execute_result",
          "data": {
            "text/plain": [
              "<KerasTensor: shape=(None, 60, 31) dtype=float64 (created by layer 'bidirectional_input')>"
            ]
          },
          "metadata": {
            "tags": []
          },
          "execution_count": 15
        }
      ]
    },
    {
      "cell_type": "code",
      "metadata": {
        "id": "FhIACF0-aQgh"
      },
      "source": [
        ""
      ],
      "id": "FhIACF0-aQgh",
      "execution_count": 15,
      "outputs": []
    }
  ]
}